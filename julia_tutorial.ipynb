{
 "cells": [
  {
   "cell_type": "markdown",
   "metadata": {
    "deletable": true,
    "editable": true
   },
   "source": [
    "## 00.getting started \n",
    "1. how to print\n",
    "2. assing variables\n",
    "3. commet\n",
    "4. syntax for basic math"
   ]
  },
  {
   "cell_type": "code",
   "execution_count": 1,
   "metadata": {
    "collapsed": false,
    "deletable": true,
    "editable": true
   },
   "outputs": [
    {
     "name": "stdout",
     "output_type": "stream",
     "text": [
      "I'm excited to learn Julia!\n"
     ]
    }
   ],
   "source": [
    "println(\"I'm excited to learn Julia!\")"
   ]
  },
  {
   "cell_type": "code",
   "execution_count": 2,
   "metadata": {
    "collapsed": false,
    "deletable": true,
    "editable": true
   },
   "outputs": [
    {
     "data": {
      "text/plain": [
       "Int64"
      ]
     },
     "execution_count": 2,
     "metadata": {},
     "output_type": "execute_result"
    }
   ],
   "source": [
    "my_answer = 42\n",
    "typeof(my_answer)"
   ]
  },
  {
   "cell_type": "code",
   "execution_count": 3,
   "metadata": {
    "collapsed": false,
    "deletable": true,
    "editable": true
   },
   "outputs": [
    {
     "data": {
      "text/plain": [
       "Float64"
      ]
     },
     "execution_count": 3,
     "metadata": {},
     "output_type": "execute_result"
    }
   ],
   "source": [
    "my_pi = 3.14159\n",
    "typeof(my_pi)"
   ]
  },
  {
   "cell_type": "code",
   "execution_count": 4,
   "metadata": {
    "collapsed": false,
    "deletable": true,
    "editable": true
   },
   "outputs": [
    {
     "data": {
      "text/plain": [
       "String"
      ]
     },
     "execution_count": 4,
     "metadata": {},
     "output_type": "execute_result"
    }
   ],
   "source": [
    "😺 = \"smiley cat!\"\n",
    "typeof(😺)"
   ]
  },
  {
   "cell_type": "code",
   "execution_count": 5,
   "metadata": {
    "collapsed": false,
    "deletable": true,
    "editable": true
   },
   "outputs": [
    {
     "ename": "LoadError",
     "evalue": "syntax: \"\\\" is not a unary operator",
     "output_type": "error",
     "traceback": [
      "syntax: \"\\\" is not a unary operator",
      "",
      "Stacktrace:",
      " [1] top-level scope at In[5]:1",
      " [2] include_string(::Function, ::Module, ::String, ::String) at ./loading.jl:1091",
      " [3] execute_code(::String, ::String) at /Users/jinseulpark/.julia/packages/IJulia/rWZ9e/src/execute_request.jl:27",
      " [4] execute_request(::ZMQ.Socket, ::IJulia.Msg) at /Users/jinseulpark/.julia/packages/IJulia/rWZ9e/src/execute_request.jl:86",
      " [5] #invokelatest#1 at ./essentials.jl:710 [inlined]",
      " [6] invokelatest at ./essentials.jl:709 [inlined]",
      " [7] eventloop(::ZMQ.Socket) at /Users/jinseulpark/.julia/packages/IJulia/rWZ9e/src/eventloop.jl:8",
      " [8] (::IJulia.var\"#15#18\")() at ./task.jl:356"
     ]
    }
   ],
   "source": [
    "\\:smiAssertionError"
   ]
  },
  {
   "cell_type": "code",
   "execution_count": 6,
   "metadata": {
    "collapsed": false,
    "deletable": true,
    "editable": true
   },
   "outputs": [
    {
     "data": {
      "text/plain": [
       "false"
      ]
     },
     "execution_count": 6,
     "metadata": {},
     "output_type": "execute_result"
    }
   ],
   "source": [
    "a = 0\n",
    "b = -1\n",
    "b + a == 1"
   ]
  },
  {
   "cell_type": "code",
   "execution_count": 7,
   "metadata": {
    "collapsed": true,
    "deletable": true,
    "editable": true
   },
   "outputs": [],
   "source": [
    "# 이렇게 하면 단일 코멘트 달 수 있다"
   ]
  },
  {
   "cell_type": "code",
   "execution_count": 8,
   "metadata": {
    "collapsed": false,
    "deletable": true,
    "editable": true
   },
   "outputs": [
    {
     "name": "stdout",
     "output_type": "stream",
     "text": [
      "-1\n"
     ]
    }
   ],
   "source": [
    "#= 이렇게 하면 멀티 코멘트 달 수 있다\n",
    "굳이 추가 # 를 달지 않아도 가능하다\n",
    "맨 마지막 =#\n",
    "println(a + b)"
   ]
  },
  {
   "cell_type": "code",
   "execution_count": 9,
   "metadata": {
    "collapsed": false,
    "deletable": true,
    "editable": true
   },
   "outputs": [
    {
     "data": {
      "text/plain": [
       "10"
      ]
     },
     "execution_count": 9,
     "metadata": {},
     "output_type": "execute_result"
    }
   ],
   "source": [
    "sum = 3 + 7"
   ]
  },
  {
   "cell_type": "code",
   "execution_count": 10,
   "metadata": {
    "collapsed": false,
    "deletable": true,
    "editable": true
   },
   "outputs": [
    {
     "data": {
      "text/plain": [
       "7"
      ]
     },
     "execution_count": 10,
     "metadata": {},
     "output_type": "execute_result"
    }
   ],
   "source": [
    "difference = 10 - 3"
   ]
  },
  {
   "cell_type": "code",
   "execution_count": 11,
   "metadata": {
    "collapsed": false,
    "deletable": true,
    "editable": true
   },
   "outputs": [
    {
     "data": {
      "text/plain": [
       "100"
      ]
     },
     "execution_count": 11,
     "metadata": {},
     "output_type": "execute_result"
    }
   ],
   "source": [
    "product = 20 * 5"
   ]
  },
  {
   "cell_type": "code",
   "execution_count": 12,
   "metadata": {
    "collapsed": false,
    "deletable": true,
    "editable": true
   },
   "outputs": [
    {
     "data": {
      "text/plain": [
       "10.0"
      ]
     },
     "execution_count": 12,
     "metadata": {},
     "output_type": "execute_result"
    }
   ],
   "source": [
    "quotient = 100 / 10"
   ]
  },
  {
   "cell_type": "code",
   "execution_count": 13,
   "metadata": {
    "collapsed": false,
    "deletable": true,
    "editable": true
   },
   "outputs": [
    {
     "data": {
      "text/plain": [
       "100"
      ]
     },
     "execution_count": 13,
     "metadata": {},
     "output_type": "execute_result"
    }
   ],
   "source": [
    "power = 10 ^ 2"
   ]
  },
  {
   "cell_type": "code",
   "execution_count": 14,
   "metadata": {
    "collapsed": false,
    "deletable": true,
    "editable": true
   },
   "outputs": [
    {
     "data": {
      "text/plain": [
       "1"
      ]
     },
     "execution_count": 14,
     "metadata": {},
     "output_type": "execute_result"
    }
   ],
   "source": [
    "modulus = 101 % 2"
   ]
  },
  {
   "cell_type": "code",
   "execution_count": 15,
   "metadata": {
    "collapsed": false,
    "deletable": true,
    "editable": true
   },
   "outputs": [
    {
     "data": {
      "text/plain": [
       "365.0"
      ]
     },
     "execution_count": 15,
     "metadata": {},
     "output_type": "execute_result"
    }
   ],
   "source": [
    "days = 365\n",
    "days_float = 365.0"
   ]
  },
  {
   "cell_type": "markdown",
   "metadata": {
    "deletable": true,
    "editable": true
   },
   "source": [
    "## 01.String\n",
    "1. string 넣기\n",
    "2. string 삽입\n",
    "3. string 합치기"
   ]
  },
  {
   "cell_type": "code",
   "execution_count": 16,
   "metadata": {
    "collapsed": true,
    "deletable": true,
    "editable": true
   },
   "outputs": [],
   "source": [
    "#1.  \" \" 또는 \"\"\" \"\"\" 로 string 만들 수 있음"
   ]
  },
  {
   "cell_type": "code",
   "execution_count": 17,
   "metadata": {
    "collapsed": false,
    "deletable": true,
    "editable": true
   },
   "outputs": [
    {
     "data": {
      "text/plain": [
       "\"I am also a string.\""
      ]
     },
     "execution_count": 17,
     "metadata": {},
     "output_type": "execute_result"
    }
   ],
   "source": [
    "s1 = \"I am a string.\"\n",
    "s2 = \"\"\"I am also a string.\"\"\""
   ]
  },
  {
   "cell_type": "code",
   "execution_count": 18,
   "metadata": {
    "collapsed": false,
    "deletable": true,
    "editable": true
   },
   "outputs": [
    {
     "name": "stdout",
     "output_type": "stream",
     "text": [
      "StringString\n"
     ]
    }
   ],
   "source": [
    "println(typeof(s1), typeof(s2))"
   ]
  },
  {
   "cell_type": "code",
   "execution_count": 19,
   "metadata": {
    "collapsed": false,
    "deletable": true,
    "editable": true
   },
   "outputs": [
    {
     "data": {
      "text/plain": [
       "\"hey, i got \\\"this\\\" clue \""
      ]
     },
     "execution_count": 19,
     "metadata": {},
     "output_type": "execute_result"
    }
   ],
   "source": [
    "#\"Hey, if you use double \"\" in this\"  # error\n",
    "\"\"\"hey, i got \"this\" clue \"\"\""
   ]
  },
  {
   "cell_type": "code",
   "execution_count": 20,
   "metadata": {
    "collapsed": false,
    "deletable": true,
    "editable": true
   },
   "outputs": [
    {
     "data": {
      "text/plain": [
       "Char"
      ]
     },
     "execution_count": 20,
     "metadata": {},
     "output_type": "execute_result"
    }
   ],
   "source": [
    "# ' ' 는 string 아니고 Char \n",
    "typeof('a')"
   ]
  },
  {
   "cell_type": "code",
   "execution_count": 21,
   "metadata": {
    "collapsed": false,
    "deletable": true,
    "editable": true
   },
   "outputs": [
    {
     "data": {
      "text/plain": [
       "10"
      ]
     },
     "execution_count": 21,
     "metadata": {},
     "output_type": "execute_result"
    }
   ],
   "source": [
    "#2. 문자를 삽입해보자\n",
    "name = \"Jane\"\n",
    "num_fingers = 10\n",
    "num_toes = 10"
   ]
  },
  {
   "cell_type": "code",
   "execution_count": 22,
   "metadata": {
    "collapsed": false,
    "deletable": true,
    "editable": true
   },
   "outputs": [
    {
     "name": "stdout",
     "output_type": "stream",
     "text": [
      "Hello, my name is Jane.\n",
      "I have 10 fingers and 10 toes\n",
      "That is 20 digits in all!\n"
     ]
    }
   ],
   "source": [
    "println(\"Hello, my name is $name.\")\n",
    "println(\"I have $num_fingers fingers and $num_toes toes\")\n",
    "println(\"That is $(num_fingers + num_toes) digits in all!\")"
   ]
  },
  {
   "cell_type": "code",
   "execution_count": 23,
   "metadata": {
    "collapsed": false,
    "deletable": true,
    "editable": true
   },
   "outputs": [
    {
     "data": {
      "text/plain": [
       "10"
      ]
     },
     "execution_count": 23,
     "metadata": {},
     "output_type": "execute_result"
    }
   ],
   "source": [
    "#3. 문자 합치는 것에는 여러가지 방법이 있다\n",
    "s3 = \"how many cats \";\n",
    "s4 = \" is too many cats?\";\n",
    "cat = 10"
   ]
  },
  {
   "cell_type": "code",
   "execution_count": 24,
   "metadata": {
    "collapsed": false,
    "deletable": true,
    "editable": true
   },
   "outputs": [
    {
     "data": {
      "text/plain": [
       "\"how many cats  is too many cats?\""
      ]
     },
     "execution_count": 24,
     "metadata": {},
     "output_type": "execute_result"
    }
   ],
   "source": [
    "string(s3, s4)"
   ]
  },
  {
   "cell_type": "code",
   "execution_count": 25,
   "metadata": {
    "collapsed": false,
    "deletable": true,
    "editable": true
   },
   "outputs": [
    {
     "data": {
      "text/plain": [
       "\"idk, but 10 is too few\""
      ]
     },
     "execution_count": 25,
     "metadata": {},
     "output_type": "execute_result"
    }
   ],
   "source": [
    "string(\"idk, but \", cat, \" is too few\")"
   ]
  },
  {
   "cell_type": "code",
   "execution_count": 26,
   "metadata": {
    "collapsed": false,
    "deletable": true,
    "editable": true
   },
   "outputs": [
    {
     "data": {
      "text/plain": [
       "\"how many cats  is too many cats?\""
      ]
     },
     "execution_count": 26,
     "metadata": {},
     "output_type": "execute_result"
    }
   ],
   "source": [
    "# * 를 사용해서 스트링 합치기도 가능하다\n",
    "s3 * s4"
   ]
  },
  {
   "cell_type": "code",
   "execution_count": 27,
   "metadata": {
    "collapsed": false,
    "deletable": true,
    "editable": true
   },
   "outputs": [
    {
     "data": {
      "text/plain": [
       "\"hihihihihihihihihihihihihihihihihihihihihihihihihihihihihihihihihihihihihihihihihihihihihihihihihihihihihihihihihihihihihihihihihihihihihihihihihihihihihihihihihihihihihihihihihihihihihihihihihihihihihihihihihihihihihihihihihihihihihihihihihihihihihihihihihihihihihihihihihihihihihihihihihihihihihihihihihihihihihihihihihihihihihihihihihihihihihihihihihihihihihihihihihihihihihihihihihihihihihihihihihihihihihihihihihihihihihihihihihihihihihihihihihihihihihihihihihihihihihihihihihihihihihihihihihihihihihihihihihihihihihihihihihihihihihihihihihihihihihihihihihihihihihihihihihihihihihihihihihihihihihihihihihihihihihihihihihihihihihihihihihihihihihihihihihihihihihihihihihihihihihihihihihihihihihihihihihihihihihihihihihihihihihihihihihihihihihihihihihihihihihihihihihihihihihihihihihihihihihihihihihihihihihihihihihihihihihihihihihihihihihihihihihihihihihihihihihihihihihihihihihihihihihihihihihihihihihihihihihihihihihihihihihihihihihihihihihihihihihihihihihihihihihihihihihihihihihihihihihihihihihihihihihihihihihihihihihihihihihihihihihihihihihihihihihihihihihihihihihihihihihihihihihihihihihihihihihihihihihihihihihihihihihihihihihihihihihihihihihihihihihihihihihihihihihihihihihihihihihihihihihihihihihihihihihihihihihihihihihihihihihihihihihihihihihihihihihihihihihihihihihihihihihihihihihihihihihihihihihihihihihihihihihihihihihihihihihihihihihihihihihihihihihihihihihihihihihihihihihihihihihihihihihihihihihihihihihihihihihihihihihihihihihihihihihihihihihihihihihihihihihihihihihihihihihihihihihihihihihihihihihihihihihihihihihihihihihihihihihihihihihihihihihihihihihihihihihihihihihihihihihihihihihihihihihihihihihihihihihihihihihihihihihihihihihihihihihihihihihihihihihihihihihihihihihihihihihihihihihihihihihihihihihihihihihihihihihihihihihihihihihihihihihihihihihihihihihihihihihihihihihihihihihihihihihihihihihihihihihihihihihihihihihihihihihihihihihihihihihihihihihihihihihihihihihihihihihihihihihihihihihihihihihihihihihihihihihihihihihihihihihihihihihihihihihihihihihihihihihihihihi\""
      ]
     },
     "execution_count": 27,
     "metadata": {},
     "output_type": "execute_result"
    }
   ],
   "source": [
    "hi = \"hi\" ^ 1000"
   ]
  },
  {
   "cell_type": "code",
   "execution_count": 28,
   "metadata": {
    "collapsed": false,
    "deletable": true,
    "editable": true
   },
   "outputs": [
    {
     "data": {
      "text/plain": [
       "\"7\""
      ]
     },
     "execution_count": 28,
     "metadata": {},
     "output_type": "execute_result"
    }
   ],
   "source": [
    "a = 3\n",
    "b = 4\n",
    "c = \"3 + 4\"\n",
    "d = \"7\""
   ]
  },
  {
   "cell_type": "markdown",
   "metadata": {
    "deletable": true,
    "editable": true
   },
   "source": [
    "## 02. Data structures\n",
    "1. 튜플\n",
    "2. 딕셔너리\n",
    "3. 어레이"
   ]
  },
  {
   "cell_type": "code",
   "execution_count": 29,
   "metadata": {
    "collapsed": false,
    "deletable": true,
    "editable": true
   },
   "outputs": [
    {
     "data": {
      "text/plain": [
       "Tuple{String,String,String}"
      ]
     },
     "execution_count": 29,
     "metadata": {},
     "output_type": "execute_result"
    }
   ],
   "source": [
    "#1. 튜플 ? () 로 만들 수 있다\n",
    "myf_animal = (\"penguins\",\"cats\",\"rabbit\")\n",
    "typeof(myf_animal)"
   ]
  },
  {
   "cell_type": "code",
   "execution_count": 30,
   "metadata": {
    "collapsed": false,
    "deletable": true,
    "editable": true
   },
   "outputs": [
    {
     "data": {
      "text/plain": [
       "\"penguins\""
      ]
     },
     "execution_count": 30,
     "metadata": {},
     "output_type": "execute_result"
    }
   ],
   "source": [
    "myf_animal[1] # 튜플은 1부터 시작한다"
   ]
  },
  {
   "cell_type": "code",
   "execution_count": 31,
   "metadata": {
    "collapsed": false,
    "deletable": true,
    "editable": true
   },
   "outputs": [
    {
     "data": {
      "text/plain": [
       "(bird = \"penguins\", mammal = \"cats\", fishs = \"small_fish\")"
      ]
     },
     "execution_count": 31,
     "metadata": {},
     "output_type": "execute_result"
    }
   ],
   "source": [
    "#1.1 namedTuples\n",
    "myf_ = (bird = \"penguins\", mammal = \"cats\", fishs = \"small_fish\")"
   ]
  },
  {
   "cell_type": "code",
   "execution_count": 32,
   "metadata": {
    "collapsed": false,
    "deletable": true,
    "editable": true
   },
   "outputs": [
    {
     "data": {
      "text/plain": [
       "true"
      ]
     },
     "execution_count": 32,
     "metadata": {},
     "output_type": "execute_result"
    }
   ],
   "source": [
    "myf_[1] == myf_.bird"
   ]
  },
  {
   "cell_type": "code",
   "execution_count": 33,
   "metadata": {
    "collapsed": false,
    "deletable": true,
    "editable": true
   },
   "outputs": [
    {
     "data": {
      "text/plain": [
       "Dict{String,String} with 2 entries:\n",
       "  \"ella\"  => \"6786-2342\"\n",
       "  \"jenny\" => \"1234-5678\""
      ]
     },
     "execution_count": 33,
     "metadata": {},
     "output_type": "execute_result"
    }
   ],
   "source": [
    "#2. 사전형, 딕셔너리 Dict(key => value)\n",
    "\n",
    "myp = Dict(\"jenny\" => \"1234-5678\",\n",
    "\"ella\" => \"6786-2342\")"
   ]
  },
  {
   "cell_type": "code",
   "execution_count": 34,
   "metadata": {
    "collapsed": false,
    "deletable": true,
    "editable": true
   },
   "outputs": [
    {
     "data": {
      "text/plain": [
       "\"6786-2342\""
      ]
     },
     "execution_count": 34,
     "metadata": {},
     "output_type": "execute_result"
    }
   ],
   "source": [
    "myp[\"ella\"]"
   ]
  },
  {
   "cell_type": "code",
   "execution_count": 35,
   "metadata": {
    "collapsed": false,
    "deletable": true,
    "editable": true
   },
   "outputs": [
    {
     "data": {
      "text/plain": [
       "\"1142-2349\""
      ]
     },
     "execution_count": 35,
     "metadata": {},
     "output_type": "execute_result"
    }
   ],
   "source": [
    "myp[\"mark\"] = \"1142-2349\""
   ]
  },
  {
   "cell_type": "code",
   "execution_count": 36,
   "metadata": {
    "collapsed": false,
    "deletable": true,
    "editable": true
   },
   "outputs": [
    {
     "data": {
      "text/plain": [
       "Dict{String,String} with 3 entries:\n",
       "  \"ella\"  => \"6786-2342\"\n",
       "  \"jenny\" => \"1234-5678\"\n",
       "  \"mark\"  => \"1142-2349\""
      ]
     },
     "execution_count": 36,
     "metadata": {},
     "output_type": "execute_result"
    }
   ],
   "source": [
    "myp"
   ]
  },
  {
   "cell_type": "code",
   "execution_count": 37,
   "metadata": {
    "collapsed": false,
    "deletable": true,
    "editable": true
   },
   "outputs": [
    {
     "data": {
      "text/plain": [
       "\"1234-5678\""
      ]
     },
     "execution_count": 37,
     "metadata": {},
     "output_type": "execute_result"
    }
   ],
   "source": [
    "pop!(myp, \"jenny\")"
   ]
  },
  {
   "cell_type": "code",
   "execution_count": 38,
   "metadata": {
    "collapsed": false,
    "deletable": true,
    "editable": true
   },
   "outputs": [
    {
     "data": {
      "text/plain": [
       "Dict{String,String} with 2 entries:\n",
       "  \"ella\" => \"6786-2342\"\n",
       "  \"mark\" => \"1142-2349\""
      ]
     },
     "execution_count": 38,
     "metadata": {},
     "output_type": "execute_result"
    }
   ],
   "source": [
    "myp"
   ]
  },
  {
   "cell_type": "code",
   "execution_count": 39,
   "metadata": {
    "collapsed": false,
    "deletable": true,
    "editable": true
   },
   "outputs": [
    {
     "data": {
      "text/plain": [
       "4-element Array{String,1}:\n",
       " \"Ted\"\n",
       " \"ella\"\n",
       " \"Jamie\"\n",
       " \"Nill\""
      ]
     },
     "execution_count": 39,
     "metadata": {},
     "output_type": "execute_result"
    }
   ],
   "source": [
    "#3. 어레이\n",
    "myfriends = [\"Ted\", \"ella\", \"Jamie\", \"Nill\"]"
   ]
  },
  {
   "cell_type": "code",
   "execution_count": 40,
   "metadata": {
    "collapsed": false,
    "deletable": true,
    "editable": true
   },
   "outputs": [
    {
     "data": {
      "text/plain": [
       "7-element Array{Int64,1}:\n",
       "  1\n",
       "  1\n",
       "  2\n",
       "  3\n",
       "  5\n",
       "  8\n",
       " 13"
      ]
     },
     "execution_count": 40,
     "metadata": {},
     "output_type": "execute_result"
    }
   ],
   "source": [
    "fibonacci = [1, 1, 2, 3, 5, 8, 13]"
   ]
  },
  {
   "cell_type": "code",
   "execution_count": 41,
   "metadata": {
    "collapsed": false,
    "deletable": true,
    "editable": true
   },
   "outputs": [
    {
     "data": {
      "text/plain": [
       "2"
      ]
     },
     "execution_count": 41,
     "metadata": {},
     "output_type": "execute_result"
    }
   ],
   "source": [
    "fibonacci[3]"
   ]
  },
  {
   "cell_type": "code",
   "execution_count": 42,
   "metadata": {
    "collapsed": false,
    "deletable": true,
    "editable": true,
    "scrolled": true
   },
   "outputs": [
    {
     "data": {
      "text/plain": [
       "\"haha\""
      ]
     },
     "execution_count": 42,
     "metadata": {},
     "output_type": "execute_result"
    }
   ],
   "source": [
    "myfriends[3] = \"haha\""
   ]
  },
  {
   "cell_type": "code",
   "execution_count": 43,
   "metadata": {
    "collapsed": false,
    "deletable": true,
    "editable": true
   },
   "outputs": [
    {
     "data": {
      "text/plain": [
       "4-element Array{String,1}:\n",
       " \"Ted\"\n",
       " \"ella\"\n",
       " \"haha\"\n",
       " \"Nill\""
      ]
     },
     "execution_count": 43,
     "metadata": {},
     "output_type": "execute_result"
    }
   ],
   "source": [
    "myfriends"
   ]
  },
  {
   "cell_type": "code",
   "execution_count": 44,
   "metadata": {
    "collapsed": false,
    "deletable": true,
    "editable": true
   },
   "outputs": [
    {
     "data": {
      "text/plain": [
       "8-element Array{Int64,1}:\n",
       "  1\n",
       "  1\n",
       "  2\n",
       "  3\n",
       "  5\n",
       "  8\n",
       " 13\n",
       " 21"
      ]
     },
     "execution_count": 44,
     "metadata": {},
     "output_type": "execute_result"
    }
   ],
   "source": [
    "push!(fibonacci, 21)"
   ]
  },
  {
   "cell_type": "code",
   "execution_count": 45,
   "metadata": {
    "collapsed": false,
    "deletable": true,
    "editable": true
   },
   "outputs": [
    {
     "data": {
      "text/plain": [
       "21"
      ]
     },
     "execution_count": 45,
     "metadata": {},
     "output_type": "execute_result"
    }
   ],
   "source": [
    "pop!(fibonacci) # pop 을 하면 제일 마지막 원소가 사라진다"
   ]
  },
  {
   "cell_type": "code",
   "execution_count": 46,
   "metadata": {
    "collapsed": false,
    "deletable": true,
    "editable": true
   },
   "outputs": [
    {
     "data": {
      "text/plain": [
       "7-element Array{Int64,1}:\n",
       "  1\n",
       "  1\n",
       "  2\n",
       "  3\n",
       "  5\n",
       "  8\n",
       " 13"
      ]
     },
     "execution_count": 46,
     "metadata": {},
     "output_type": "execute_result"
    }
   ],
   "source": [
    "fibonacci"
   ]
  },
  {
   "cell_type": "code",
   "execution_count": 47,
   "metadata": {
    "collapsed": false,
    "deletable": true,
    "editable": true
   },
   "outputs": [
    {
     "data": {
      "text/plain": [
       "2-element Array{Array{String,1},1}:\n",
       " [\"koobideh\", \"chocolat\", \"eggs\"]\n",
       " [\"penguines\", \"cats\", \"sugarliders\"]"
      ]
     },
     "execution_count": 47,
     "metadata": {},
     "output_type": "execute_result"
    }
   ],
   "source": [
    "favorites = [[\"koobideh\", \"chocolat\", \"eggs\"], [\"penguines\", \"cats\", \"sugarliders\"]]"
   ]
  },
  {
   "cell_type": "code",
   "execution_count": 48,
   "metadata": {
    "collapsed": false,
    "deletable": true,
    "editable": true
   },
   "outputs": [
    {
     "data": {
      "text/plain": [
       "3-element Array{Array{Int64,1},1}:\n",
       " [1, 2, 3]\n",
       " [4, 5]\n",
       " [6, 7, 8, 9]"
      ]
     },
     "execution_count": 48,
     "metadata": {},
     "output_type": "execute_result"
    }
   ],
   "source": [
    "numbers = [[1,2,3],[4,5], [6,7,8,9]]"
   ]
  },
  {
   "cell_type": "code",
   "execution_count": 49,
   "metadata": {
    "collapsed": false,
    "deletable": true,
    "editable": true
   },
   "outputs": [
    {
     "data": {
      "text/plain": [
       "4×3 Array{Float64,2}:\n",
       " 0.350337   0.0357072  0.0361416\n",
       " 0.0140972  0.203035   0.808335\n",
       " 0.276643   0.671833   0.191888\n",
       " 0.755211   0.672356   0.656547"
      ]
     },
     "execution_count": 49,
     "metadata": {},
     "output_type": "execute_result"
    }
   ],
   "source": [
    "rand(4,3) # 이렇게 하면 랜덤한 값으로 4 x 3 array 행렬을 만든다"
   ]
  },
  {
   "cell_type": "code",
   "execution_count": 50,
   "metadata": {
    "collapsed": false,
    "deletable": true,
    "editable": true
   },
   "outputs": [
    {
     "data": {
      "text/plain": [
       "4×3×2 Array{Float64,3}:\n",
       "[:, :, 1] =\n",
       " 0.817096  0.180261  0.830779\n",
       " 0.460364  0.561718  0.737444\n",
       " 0.672789  0.291535  0.67781\n",
       " 0.228496  0.658294  0.62025\n",
       "\n",
       "[:, :, 2] =\n",
       " 0.159637  0.494366  0.251214\n",
       " 0.498299  0.915051  0.654373\n",
       " 0.16486   0.250831  0.843902\n",
       " 0.155862  0.58153   0.42329"
      ]
     },
     "execution_count": 50,
     "metadata": {},
     "output_type": "execute_result"
    }
   ],
   "source": [
    "rand(4,3,2)"
   ]
  },
  {
   "cell_type": "code",
   "execution_count": 51,
   "metadata": {
    "collapsed": false,
    "deletable": true,
    "editable": true
   },
   "outputs": [
    {
     "data": {
      "text/plain": [
       "7-element Array{Int64,1}:\n",
       "  1\n",
       "  1\n",
       "  2\n",
       "  3\n",
       "  5\n",
       "  8\n",
       " 13"
      ]
     },
     "execution_count": 51,
     "metadata": {},
     "output_type": "execute_result"
    }
   ],
   "source": [
    "som = fibonacci # 단순히 복사한 후, 복사행렬의 원소를 바꿔도 동일하게 바뀐다"
   ]
  },
  {
   "cell_type": "code",
   "execution_count": 52,
   "metadata": {
    "collapsed": false,
    "deletable": true,
    "editable": true
   },
   "outputs": [
    {
     "data": {
      "text/plain": [
       "3333"
      ]
     },
     "execution_count": 52,
     "metadata": {},
     "output_type": "execute_result"
    }
   ],
   "source": [
    "som[1] = 3333"
   ]
  },
  {
   "cell_type": "code",
   "execution_count": 53,
   "metadata": {
    "collapsed": false,
    "deletable": true,
    "editable": true
   },
   "outputs": [
    {
     "data": {
      "text/plain": [
       "7-element Array{Int64,1}:\n",
       " 3333\n",
       "    1\n",
       "    2\n",
       "    3\n",
       "    5\n",
       "    8\n",
       "   13"
      ]
     },
     "execution_count": 53,
     "metadata": {},
     "output_type": "execute_result"
    }
   ],
   "source": [
    "som"
   ]
  },
  {
   "cell_type": "code",
   "execution_count": 54,
   "metadata": {
    "collapsed": false,
    "deletable": true,
    "editable": true
   },
   "outputs": [
    {
     "data": {
      "text/plain": [
       "7-element Array{Int64,1}:\n",
       " 3333\n",
       "    1\n",
       "    2\n",
       "    3\n",
       "    5\n",
       "    8\n",
       "   13"
      ]
     },
     "execution_count": 54,
     "metadata": {},
     "output_type": "execute_result"
    }
   ],
   "source": [
    "fibonacci"
   ]
  },
  {
   "cell_type": "code",
   "execution_count": 55,
   "metadata": {
    "collapsed": false,
    "deletable": true,
    "editable": true
   },
   "outputs": [
    {
     "data": {
      "text/plain": [
       "7-element Array{Int64,1}:\n",
       " 3333\n",
       "    1\n",
       "    2\n",
       "    3\n",
       "    5\n",
       "    8\n",
       "   13"
      ]
     },
     "execution_count": 55,
     "metadata": {},
     "output_type": "execute_result"
    }
   ],
   "source": [
    "som = copy(fibonacci)"
   ]
  },
  {
   "cell_type": "code",
   "execution_count": 56,
   "metadata": {
    "collapsed": false,
    "deletable": true,
    "editable": true
   },
   "outputs": [
    {
     "data": {
      "text/plain": [
       "34325"
      ]
     },
     "execution_count": 56,
     "metadata": {},
     "output_type": "execute_result"
    }
   ],
   "source": [
    "som[1] = 34325"
   ]
  },
  {
   "cell_type": "code",
   "execution_count": 57,
   "metadata": {
    "collapsed": false,
    "deletable": true,
    "editable": true
   },
   "outputs": [
    {
     "data": {
      "text/plain": [
       "7-element Array{Int64,1}:\n",
       " 34325\n",
       "     1\n",
       "     2\n",
       "     3\n",
       "     5\n",
       "     8\n",
       "    13"
      ]
     },
     "execution_count": 57,
     "metadata": {},
     "output_type": "execute_result"
    }
   ],
   "source": [
    "som"
   ]
  },
  {
   "cell_type": "code",
   "execution_count": 58,
   "metadata": {
    "collapsed": false,
    "deletable": true,
    "editable": true
   },
   "outputs": [
    {
     "data": {
      "text/plain": [
       "7-element Array{Int64,1}:\n",
       " 3333\n",
       "    1\n",
       "    2\n",
       "    3\n",
       "    5\n",
       "    8\n",
       "   13"
      ]
     },
     "execution_count": 58,
     "metadata": {},
     "output_type": "execute_result"
    }
   ],
   "source": [
    "fibonacci"
   ]
  },
  {
   "cell_type": "code",
   "execution_count": 59,
   "metadata": {
    "collapsed": false,
    "deletable": true,
    "editable": true
   },
   "outputs": [
    {
     "data": {
      "text/plain": [
       "4-element Array{Int64,1}:\n",
       "   1\n",
       "   2\n",
       "   3\n",
       " 333"
      ]
     },
     "execution_count": 59,
     "metadata": {},
     "output_type": "execute_result"
    }
   ],
   "source": [
    "#3.1\n",
    "a_ray = [1,2,3]\n",
    "push!(a_ray, 333)"
   ]
  },
  {
   "cell_type": "code",
   "execution_count": 60,
   "metadata": {
    "collapsed": false,
    "deletable": true,
    "editable": true
   },
   "outputs": [
    {
     "data": {
      "text/plain": [
       "333"
      ]
     },
     "execution_count": 60,
     "metadata": {},
     "output_type": "execute_result"
    }
   ],
   "source": [
    "pop!(a_ray)"
   ]
  },
  {
   "cell_type": "code",
   "execution_count": 61,
   "metadata": {
    "collapsed": false,
    "deletable": true,
    "editable": true
   },
   "outputs": [
    {
     "data": {
      "text/plain": [
       "\"911\""
      ]
     },
     "execution_count": 61,
     "metadata": {},
     "output_type": "execute_result"
    }
   ],
   "source": [
    "#myp[\"Emergency\"] = 911\n",
    "# 타입이 맞지 않다. 맞춰주어야 함\n",
    "myp[\"Emergency\"] = \"911\""
   ]
  },
  {
   "cell_type": "code",
   "execution_count": 62,
   "metadata": {
    "collapsed": false,
    "deletable": true,
    "editable": true
   },
   "outputs": [
    {
     "data": {
      "text/plain": [
       "Dict{String,String} with 3 entries:\n",
       "  \"Emergency\" => \"911\"\n",
       "  \"ella\"      => \"6786-2342\"\n",
       "  \"mark\"      => \"1142-2349\""
      ]
     },
     "execution_count": 62,
     "metadata": {},
     "output_type": "execute_result"
    }
   ],
   "source": [
    "myp"
   ]
  },
  {
   "cell_type": "code",
   "execution_count": 63,
   "metadata": {
    "collapsed": false,
    "deletable": true,
    "editable": true
   },
   "outputs": [
    {
     "data": {
      "text/plain": [
       "4×3 Array{Float64,2}:\n",
       " 0.906229  0.472876  0.345572\n",
       " 0.512275  0.545004  0.77893\n",
       " 0.817614  0.798205  0.352131\n",
       " 0.354755  0.160885  0.718377"
      ]
     },
     "execution_count": 63,
     "metadata": {},
     "output_type": "execute_result"
    }
   ],
   "source": [
    "rand(4, 3)"
   ]
  },
  {
   "cell_type": "markdown",
   "metadata": {
    "collapsed": true,
    "deletable": true,
    "editable": true
   },
   "source": [
    "## Loops \n",
    "- while, for"
   ]
  },
  {
   "cell_type": "code",
   "execution_count": 64,
   "metadata": {
    "collapsed": false
   },
   "outputs": [
    {
     "name": "stdout",
     "output_type": "stream",
     "text": [
      "1\n",
      "2\n",
      "3\n",
      "4\n",
      "5\n",
      "6\n",
      "7\n",
      "8\n",
      "9\n",
      "10\n"
     ]
    }
   ],
   "source": [
    " n = 0\n",
    "while n < 10\n",
    "    global n+=1\n",
    "    println(n)\n",
    "end"
   ]
  },
  {
   "cell_type": "code",
   "execution_count": 65,
   "metadata": {
    "collapsed": false
   },
   "outputs": [
    {
     "name": "stdout",
     "output_type": "stream",
     "text": [
      "10\n"
     ]
    }
   ],
   "source": [
    "println(n)"
   ]
  },
  {
   "cell_type": "code",
   "execution_count": 71,
   "metadata": {
    "collapsed": false
   },
   "outputs": [
    {
     "name": "stdout",
     "output_type": "stream",
     "text": [
      "Hi Ted, it's great to see you!\n",
      "Hi Robyn, it's great to see you!\n",
      "Hi Barney, it's great to see you!\n",
      "Hi Lily, it's great to see you!\n",
      "Hi Marshall, it's great to see you!\n"
     ]
    }
   ],
   "source": [
    "myfriends = [\"Ted\", \"Robyn\", \"Barney\", \"Lily\", \"Marshall\"]\n",
    "\n",
    "for friend in myfriends\n",
    "    println(\"Hi $friend, it's great to see you!\")\n",
    "end"
   ]
  },
  {
   "cell_type": "code",
   "execution_count": 72,
   "metadata": {
    "collapsed": false
   },
   "outputs": [
    {
     "name": "stdout",
     "output_type": "stream",
     "text": [
      "[2 3 4 5 6; 3 4 5 6 7; 4 5 6 7 8; 5 6 7 8 9; 6 7 8 9 10]\n"
     ]
    }
   ],
   "source": [
    "m, n = 5, 5\n",
    "A = fill(0, (m, n))\n",
    "for j in 1:n\n",
    "    for i in 1:m\n",
    "        A[i, j] = i + j\n",
    "    end \n",
    "end\n",
    "println(A)"
   ]
  },
  {
   "cell_type": "code",
   "execution_count": 73,
   "metadata": {
    "collapsed": false
   },
   "outputs": [
    {
     "data": {
      "text/plain": [
       "5×5 Array{Int64,2}:\n",
       " 0  0  0  0  0\n",
       " 0  0  0  0  0\n",
       " 0  0  0  0  0\n",
       " 0  0  0  0  0\n",
       " 0  0  0  0  0"
      ]
     },
     "execution_count": 73,
     "metadata": {},
     "output_type": "execute_result"
    }
   ],
   "source": [
    "B = fill(0, (m, n))\n",
    "B"
   ]
  },
  {
   "cell_type": "code",
   "execution_count": 74,
   "metadata": {
    "collapsed": false
   },
   "outputs": [
    {
     "name": "stdout",
     "output_type": "stream",
     "text": [
      "[2 3 4 5 6; 3 4 5 6 7; 4 5 6 7 8; 5 6 7 8 9; 6 7 8 9 10]\n"
     ]
    }
   ],
   "source": [
    "for j in 1:n, i in 1:m\n",
    "    B[i, j] = i + j\n",
    "    end \n",
    "println(B)"
   ]
  },
  {
   "cell_type": "code",
   "execution_count": 75,
   "metadata": {
    "collapsed": false
   },
   "outputs": [
    {
     "data": {
      "text/plain": [
       "5×5 Array{Int64,2}:\n",
       " 2  3  4  5   6\n",
       " 3  4  5  6   7\n",
       " 4  5  6  7   8\n",
       " 5  6  7  8   9\n",
       " 6  7  8  9  10"
      ]
     },
     "execution_count": 75,
     "metadata": {},
     "output_type": "execute_result"
    }
   ],
   "source": [
    "C  = [i+j for i in 1:m, j in 1:n]"
   ]
  },
  {
   "cell_type": "code",
   "execution_count": 78,
   "metadata": {
    "collapsed": false
   },
   "outputs": [
    {
     "name": "stdout",
     "output_type": "stream",
     "text": [
      "1\n",
      "4\n",
      "9\n",
      "16\n",
      "25\n",
      "36\n",
      "49\n",
      "64\n",
      "81\n",
      "100\n",
      "121\n",
      "144\n",
      "169\n",
      "196\n",
      "225\n",
      "256\n",
      "289\n",
      "324\n",
      "361\n",
      "400\n",
      "441\n",
      "484\n",
      "529\n",
      "576\n",
      "625\n",
      "676\n",
      "729\n",
      "784\n",
      "841\n",
      "900\n",
      "961\n",
      "1024\n",
      "1089\n",
      "1156\n",
      "1225\n",
      "1296\n",
      "1369\n",
      "1444\n",
      "1521\n",
      "1600\n",
      "1681\n",
      "1764\n",
      "1849\n",
      "1936\n",
      "2025\n",
      "2116\n",
      "2209\n",
      "2304\n",
      "2401\n",
      "2500\n",
      "2601\n",
      "2704\n",
      "2809\n",
      "2916\n",
      "3025\n",
      "3136\n",
      "3249\n",
      "3364\n",
      "3481\n",
      "3600\n",
      "3721\n",
      "3844\n",
      "3969\n",
      "4096\n",
      "4225\n",
      "4356\n",
      "4489\n",
      "4624\n",
      "4761\n",
      "4900\n",
      "5041\n",
      "5184\n",
      "5329\n",
      "5476\n",
      "5625\n",
      "5776\n",
      "5929\n",
      "6084\n",
      "6241\n",
      "6400\n",
      "6561\n",
      "6724\n",
      "6889\n",
      "7056\n",
      "7225\n",
      "7396\n",
      "7569\n",
      "7744\n",
      "7921\n",
      "8100\n",
      "8281\n",
      "8464\n",
      "8649\n",
      "8836\n",
      "9025\n",
      "9216\n",
      "9409\n",
      "9604\n",
      "9801\n",
      "10000\n"
     ]
    }
   ],
   "source": [
    "for i in 1:100\n",
    "    println(i^2)\n",
    "end"
   ]
  },
  {
   "cell_type": "code",
   "execution_count": 79,
   "metadata": {
    "collapsed": false
   },
   "outputs": [
    {
     "data": {
      "text/plain": [
       "5×5 Array{Float64,2}:\n",
       " 0.0  0.0  0.0  0.0  0.0\n",
       " 0.0  0.0  0.0  0.0  0.0\n",
       " 0.0  0.0  0.0  0.0  0.0\n",
       " 0.0  0.0  0.0  0.0  0.0\n",
       " 0.0  0.0  0.0  0.0  0.0"
      ]
     },
     "execution_count": 79,
     "metadata": {},
     "output_type": "execute_result"
    }
   ],
   "source": [
    "B = zeros(m, n)"
   ]
  },
  {
   "cell_type": "code",
   "execution_count": 81,
   "metadata": {
    "collapsed": false
   },
   "outputs": [
    {
     "name": "stdout",
     "output_type": "stream",
     "text": [
      "[2]\n",
      "[2 3; 3 4]\n",
      "[2 3 4; 3 4 5; 4 5 6]\n",
      "[2 3 4 5; 3 4 5 6; 4 5 6 7; 5 6 7 8]\n",
      "[2 3 4 5 6; 3 4 5 6 7; 4 5 6 7 8; 5 6 7 8 9; 6 7 8 9 10]\n",
      "[2 3 4 5 6 7; 3 4 5 6 7 8; 4 5 6 7 8 9; 5 6 7 8 9 10; 6 7 8 9 10 11; 7 8 9 10 11 12]\n",
      "[2 3 4 5 6 7 8; 3 4 5 6 7 8 9; 4 5 6 7 8 9 10; 5 6 7 8 9 10 11; 6 7 8 9 10 11 12; 7 8 9 10 11 12 13; 8 9 10 11 12 13 14]\n",
      "[2 3 4 5 6 7 8 9; 3 4 5 6 7 8 9 10; 4 5 6 7 8 9 10 11; 5 6 7 8 9 10 11 12; 6 7 8 9 10 11 12 13; 7 8 9 10 11 12 13 14; 8 9 10 11 12 13 14 15; 9 10 11 12 13 14 15 16]\n",
      "[2 3 4 5 6 7 8 9 10; 3 4 5 6 7 8 9 10 11; 4 5 6 7 8 9 10 11 12; 5 6 7 8 9 10 11 12 13; 6 7 8 9 10 11 12 13 14; 7 8 9 10 11 12 13 14 15; 8 9 10 11 12 13 14 15 16; 9 10 11 12 13 14 15 16 17; 10 11 12 13 14 15 16 17 18]\n",
      "[2 3 4 5 6 7 8 9 10 11; 3 4 5 6 7 8 9 10 11 12; 4 5 6 7 8 9 10 11 12 13; 5 6 7 8 9 10 11 12 13 14; 6 7 8 9 10 11 12 13 14 15; 7 8 9 10 11 12 13 14 15 16; 8 9 10 11 12 13 14 15 16 17; 9 10 11 12 13 14 15 16 17 18; 10 11 12 13 14 15 16 17 18 19; 11 12 13 14 15 16 17 18 19 20]\n"
     ]
    }
   ],
   "source": [
    "for n in 1:10\n",
    "    A = [i + j for i in 1:n, j in 1:n]\n",
    "    println(A)\n",
    "end"
   ]
  },
  {
   "cell_type": "markdown",
   "metadata": {},
   "source": [
    "## Functions\n",
    "- 함수 정의\n",
    "- duck-typing\n",
    "- mutating vs. non-mutating\n",
    "- higer order functions\n"
   ]
  },
  {
   "cell_type": "code",
   "execution_count": 82,
   "metadata": {
    "collapsed": false
   },
   "outputs": [
    {
     "data": {
      "text/plain": [
       "f (generic function with 1 method)"
      ]
     },
     "execution_count": 82,
     "metadata": {},
     "output_type": "execute_result"
    }
   ],
   "source": [
    "function sayhi(name)\n",
    "    println(\"Hi $name, it's great to see you!\")\n",
    "end\n",
    "\n",
    "function f(x)\n",
    "    x^2\n",
    "end\n"
   ]
  },
  {
   "cell_type": "code",
   "execution_count": 83,
   "metadata": {
    "collapsed": false
   },
   "outputs": [
    {
     "name": "stdout",
     "output_type": "stream",
     "text": [
      "Hi lalajin, it's great to see you!\n"
     ]
    }
   ],
   "source": [
    "sayhi(\"lalajin\")"
   ]
  },
  {
   "cell_type": "code",
   "execution_count": 84,
   "metadata": {
    "collapsed": false
   },
   "outputs": [
    {
     "data": {
      "text/plain": [
       "2500"
      ]
     },
     "execution_count": 84,
     "metadata": {},
     "output_type": "execute_result"
    }
   ],
   "source": [
    "f(50)"
   ]
  },
  {
   "cell_type": "code",
   "execution_count": 86,
   "metadata": {
    "collapsed": false
   },
   "outputs": [
    {
     "name": "stdout",
     "output_type": "stream",
     "text": [
      "Hi lalajin, it's great to see you!\n"
     ]
    },
    {
     "data": {
      "text/plain": [
       "2500"
      ]
     },
     "execution_count": 86,
     "metadata": {},
     "output_type": "execute_result"
    }
   ],
   "source": [
    "sayhi2(name) = println(\"Hi $name, it's great to see you!\")\n",
    "\n",
    "f2(x) = x^2\n",
    "\n",
    "sayhi2(\"lalajin\")\n",
    "f2(50)"
   ]
  },
  {
   "cell_type": "code",
   "execution_count": 87,
   "metadata": {
    "collapsed": false
   },
   "outputs": [
    {
     "name": "stdout",
     "output_type": "stream",
     "text": [
      "Hi lalajinjin, it's great to see you!\n"
     ]
    },
    {
     "data": {
      "text/plain": [
       "1600"
      ]
     },
     "execution_count": 87,
     "metadata": {},
     "output_type": "execute_result"
    }
   ],
   "source": [
    "sayhi3 = name -> println(\"Hi $name, it's great to see you!\")\n",
    "f3 = x -> x^2\n",
    "\n",
    "sayhi3(\"lalajinjin\")\n",
    "f3(40)"
   ]
  },
  {
   "cell_type": "code",
   "execution_count": 88,
   "metadata": {
    "collapsed": false
   },
   "outputs": [
    {
     "name": "stdout",
     "output_type": "stream",
     "text": [
      "Hi 324035, it's great to see you!\n"
     ]
    }
   ],
   "source": [
    "# duck-tying?\n",
    "sayhi(324035)"
   ]
  },
  {
   "cell_type": "code",
   "execution_count": 89,
   "metadata": {
    "collapsed": false
   },
   "outputs": [
    {
     "data": {
      "text/plain": [
       "3×3 Array{Float64,2}:\n",
       " 0.827162  1.33412   0.587192\n",
       " 0.401704  0.858897  0.23807\n",
       " 1.4556    2.06867   1.21029"
      ]
     },
     "execution_count": 89,
     "metadata": {},
     "output_type": "execute_result"
    }
   ],
   "source": [
    "A = rand(3, 3)\n",
    "A\n",
    "f(A)"
   ]
  },
  {
   "cell_type": "code",
   "execution_count": 91,
   "metadata": {
    "collapsed": false
   },
   "outputs": [
    {
     "data": {
      "text/plain": [
       "\"hihi\""
      ]
     },
     "execution_count": 91,
     "metadata": {},
     "output_type": "execute_result"
    }
   ],
   "source": [
    "f(\"hi\") # string 도 동일하게 처리할 수 있다\n",
    "# f(*) * 에는 스트링 인풋도 넣을 수 있기 때문이다"
   ]
  },
  {
   "cell_type": "code",
   "execution_count": 93,
   "metadata": {
    "collapsed": false
   },
   "outputs": [
    {
     "data": {
      "text/plain": [
       "3-element Array{Float64,1}:\n",
       " 0.24647542401119082\n",
       " 0.9578910766840092\n",
       " 0.10789635247449358"
      ]
     },
     "execution_count": 93,
     "metadata": {},
     "output_type": "execute_result"
    }
   ],
   "source": [
    "# 하지만 f() 함수는 벡터에 사용할 수 없다\n",
    "v = rand(3)\n",
    "#f(v) ? 에러남"
   ]
  },
  {
   "cell_type": "code",
   "execution_count": 96,
   "metadata": {
    "collapsed": false
   },
   "outputs": [
    {
     "data": {
      "text/plain": [
       "3-element Array{Int64,1}:\n",
       " 2\n",
       " 3\n",
       " 5"
      ]
     },
     "execution_count": 96,
     "metadata": {},
     "output_type": "execute_result"
    }
   ],
   "source": [
    "# mutating vs non mutating\n",
    "# ! 를 사용하는 여부에 따라서 어떤 차이가 있을까?\n",
    "v = [3, 5, 2]\n",
    "sort(v) # 해당 결과물을 바꾸지만, 원래 v 를 바꾸지 않음\n",
    "#in_place = False 느낌\n",
    "v\n"
   ]
  },
  {
   "cell_type": "code",
   "execution_count": 98,
   "metadata": {
    "collapsed": false
   },
   "outputs": [
    {
     "data": {
      "text/plain": [
       "3-element Array{Int64,1}:\n",
       " 2\n",
       " 3\n",
       " 5"
      ]
     },
     "execution_count": 98,
     "metadata": {},
     "output_type": "execute_result"
    }
   ],
   "source": [
    "sort!(v) # 원래 v 까지 바꾸어버림, in_place = True\n",
    "v"
   ]
  },
  {
   "cell_type": "code",
   "execution_count": 99,
   "metadata": {
    "collapsed": true
   },
   "outputs": [],
   "source": [
    "# 다른 여러 상위 함수\n",
    "# map "
   ]
  },
  {
   "cell_type": "code",
   "execution_count": 100,
   "metadata": {
    "collapsed": false
   },
   "outputs": [
    {
     "data": {
      "text/plain": [
       "3-element Array{Int64,1}:\n",
       " 1\n",
       " 4\n",
       " 9"
      ]
     },
     "execution_count": 100,
     "metadata": {},
     "output_type": "execute_result"
    }
   ],
   "source": [
    "map(f, [1,2,3]) # f 라는 함수에 각각을 넣은 결과를 내보낸다"
   ]
  },
  {
   "cell_type": "code",
   "execution_count": 101,
   "metadata": {
    "collapsed": false
   },
   "outputs": [
    {
     "data": {
      "text/plain": [
       "3-element Array{Int64,1}:\n",
       "   1\n",
       "   4\n",
       " 900"
      ]
     },
     "execution_count": 101,
     "metadata": {},
     "output_type": "execute_result"
    }
   ],
   "source": [
    "[f(1), f(2), f(30)]"
   ]
  },
  {
   "cell_type": "code",
   "execution_count": 102,
   "metadata": {
    "collapsed": false
   },
   "outputs": [
    {
     "data": {
      "text/plain": [
       "3-element Array{Int64,1}:\n",
       "  1\n",
       "  8\n",
       " 27"
      ]
     },
     "execution_count": 102,
     "metadata": {},
     "output_type": "execute_result"
    }
   ],
   "source": [
    "map(x -> x^3, [1,2,3]) # 이렇게 함수 식 만들지 않고 직접 진행도 가능"
   ]
  },
  {
   "cell_type": "code",
   "execution_count": 103,
   "metadata": {
    "collapsed": false
   },
   "outputs": [
    {
     "data": {
      "text/plain": [
       "3-element Array{Int64,1}:\n",
       " 1\n",
       " 4\n",
       " 9"
      ]
     },
     "execution_count": 103,
     "metadata": {},
     "output_type": "execute_result"
    }
   ],
   "source": [
    "# broadcast\n",
    "broadcast(f, [1,2,3])"
   ]
  },
  {
   "cell_type": "code",
   "execution_count": 104,
   "metadata": {
    "collapsed": false
   },
   "outputs": [
    {
     "data": {
      "text/plain": [
       "3-element Array{Int64,1}:\n",
       " 1\n",
       " 4\n",
       " 9"
      ]
     },
     "execution_count": 104,
     "metadata": {},
     "output_type": "execute_result"
    }
   ],
   "source": [
    "f.([1,2,3]) \n",
    "#broadcast 의 기능을 사용하여 . 점을 찍고 결과물을 얻을 수 있다"
   ]
  },
  {
   "cell_type": "code",
   "execution_count": 106,
   "metadata": {
    "collapsed": false
   },
   "outputs": [],
   "source": [
    "#  f([1,2,3]) 작동안됨"
   ]
  },
  {
   "cell_type": "code",
   "execution_count": 107,
   "metadata": {
    "collapsed": false
   },
   "outputs": [
    {
     "data": {
      "text/plain": [
       "3×3 Array{Int64,2}:\n",
       " 1  2  3\n",
       " 4  5  6\n",
       " 7  8  9"
      ]
     },
     "execution_count": 107,
     "metadata": {},
     "output_type": "execute_result"
    }
   ],
   "source": [
    "A = [i + 3 *j for j in 0:2, i in 1:3]"
   ]
  },
  {
   "cell_type": "code",
   "execution_count": 110,
   "metadata": {
    "collapsed": false
   },
   "outputs": [
    {
     "data": {
      "text/plain": [
       "3×3 Array{Int64,2}:\n",
       "  1   4   9\n",
       " 16  25  36\n",
       " 49  64  81"
      ]
     },
     "execution_count": 110,
     "metadata": {},
     "output_type": "execute_result"
    }
   ],
   "source": [
    "B = f.(A)\n",
    "B # 이런식을 . 을 찍는 신택스는 상대적인 복잡한 원소지향적인 표현을 가능하게 한다\n",
    "# 더 수학식 같다"
   ]
  },
  {
   "cell_type": "code",
   "execution_count": 112,
   "metadata": {
    "collapsed": false
   },
   "outputs": [
    {
     "data": {
      "text/plain": [
       "3×3 Array{Float64,2}:\n",
       "  3.0   6.0   9.0\n",
       " 12.0  15.0  18.0\n",
       " 21.0  24.0  27.0"
      ]
     },
     "execution_count": 112,
     "metadata": {},
     "output_type": "execute_result"
    }
   ],
   "source": [
    "A .+ 2 .* f.(A) ./ A # 이것 대신에 "
   ]
  },
  {
   "cell_type": "code",
   "execution_count": 113,
   "metadata": {
    "collapsed": false
   },
   "outputs": [
    {
     "data": {
      "text/plain": [
       "3×3 Array{Float64,2}:\n",
       "  3.0   6.0   9.0\n",
       " 12.0  15.0  18.0\n",
       " 21.0  24.0  27.0"
      ]
     },
     "execution_count": 113,
     "metadata": {},
     "output_type": "execute_result"
    }
   ],
   "source": [
    "broadcast(x -> x + 2 * f(x) / x, A) # 앞에 함수, 뒤에 실제 대상"
   ]
  },
  {
   "cell_type": "markdown",
   "metadata": {},
   "source": [
    "## package\n",
    "다른 패키지를 모두 보고자 한다면 이 사이트 참고하기\n",
    "#### https://pkg.julialang.org/\n",
    "#### or\n",
    "#### https://juliaobserver.com/"
   ]
  },
  {
   "cell_type": "code",
   "execution_count": 114,
   "metadata": {
    "collapsed": true
   },
   "outputs": [],
   "source": [
    "using Pkg # using 을 통해서 패키지 인스톨이 가능하다"
   ]
  },
  {
   "cell_type": "code",
   "execution_count": 115,
   "metadata": {
    "collapsed": false
   },
   "outputs": [
    {
     "name": "stderr",
     "output_type": "stream",
     "text": [
      "\u001b[32m\u001b[1m   Updating\u001b[22m\u001b[39m registry at `~/.julia/registries/General`\n",
      "######################################################################### 100.0%\n",
      "\u001b[32m\u001b[1m  Resolving\u001b[22m\u001b[39m package versions...\n",
      "\u001b[32m\u001b[1m  Installed\u001b[22m\u001b[39m Example ─ v0.5.3\n",
      "\u001b[32m\u001b[1mUpdating\u001b[22m\u001b[39m `~/.julia/environments/v1.5/Project.toml`\n",
      " \u001b[90m [7876af07] \u001b[39m\u001b[92m+ Example v0.5.3\u001b[39m\n",
      "\u001b[32m\u001b[1mUpdating\u001b[22m\u001b[39m `~/.julia/environments/v1.5/Manifest.toml`\n",
      " \u001b[90m [7876af07] \u001b[39m\u001b[92m+ Example v0.5.3\u001b[39m\n"
     ]
    }
   ],
   "source": [
    "Pkg.add(\"Example\")"
   ]
  },
  {
   "cell_type": "code",
   "execution_count": 117,
   "metadata": {
    "collapsed": false
   },
   "outputs": [
    {
     "name": "stderr",
     "output_type": "stream",
     "text": [
      "┌ Info: Precompiling Example [7876af07-990d-54b4-ab0e-23690620f79a]\n",
      "└ @ Base loading.jl:1278\n"
     ]
    }
   ],
   "source": [
    "using Example"
   ]
  },
  {
   "cell_type": "code",
   "execution_count": 118,
   "metadata": {
    "collapsed": false
   },
   "outputs": [
    {
     "data": {
      "text/plain": [
       "\"Hello, it's me. I was wondering if after all these years you'd like to meet\""
      ]
     },
     "execution_count": 118,
     "metadata": {},
     "output_type": "execute_result"
    }
   ],
   "source": [
    "hello(\"it's me. I was wondering if after all these years you'd like to meet\")"
   ]
  },
  {
   "cell_type": "code",
   "execution_count": 119,
   "metadata": {
    "collapsed": false
   },
   "outputs": [
    {
     "name": "stderr",
     "output_type": "stream",
     "text": [
      "\u001b[32m\u001b[1m  Resolving\u001b[22m\u001b[39m package versions...\n",
      "\u001b[32m\u001b[1m  Installed\u001b[22m\u001b[39m Reexport ────────── v0.2.0\n",
      "\u001b[32m\u001b[1m  Installed\u001b[22m\u001b[39m FixedPointNumbers ─ v0.8.4\n",
      "\u001b[32m\u001b[1m  Installed\u001b[22m\u001b[39m ColorTypes ──────── v0.10.9\n",
      "\u001b[32m\u001b[1m  Installed\u001b[22m\u001b[39m Colors ──────────── v0.12.4\n",
      "\u001b[32m\u001b[1mUpdating\u001b[22m\u001b[39m `~/.julia/environments/v1.5/Project.toml`\n",
      " \u001b[90m [5ae59095] \u001b[39m\u001b[92m+ Colors v0.12.4\u001b[39m\n",
      "\u001b[32m\u001b[1mUpdating\u001b[22m\u001b[39m `~/.julia/environments/v1.5/Manifest.toml`\n",
      " \u001b[90m [3da002f7] \u001b[39m\u001b[92m+ ColorTypes v0.10.9\u001b[39m\n",
      " \u001b[90m [5ae59095] \u001b[39m\u001b[92m+ Colors v0.12.4\u001b[39m\n",
      " \u001b[90m [53c48c17] \u001b[39m\u001b[92m+ FixedPointNumbers v0.8.4\u001b[39m\n",
      " \u001b[90m [189a3867] \u001b[39m\u001b[92m+ Reexport v0.2.0\u001b[39m\n",
      " \u001b[90m [37e2e46d] \u001b[39m\u001b[92m+ LinearAlgebra\u001b[39m\n",
      " \u001b[90m [2f01184e] \u001b[39m\u001b[92m+ SparseArrays\u001b[39m\n",
      " \u001b[90m [10745b16] \u001b[39m\u001b[92m+ Statistics\u001b[39m\n",
      "┌ Info: Precompiling Colors [5ae59095-9a9b-59fe-a467-6f913c188581]\n",
      "└ @ Base loading.jl:1278\n"
     ]
    }
   ],
   "source": [
    "Pkg.add(\"Colors\")\n",
    "using Colors # 100개의 여러가지 색깔을 낼 수 있다"
   ]
  },
  {
   "cell_type": "code",
   "execution_count": 120,
   "metadata": {
    "collapsed": false
   },
   "outputs": [
    {
     "data": {
      "image/svg+xml": [
       "<?xml version=\"1.0\" encoding=\"UTF-8\"?>\n",
       "<!DOCTYPE svg PUBLIC \"-//W3C//DTD SVG 1.1//EN\"\n",
       " \"http://www.w3.org/Graphics/SVG/1.1/DTD/svg11.dtd\">\n",
       "<svg xmlns=\"http://www.w3.org/2000/svg\" version=\"1.1\"\n",
       "     width=\"180mm\" height=\"25mm\"\n",
       "     viewBox=\"0 0 100 1\" preserveAspectRatio=\"none\"\n",
       "     shape-rendering=\"crispEdges\" stroke=\"none\">\n",
       "<rect width=\"1\" height=\".96\" x=\"0\" y=\"0\" fill=\"#000000\" />\n",
       "<rect width=\"1\" height=\".96\" x=\"1\" y=\"0\" fill=\"#FFFF74\" />\n",
       "<rect width=\"1\" height=\".96\" x=\"2\" y=\"0\" fill=\"#FF9BFF\" />\n",
       "<rect width=\"1\" height=\".96\" x=\"3\" y=\"0\" fill=\"#00D3FF\" />\n",
       "<rect width=\"1\" height=\".96\" x=\"4\" y=\"0\" fill=\"#E2630D\" />\n",
       "<rect width=\"1\" height=\".96\" x=\"5\" y=\"0\" fill=\"#007E00\" />\n",
       "<rect width=\"1\" height=\".96\" x=\"6\" y=\"0\" fill=\"#0050E6\" />\n",
       "<rect width=\"1\" height=\".96\" x=\"7\" y=\"0\" fill=\"#AC0047\" />\n",
       "<rect width=\"1\" height=\".96\" x=\"8\" y=\"0\" fill=\"#00FFC8\" />\n",
       "<rect width=\"1\" height=\".96\" x=\"9\" y=\"0\" fill=\"#006468\" />\n",
       "<rect width=\"1\" height=\".96\" x=\"10\" y=\"0\" fill=\"#FFD5C4\" />\n",
       "<rect width=\"1\" height=\".96\" x=\"11\" y=\"0\" fill=\"#6C5200\" />\n",
       "<rect width=\"1\" height=\".96\" x=\"12\" y=\"0\" fill=\"#7A7581\" />\n",
       "<rect width=\"1\" height=\".96\" x=\"13\" y=\"0\" fill=\"#44005C\" />\n",
       "<rect width=\"1\" height=\".96\" x=\"14\" y=\"0\" fill=\"#9E9E77\" />\n",
       "<rect width=\"1\" height=\".96\" x=\"15\" y=\"0\" fill=\"#FF5C78\" />\n",
       "<rect width=\"1\" height=\".96\" x=\"16\" y=\"0\" fill=\"#8197F1\" />\n",
       "<rect width=\"1\" height=\".96\" x=\"17\" y=\"0\" fill=\"#003200\" />\n",
       "<rect width=\"1\" height=\".96\" x=\"18\" y=\"0\" fill=\"#C721DD\" />\n",
       "<rect width=\"1\" height=\".96\" x=\"19\" y=\"0\" fill=\"#FFAD07\" />\n",
       "<rect width=\"1\" height=\".96\" x=\"20\" y=\"0\" fill=\"#611C00\" />\n",
       "<rect width=\"1\" height=\".96\" x=\"21\" y=\"0\" fill=\"#F3FFFA\" />\n",
       "<rect width=\"1\" height=\".96\" x=\"22\" y=\"0\" fill=\"#009E88\" />\n",
       "<rect width=\"1\" height=\".96\" x=\"23\" y=\"0\" fill=\"#5EC700\" />\n",
       "<rect width=\"1\" height=\".96\" x=\"24\" y=\"0\" fill=\"#002D54\" />\n",
       "<rect width=\"1\" height=\".96\" x=\"25\" y=\"0\" fill=\"#553C4A\" />\n",
       "<rect width=\"1\" height=\".96\" x=\"26\" y=\"0\" fill=\"#444439\" />\n",
       "<rect width=\"1\" height=\".96\" x=\"27\" y=\"0\" fill=\"#008FB6\" />\n",
       "<rect width=\"1\" height=\".96\" x=\"28\" y=\"0\" fill=\"#CFD4FD\" />\n",
       "<rect width=\"1\" height=\".96\" x=\"29\" y=\"0\" fill=\"#C40000\" />\n",
       "<rect width=\"1\" height=\".96\" x=\"30\" y=\"0\" fill=\"#A4675C\" />\n",
       "<rect width=\"1\" height=\".96\" x=\"31\" y=\"0\" fill=\"#BB8FA8\" />\n",
       "<rect width=\"1\" height=\".96\" x=\"32\" y=\"0\" fill=\"#290001\" />\n",
       "<rect width=\"1\" height=\".96\" x=\"33\" y=\"0\" fill=\"#A78600\" />\n",
       "<rect width=\"1\" height=\".96\" x=\"34\" y=\"0\" fill=\"#002D30\" />\n",
       "<rect width=\"1\" height=\".96\" x=\"35\" y=\"0\" fill=\"#C7DEAA\" />\n",
       "<rect width=\"1\" height=\".96\" x=\"36\" y=\"0\" fill=\"#8D9FA3\" />\n",
       "<rect width=\"1\" height=\".96\" x=\"37\" y=\"0\" fill=\"#6F5B95\" />\n",
       "<rect width=\"1\" height=\".96\" x=\"38\" y=\"0\" fill=\"#A1FFFF\" />\n",
       "<rect width=\"1\" height=\".96\" x=\"39\" y=\"0\" fill=\"#B39688\" />\n",
       "<rect width=\"1\" height=\".96\" x=\"40\" y=\"0\" fill=\"#4E6D50\" />\n",
       "<rect width=\"1\" height=\".96\" x=\"41\" y=\"0\" fill=\"#FF977B\" />\n",
       "<rect width=\"1\" height=\".96\" x=\"42\" y=\"0\" fill=\"#FFD1EC\" />\n",
       "<rect width=\"1\" height=\".96\" x=\"43\" y=\"0\" fill=\"#9E5100\" />\n",
       "<rect width=\"1\" height=\".96\" x=\"44\" y=\"0\" fill=\"#AE5B8E\" />\n",
       "<rect width=\"1\" height=\".96\" x=\"45\" y=\"0\" fill=\"#799400\" />\n",
       "<rect width=\"1\" height=\".96\" x=\"46\" y=\"0\" fill=\"#362200\" />\n",
       "<rect width=\"1\" height=\".96\" x=\"47\" y=\"0\" fill=\"#0E0026\" />\n",
       "<rect width=\"1\" height=\".96\" x=\"48\" y=\"0\" fill=\"#80765F\" />\n",
       "<rect width=\"1\" height=\".96\" x=\"49\" y=\"0\" fill=\"#485C00\" />\n",
       "<rect width=\"1\" height=\".96\" x=\"50\" y=\"0\" fill=\"#C8C2B5\" />\n",
       "<rect width=\"1\" height=\".96\" x=\"51\" y=\"0\" fill=\"#8800A1\" />\n",
       "<rect width=\"1\" height=\".96\" x=\"52\" y=\"0\" fill=\"#00A853\" />\n",
       "<rect width=\"1\" height=\".96\" x=\"53\" y=\"0\" fill=\"#FFE1AA\" />\n",
       "<rect width=\"1\" height=\".96\" x=\"54\" y=\"0\" fill=\"#674F42\" />\n",
       "<rect width=\"1\" height=\".96\" x=\"55\" y=\"0\" fill=\"#FF342D\" />\n",
       "<rect width=\"1\" height=\".96\" x=\"56\" y=\"0\" fill=\"#6B0041\" />\n",
       "<rect width=\"1\" height=\".96\" x=\"57\" y=\"0\" fill=\"#0806B1\" />\n",
       "<rect width=\"1\" height=\".96\" x=\"58\" y=\"0\" fill=\"#986DFF\" />\n",
       "<rect width=\"1\" height=\".96\" x=\"59\" y=\"0\" fill=\"#FF4EC7\" />\n",
       "<rect width=\"1\" height=\".96\" x=\"60\" y=\"0\" fill=\"#8AB9A2\" />\n",
       "<rect width=\"1\" height=\".96\" x=\"61\" y=\"0\" fill=\"#2EFF71\" />\n",
       "<rect width=\"1\" height=\".96\" x=\"62\" y=\"0\" fill=\"#005577\" />\n",
       "<rect width=\"1\" height=\".96\" x=\"63\" y=\"0\" fill=\"#0078E3\" />\n",
       "<rect width=\"1\" height=\".96\" x=\"64\" y=\"0\" fill=\"#B2ADB9\" />\n",
       "<rect width=\"1\" height=\".96\" x=\"65\" y=\"0\" fill=\"#00C3C6\" />\n",
       "<rect width=\"1\" height=\".96\" x=\"66\" y=\"0\" fill=\"#00AEFF\" />\n",
       "<rect width=\"1\" height=\".96\" x=\"67\" y=\"0\" fill=\"#4E545F\" />\n",
       "<rect width=\"1\" height=\".96\" x=\"68\" y=\"0\" fill=\"#FF9BB0\" />\n",
       "<rect width=\"1\" height=\".96\" x=\"69\" y=\"0\" fill=\"#FED206\" />\n",
       "<rect width=\"1\" height=\".96\" x=\"70\" y=\"0\" fill=\"#687B7A\" />\n",
       "<rect width=\"1\" height=\".96\" x=\"71\" y=\"0\" fill=\"#B1DCFC\" />\n",
       "<rect width=\"1\" height=\".96\" x=\"72\" y=\"0\" fill=\"#FFF6FF\" />\n",
       "<rect width=\"1\" height=\".96\" x=\"73\" y=\"0\" fill=\"#620019\" />\n",
       "<rect width=\"1\" height=\".96\" x=\"74\" y=\"0\" fill=\"#C79253\" />\n",
       "<rect width=\"1\" height=\".96\" x=\"75\" y=\"0\" fill=\"#A891CF\" />\n",
       "<rect width=\"1\" height=\".96\" x=\"76\" y=\"0\" fill=\"#EF007A\" />\n",
       "<rect width=\"1\" height=\".96\" x=\"77\" y=\"0\" fill=\"#B8CE00\" />\n",
       "<rect width=\"1\" height=\".96\" x=\"78\" y=\"0\" fill=\"#001700\" />\n",
       "<rect width=\"1\" height=\".96\" x=\"79\" y=\"0\" fill=\"#204B39\" />\n",
       "<rect width=\"1\" height=\".96\" x=\"80\" y=\"0\" fill=\"#875866\" />\n",
       "<rect width=\"1\" height=\".96\" x=\"81\" y=\"0\" fill=\"#B5FF4E\" />\n",
       "<rect width=\"1\" height=\".96\" x=\"82\" y=\"0\" fill=\"#B40080\" />\n",
       "<rect width=\"1\" height=\".96\" x=\"83\" y=\"0\" fill=\"#853F34\" />\n",
       "<rect width=\"1\" height=\".96\" x=\"84\" y=\"0\" fill=\"#69936B\" />\n",
       "<rect width=\"1\" height=\".96\" x=\"85\" y=\"0\" fill=\"#FFBC80\" />\n",
       "<rect width=\"1\" height=\".96\" x=\"86\" y=\"0\" fill=\"#4C3779\" />\n",
       "<rect width=\"1\" height=\".96\" x=\"87\" y=\"0\" fill=\"#323606\" />\n",
       "<rect width=\"1\" height=\".96\" x=\"88\" y=\"0\" fill=\"#008E94\" />\n",
       "<rect width=\"1\" height=\".96\" x=\"89\" y=\"0\" fill=\"#CAAC51\" />\n",
       "<rect width=\"1\" height=\".96\" x=\"90\" y=\"0\" fill=\"#787B3B\" />\n",
       "<rect width=\"1\" height=\".96\" x=\"91\" y=\"0\" fill=\"#B6F9D9\" />\n",
       "<rect width=\"1\" height=\".96\" x=\"92\" y=\"0\" fill=\"#DA003F\" />\n",
       "<rect width=\"1\" height=\".96\" x=\"93\" y=\"0\" fill=\"#2E2124\" />\n",
       "<rect width=\"1\" height=\".96\" x=\"94\" y=\"0\" fill=\"#005815\" />\n",
       "<rect width=\"1\" height=\".96\" x=\"95\" y=\"0\" fill=\"#FF8E1D\" />\n",
       "<rect width=\"1\" height=\".96\" x=\"96\" y=\"0\" fill=\"#6674B1\" />\n",
       "<rect width=\"1\" height=\".96\" x=\"97\" y=\"0\" fill=\"#00CDAD\" />\n",
       "<rect width=\"1\" height=\".96\" x=\"98\" y=\"0\" fill=\"#007F63\" />\n",
       "<rect width=\"1\" height=\".96\" x=\"99\" y=\"0\" fill=\"#996F3D\" />\n",
       "</svg>"
      ],
      "text/plain": [
       "100-element Array{RGB{N0f8},1} with eltype RGB{FixedPointNumbers.Normed{UInt8,8}}:\n",
       " RGB{N0f8}(0.0,0.0,0.0)\n",
       " RGB{N0f8}(1.0,1.0,0.455)\n",
       " RGB{N0f8}(1.0,0.608,1.0)\n",
       " RGB{N0f8}(0.0,0.827,1.0)\n",
       " RGB{N0f8}(0.886,0.388,0.051)\n",
       " RGB{N0f8}(0.0,0.494,0.0)\n",
       " RGB{N0f8}(0.0,0.314,0.902)\n",
       " RGB{N0f8}(0.675,0.0,0.278)\n",
       " RGB{N0f8}(0.0,1.0,0.784)\n",
       " RGB{N0f8}(0.0,0.392,0.408)\n",
       " RGB{N0f8}(1.0,0.835,0.769)\n",
       " RGB{N0f8}(0.424,0.322,0.0)\n",
       " RGB{N0f8}(0.478,0.459,0.506)\n",
       " ⋮\n",
       " RGB{N0f8}(0.0,0.557,0.58)\n",
       " RGB{N0f8}(0.792,0.675,0.318)\n",
       " RGB{N0f8}(0.471,0.482,0.231)\n",
       " RGB{N0f8}(0.714,0.976,0.851)\n",
       " RGB{N0f8}(0.855,0.0,0.247)\n",
       " RGB{N0f8}(0.18,0.129,0.141)\n",
       " RGB{N0f8}(0.0,0.345,0.082)\n",
       " RGB{N0f8}(1.0,0.557,0.114)\n",
       " RGB{N0f8}(0.4,0.455,0.694)\n",
       " RGB{N0f8}(0.0,0.804,0.678)\n",
       " RGB{N0f8}(0.0,0.498,0.388)\n",
       " RGB{N0f8}(0.6,0.435,0.239)"
      ]
     },
     "execution_count": 120,
     "metadata": {},
     "output_type": "execute_result"
    }
   ],
   "source": [
    "palette = distinguishable_colors(100)"
   ]
  },
  {
   "cell_type": "code",
   "execution_count": 121,
   "metadata": {
    "collapsed": false
   },
   "outputs": [
    {
     "data": {
      "image/svg+xml": [
       "<?xml version=\"1.0\" encoding=\"UTF-8\"?>\n",
       "<!DOCTYPE svg PUBLIC \"-//W3C//DTD SVG 1.1//EN\"\n",
       " \"http://www.w3.org/Graphics/SVG/1.1/DTD/svg11.dtd\">\n",
       "<svg xmlns=\"http://www.w3.org/2000/svg\" version=\"1.1\"\n",
       "     width=\"75mm\" height=\"75mm\"\n",
       "     viewBox=\"0 0 3 3\" preserveAspectRatio=\"none\"\n",
       "     shape-rendering=\"crispEdges\" stroke=\"none\">\n",
       "<rect width=\".96\" height=\".96\" x=\"0\" y=\"0\" fill=\"#674F42\" />\n",
       "<rect width=\".96\" height=\".96\" x=\"1\" y=\"0\" fill=\"#006468\" />\n",
       "<rect width=\".96\" height=\".96\" x=\"2\" y=\"0\" fill=\"#853F34\" />\n",
       "<rect width=\".96\" height=\".96\" x=\"0\" y=\"1\" fill=\"#290001\" />\n",
       "<rect width=\".96\" height=\".96\" x=\"1\" y=\"1\" fill=\"#553C4A\" />\n",
       "<rect width=\".96\" height=\".96\" x=\"2\" y=\"1\" fill=\"#DA003F\" />\n",
       "<rect width=\".96\" height=\".96\" x=\"0\" y=\"2\" fill=\"#FFBC80\" />\n",
       "<rect width=\".96\" height=\".96\" x=\"1\" y=\"2\" fill=\"#2EFF71\" />\n",
       "<rect width=\".96\" height=\".96\" x=\"2\" y=\"2\" fill=\"#5EC700\" />\n",
       "</svg>"
      ],
      "text/plain": [
       "3×3 Array{RGB{N0f8},2} with eltype RGB{FixedPointNumbers.Normed{UInt8,8}}:\n",
       " RGB{N0f8}(0.404,0.31,0.259)  …  RGB{N0f8}(0.522,0.247,0.204)\n",
       " RGB{N0f8}(0.161,0.0,0.004)      RGB{N0f8}(0.855,0.0,0.247)\n",
       " RGB{N0f8}(1.0,0.737,0.502)      RGB{N0f8}(0.369,0.78,0.0)"
      ]
     },
     "execution_count": 121,
     "metadata": {},
     "output_type": "execute_result"
    }
   ],
   "source": [
    "rand(palette, 3, 3)"
   ]
  },
  {
   "cell_type": "code",
   "execution_count": 122,
   "metadata": {
    "collapsed": false
   },
   "outputs": [
    {
     "name": "stderr",
     "output_type": "stream",
     "text": [
      "\u001b[32m\u001b[1m  Resolving\u001b[22m\u001b[39m package versions...\n",
      "\u001b[32m\u001b[1m  Installed\u001b[22m\u001b[39m Primes ─ v0.5.0\n",
      "\u001b[32m\u001b[1mUpdating\u001b[22m\u001b[39m `~/.julia/environments/v1.5/Project.toml`\n",
      " \u001b[90m [27ebfcd6] \u001b[39m\u001b[92m+ Primes v0.5.0\u001b[39m\n",
      "\u001b[32m\u001b[1mUpdating\u001b[22m\u001b[39m `~/.julia/environments/v1.5/Manifest.toml`\n",
      " \u001b[90m [27ebfcd6] \u001b[39m\u001b[92m+ Primes v0.5.0\u001b[39m\n",
      "┌ Info: Precompiling Primes [27ebfcd6-29c5-5fa9-bf4b-fb8fc14df3ae]\n",
      "└ @ Base loading.jl:1278\n"
     ]
    }
   ],
   "source": [
    "Pkg.add(\"Primes\")\n",
    "using Primes"
   ]
  },
  {
   "cell_type": "code",
   "execution_count": 125,
   "metadata": {
    "collapsed": false
   },
   "outputs": [
    {
     "data": {
      "text/plain": [
       "false"
      ]
     },
     "execution_count": 125,
     "metadata": {},
     "output_type": "execute_result"
    }
   ],
   "source": [
    "primes_list = [10, 2003, 320,4235, 23432, 234938]\n",
    "primes_list == primes(1000000)"
   ]
  },
  {
   "cell_type": "markdown",
   "metadata": {},
   "source": [
    "## plotting \n",
    "- 줄리아에 플롯을 그리는 방법\n",
    "- Plots.jl 파일을 보면 어떻게 사용하는지 알수 있다. "
   ]
  },
  {
   "cell_type": "code",
   "execution_count": 126,
   "metadata": {
    "collapsed": false,
    "scrolled": true
   },
   "outputs": [
    {
     "name": "stderr",
     "output_type": "stream",
     "text": [
      "\u001b[32m\u001b[1m  Resolving\u001b[22m\u001b[39m package versions...\n",
      "\u001b[32m\u001b[1m  Installed\u001b[22m\u001b[39m FriBidi_jll ───────────────── v1.0.5+6\n",
      "\u001b[32m\u001b[1m  Installed\u001b[22m\u001b[39m Formatting ────────────────── v0.4.1\n",
      "\u001b[32m\u001b[1m  Installed\u001b[22m\u001b[39m libvorbis_jll ─────────────── v1.3.6+6\n",
      "\u001b[32m\u001b[1m  Installed\u001b[22m\u001b[39m Missings ──────────────────── v0.4.4\n",
      "\u001b[32m\u001b[1m  Installed\u001b[22m\u001b[39m StructArrays ──────────────── v0.4.4\n",
      "\u001b[32m\u001b[1m  Installed\u001b[22m\u001b[39m TableTraits ───────────────── v1.0.0\n",
      "\u001b[32m\u001b[1m  Installed\u001b[22m\u001b[39m FFMPEG ────────────────────── v0.4.0\n",
      "\u001b[32m\u001b[1m  Installed\u001b[22m\u001b[39m Plots ─────────────────────── v1.6.10\n",
      "\u001b[32m\u001b[1m  Installed\u001b[22m\u001b[39m x265_jll ──────────────────── v3.0.0+3\n",
      "\u001b[32m\u001b[1m  Installed\u001b[22m\u001b[39m LibVPX_jll ────────────────── v1.9.0+1\n",
      "\u001b[32m\u001b[1m  Installed\u001b[22m\u001b[39m MacroTools ────────────────── v0.5.5\n",
      "\u001b[32m\u001b[1m  Installed\u001b[22m\u001b[39m Showoff ───────────────────── v0.3.2\n",
      "\u001b[32m\u001b[1m  Installed\u001b[22m\u001b[39m Grisu ─────────────────────── v1.0.0\n",
      "\u001b[32m\u001b[1m  Installed\u001b[22m\u001b[39m LAME_jll ──────────────────── v3.100.0+3\n",
      "\u001b[32m\u001b[1m  Installed\u001b[22m\u001b[39m libass_jll ────────────────── v0.14.0+4\n",
      "\u001b[32m\u001b[1m  Installed\u001b[22m\u001b[39m DataAPI ───────────────────── v1.3.0\n",
      "\u001b[32m\u001b[1m  Installed\u001b[22m\u001b[39m OpenSSL_jll ───────────────── v1.1.1+6\n",
      "\u001b[32m\u001b[1m  Installed\u001b[22m\u001b[39m Contour ───────────────────── v0.5.5\n",
      "\u001b[32m\u001b[1m  Installed\u001b[22m\u001b[39m StatsBase ─────────────────── v0.33.2\n",
      "\u001b[32m\u001b[1m  Installed\u001b[22m\u001b[39m Measures ──────────────────── v0.3.1\n",
      "\u001b[32m\u001b[1m  Installed\u001b[22m\u001b[39m SortingAlgorithms ─────────── v0.3.1\n",
      "\u001b[32m\u001b[1m  Installed\u001b[22m\u001b[39m PlotUtils ─────────────────── v1.0.7\n",
      "\u001b[32m\u001b[1m  Installed\u001b[22m\u001b[39m NaNMath ───────────────────── v0.3.4\n",
      "\u001b[32m\u001b[1m  Installed\u001b[22m\u001b[39m RecipesPipeline ───────────── v0.1.13\n",
      "\u001b[32m\u001b[1m  Installed\u001b[22m\u001b[39m RecipesBase ───────────────── v1.1.0\n",
      "\u001b[32m\u001b[1m  Installed\u001b[22m\u001b[39m StaticArrays ──────────────── v0.12.4\n",
      "\u001b[32m\u001b[1m  Installed\u001b[22m\u001b[39m EarCut_jll ────────────────── v2.1.5+0\n",
      "\u001b[32m\u001b[1m  Installed\u001b[22m\u001b[39m Ogg_jll ───────────────────── v1.3.4+2\n",
      "\u001b[32m\u001b[1m  Installed\u001b[22m\u001b[39m Bzip2_jll ─────────────────── v1.0.6+5\n",
      "\u001b[32m\u001b[1m  Installed\u001b[22m\u001b[39m DataValueInterfaces ───────── v1.0.0\n",
      "\u001b[32m\u001b[1m  Installed\u001b[22m\u001b[39m Requires ──────────────────── v1.1.0\n",
      "\u001b[32m\u001b[1m  Installed\u001b[22m\u001b[39m DataStructures ────────────── v0.18.7\n",
      "\u001b[32m\u001b[1m  Installed\u001b[22m\u001b[39m ColorSchemes ──────────────── v3.10.1\n",
      "\u001b[32m\u001b[1m  Installed\u001b[22m\u001b[39m libfdk_aac_jll ────────────── v0.1.6+4\n",
      "\u001b[32m\u001b[1m  Installed\u001b[22m\u001b[39m IniFile ───────────────────── v0.5.0\n",
      "\u001b[32m\u001b[1m  Installed\u001b[22m\u001b[39m PlotThemes ────────────────── v2.0.0\n",
      "\u001b[32m\u001b[1m  Installed\u001b[22m\u001b[39m Compat ────────────────────── v3.20.0\n",
      "\u001b[32m\u001b[1m  Installed\u001b[22m\u001b[39m Opus_jll ──────────────────── v1.3.1+3\n",
      "\u001b[32m\u001b[1m  Installed\u001b[22m\u001b[39m x264_jll ──────────────────── v2020.7.14+2\n",
      "\u001b[32m\u001b[1m  Installed\u001b[22m\u001b[39m FFMPEG_jll ────────────────── v4.3.1+2\n",
      "\u001b[32m\u001b[1m  Installed\u001b[22m\u001b[39m Zlib_jll ──────────────────── v1.2.11+17\n",
      "\u001b[32m\u001b[1m  Installed\u001b[22m\u001b[39m GeometryBasics ────────────── v0.3.3\n",
      "\u001b[32m\u001b[1m  Installed\u001b[22m\u001b[39m GeometryTypes ─────────────── v0.8.3\n",
      "\u001b[32m\u001b[1m  Installed\u001b[22m\u001b[39m GR ────────────────────────── v0.52.0\n",
      "\u001b[32m\u001b[1m  Installed\u001b[22m\u001b[39m JLLWrappers ───────────────── v1.1.1\n",
      "\u001b[32m\u001b[1m  Installed\u001b[22m\u001b[39m Artifacts ─────────────────── v1.3.0\n",
      "\u001b[32m\u001b[1m  Installed\u001b[22m\u001b[39m FreeType2_jll ─────────────── v2.10.1+5\n",
      "\u001b[32m\u001b[1m  Installed\u001b[22m\u001b[39m LaTeXStrings ──────────────── v1.2.0\n",
      "\u001b[32m\u001b[1m  Installed\u001b[22m\u001b[39m Adapt ─────────────────────── v2.3.0\n",
      "\u001b[32m\u001b[1m  Installed\u001b[22m\u001b[39m OrderedCollections ────────── v1.3.1\n",
      "\u001b[32m\u001b[1m  Installed\u001b[22m\u001b[39m IterTools ─────────────────── v1.3.0\n",
      "\u001b[32m\u001b[1m  Installed\u001b[22m\u001b[39m IteratorInterfaceExtensions ─ v1.0.0\n",
      "\u001b[32m\u001b[1m  Installed\u001b[22m\u001b[39m Tables ────────────────────── v1.1.0\n",
      "\u001b[32m\u001b[1m  Installed\u001b[22m\u001b[39m HTTP ──────────────────────── v0.8.19\n",
      "\u001b[32m\u001b[1m  Installed\u001b[22m\u001b[39m Latexify ──────────────────── v0.14.0\n",
      "\u001b[32m\u001b[1mUpdating\u001b[22m\u001b[39m `~/.julia/environments/v1.5/Project.toml`\n",
      " \u001b[90m [91a5bcdd] \u001b[39m\u001b[92m+ Plots v1.6.10\u001b[39m\n",
      "\u001b[32m\u001b[1mUpdating\u001b[22m\u001b[39m `~/.julia/environments/v1.5/Manifest.toml`\n",
      " \u001b[90m [79e6a3ab] \u001b[39m\u001b[92m+ Adapt v2.3.0\u001b[39m\n",
      " \u001b[90m [56f22d72] \u001b[39m\u001b[92m+ Artifacts v1.3.0\u001b[39m\n",
      " \u001b[90m [6e34b625] \u001b[39m\u001b[92m+ Bzip2_jll v1.0.6+5\u001b[39m\n",
      " \u001b[90m [35d6a980] \u001b[39m\u001b[92m+ ColorSchemes v3.10.1\u001b[39m\n",
      " \u001b[90m [34da2185] \u001b[39m\u001b[92m+ Compat v3.20.0\u001b[39m\n",
      " \u001b[90m [d38c429a] \u001b[39m\u001b[92m+ Contour v0.5.5\u001b[39m\n",
      " \u001b[90m [9a962f9c] \u001b[39m\u001b[92m+ DataAPI v1.3.0\u001b[39m\n",
      " \u001b[90m [864edb3b] \u001b[39m\u001b[92m+ DataStructures v0.18.7\u001b[39m\n",
      " \u001b[90m [e2d170a0] \u001b[39m\u001b[92m+ DataValueInterfaces v1.0.0\u001b[39m\n",
      " \u001b[90m [5ae413db] \u001b[39m\u001b[92m+ EarCut_jll v2.1.5+0\u001b[39m\n",
      " \u001b[90m [c87230d0] \u001b[39m\u001b[92m+ FFMPEG v0.4.0\u001b[39m\n",
      " \u001b[90m [b22a6f82] \u001b[39m\u001b[92m+ FFMPEG_jll v4.3.1+2\u001b[39m\n",
      " \u001b[90m [59287772] \u001b[39m\u001b[92m+ Formatting v0.4.1\u001b[39m\n",
      " \u001b[90m [d7e528f0] \u001b[39m\u001b[92m+ FreeType2_jll v2.10.1+5\u001b[39m\n",
      " \u001b[90m [559328eb] \u001b[39m\u001b[92m+ FriBidi_jll v1.0.5+6\u001b[39m\n",
      " \u001b[90m [28b8d3ca] \u001b[39m\u001b[92m+ GR v0.52.0\u001b[39m\n",
      " \u001b[90m [5c1252a2] \u001b[39m\u001b[92m+ GeometryBasics v0.3.3\u001b[39m\n",
      " \u001b[90m [4d00f742] \u001b[39m\u001b[92m+ GeometryTypes v0.8.3\u001b[39m\n",
      " \u001b[90m [42e2da0e] \u001b[39m\u001b[92m+ Grisu v1.0.0\u001b[39m\n",
      " \u001b[90m [cd3eb016] \u001b[39m\u001b[92m+ HTTP v0.8.19\u001b[39m\n",
      " \u001b[90m [83e8ac13] \u001b[39m\u001b[92m+ IniFile v0.5.0\u001b[39m\n",
      " \u001b[90m [c8e1da08] \u001b[39m\u001b[92m+ IterTools v1.3.0\u001b[39m\n",
      " \u001b[90m [82899510] \u001b[39m\u001b[92m+ IteratorInterfaceExtensions v1.0.0\u001b[39m\n",
      " \u001b[90m [692b3bcd] \u001b[39m\u001b[92m+ JLLWrappers v1.1.1\u001b[39m\n",
      " \u001b[90m [c1c5ebd0] \u001b[39m\u001b[92m+ LAME_jll v3.100.0+3\u001b[39m\n",
      " \u001b[90m [b964fa9f] \u001b[39m\u001b[92m+ LaTeXStrings v1.2.0\u001b[39m\n",
      " \u001b[90m [23fbe1c1] \u001b[39m\u001b[92m+ Latexify v0.14.0\u001b[39m\n",
      " \u001b[90m [dd192d2f] \u001b[39m\u001b[92m+ LibVPX_jll v1.9.0+1\u001b[39m\n",
      " \u001b[90m [1914dd2f] \u001b[39m\u001b[92m+ MacroTools v0.5.5\u001b[39m\n",
      " \u001b[90m [442fdcdd] \u001b[39m\u001b[92m+ Measures v0.3.1\u001b[39m\n",
      " \u001b[90m [e1d29d7a] \u001b[39m\u001b[92m+ Missings v0.4.4\u001b[39m\n",
      " \u001b[90m [77ba4419] \u001b[39m\u001b[92m+ NaNMath v0.3.4\u001b[39m\n",
      " \u001b[90m [e7412a2a] \u001b[39m\u001b[92m+ Ogg_jll v1.3.4+2\u001b[39m\n",
      " \u001b[90m [458c3c95] \u001b[39m\u001b[92m+ OpenSSL_jll v1.1.1+6\u001b[39m\n",
      " \u001b[90m [91d4177d] \u001b[39m\u001b[92m+ Opus_jll v1.3.1+3\u001b[39m\n",
      " \u001b[90m [bac558e1] \u001b[39m\u001b[92m+ OrderedCollections v1.3.1\u001b[39m\n",
      " \u001b[90m [ccf2f8ad] \u001b[39m\u001b[92m+ PlotThemes v2.0.0\u001b[39m\n",
      " \u001b[90m [995b91a9] \u001b[39m\u001b[92m+ PlotUtils v1.0.7\u001b[39m\n",
      " \u001b[90m [91a5bcdd] \u001b[39m\u001b[92m+ Plots v1.6.10\u001b[39m\n",
      " \u001b[90m [3cdcf5f2] \u001b[39m\u001b[92m+ RecipesBase v1.1.0\u001b[39m\n",
      " \u001b[90m [01d81517] \u001b[39m\u001b[92m+ RecipesPipeline v0.1.13\u001b[39m\n",
      " \u001b[90m [ae029012] \u001b[39m\u001b[92m+ Requires v1.1.0\u001b[39m\n",
      " \u001b[90m [992d4aef] \u001b[39m\u001b[92m+ Showoff v0.3.2\u001b[39m\n",
      " \u001b[90m [a2af1166] \u001b[39m\u001b[92m+ SortingAlgorithms v0.3.1\u001b[39m\n",
      " \u001b[90m [90137ffa] \u001b[39m\u001b[92m+ StaticArrays v0.12.4\u001b[39m\n",
      " \u001b[90m [2913bbd2] \u001b[39m\u001b[92m+ StatsBase v0.33.2\u001b[39m\n",
      " \u001b[90m [09ab397b] \u001b[39m\u001b[92m+ StructArrays v0.4.4\u001b[39m\n",
      " \u001b[90m [3783bdb8] \u001b[39m\u001b[92m+ TableTraits v1.0.0\u001b[39m\n",
      " \u001b[90m [bd369af6] \u001b[39m\u001b[92m+ Tables v1.1.0\u001b[39m\n",
      " \u001b[90m [83775a58] \u001b[39m\u001b[92m+ Zlib_jll v1.2.11+17\u001b[39m\n",
      " \u001b[90m [0ac62f75] \u001b[39m\u001b[92m+ libass_jll v0.14.0+4\u001b[39m\n",
      " \u001b[90m [f638f0a6] \u001b[39m\u001b[92m+ libfdk_aac_jll v0.1.6+4\u001b[39m\n",
      " \u001b[90m [f27f6e37] \u001b[39m\u001b[92m+ libvorbis_jll v1.3.6+6\u001b[39m\n",
      " \u001b[90m [1270edf5] \u001b[39m\u001b[92m+ x264_jll v2020.7.14+2\u001b[39m\n",
      " \u001b[90m [dfaa095f] \u001b[39m\u001b[92m+ x265_jll v3.0.0+3\u001b[39m\n",
      " \u001b[90m [8bb1440f] \u001b[39m\u001b[92m+ DelimitedFiles\u001b[39m\n",
      " \u001b[90m [1a1011a3] \u001b[39m\u001b[92m+ SharedArrays\u001b[39m\n",
      "\u001b[32m\u001b[1m   Building\u001b[22m\u001b[39m GR → `~/.julia/packages/GR/BwGt2/deps/build.log`\n",
      "┌ Info: Precompiling Plots [91a5bcdd-55d7-5caf-9e0b-520d859cae80]\n",
      "└ @ Base loading.jl:1278\n"
     ]
    }
   ],
   "source": [
    "# 처음 사용할 경우 패키지 추가해준다\n",
    "Pkg.add(\"Plots\")\n",
    "using Plots"
   ]
  },
  {
   "cell_type": "code",
   "execution_count": 127,
   "metadata": {
    "collapsed": false
   },
   "outputs": [
    {
     "data": {
      "text/plain": [
       "6-element Array{Int64,1}:\n",
       " 45000\n",
       "  2000\n",
       " 15000\n",
       "  5000\n",
       "   400\n",
       "    17"
      ]
     },
     "execution_count": 127,
     "metadata": {},
     "output_type": "execute_result"
    }
   ],
   "source": [
    "globaltemperatures = [14.4, 14.5, 14.8, 15.2, 15.5, 15.8]\n",
    "numpirates = [45000, 2000, 15000, 5000, 400, 17]"
   ]
  },
  {
   "cell_type": "code",
   "execution_count": 129,
   "metadata": {
    "collapsed": false
   },
   "outputs": [
    {
     "data": {
      "image/svg+xml": [
       "<?xml version=\"1.0\" encoding=\"utf-8\"?>\n",
       "<svg xmlns=\"http://www.w3.org/2000/svg\" xmlns:xlink=\"http://www.w3.org/1999/xlink\" width=\"600\" height=\"400\" viewBox=\"0 0 2400 1600\">\n",
       "<defs>\n",
       "  <clipPath id=\"clip880\">\n",
       "    <rect x=\"0\" y=\"0\" width=\"2400\" height=\"1600\"/>\n",
       "  </clipPath>\n",
       "</defs>\n",
       "<path clip-path=\"url(#clip880)\" d=\"\n",
       "M0 1600 L2400 1600 L2400 0 L0 0  Z\n",
       "  \" fill=\"#ffffff\" fill-rule=\"evenodd\" fill-opacity=\"1\"/>\n",
       "<defs>\n",
       "  <clipPath id=\"clip881\">\n",
       "    <rect x=\"480\" y=\"0\" width=\"1681\" height=\"1600\"/>\n",
       "  </clipPath>\n",
       "</defs>\n",
       "<path clip-path=\"url(#clip880)\" d=\"\n",
       "M198.056 1474.16 L2352.76 1474.16 L2352.76 47.2441 L198.056 47.2441  Z\n",
       "  \" fill=\"#ffffff\" fill-rule=\"evenodd\" fill-opacity=\"1\"/>\n",
       "<defs>\n",
       "  <clipPath id=\"clip882\">\n",
       "    <rect x=\"198\" y=\"47\" width=\"2156\" height=\"1428\"/>\n",
       "  </clipPath>\n",
       "</defs>\n",
       "<polyline clip-path=\"url(#clip882)\" style=\"stroke:#000000; stroke-width:2; stroke-opacity:0.1; fill:none\" points=\"\n",
       "  258.27,1474.16 258.27,47.2441 \n",
       "  \"/>\n",
       "<polyline clip-path=\"url(#clip882)\" style=\"stroke:#000000; stroke-width:2; stroke-opacity:0.1; fill:none\" points=\"\n",
       "  710.16,1474.16 710.16,47.2441 \n",
       "  \"/>\n",
       "<polyline clip-path=\"url(#clip882)\" style=\"stroke:#000000; stroke-width:2; stroke-opacity:0.1; fill:none\" points=\"\n",
       "  1162.05,1474.16 1162.05,47.2441 \n",
       "  \"/>\n",
       "<polyline clip-path=\"url(#clip882)\" style=\"stroke:#000000; stroke-width:2; stroke-opacity:0.1; fill:none\" points=\"\n",
       "  1613.94,1474.16 1613.94,47.2441 \n",
       "  \"/>\n",
       "<polyline clip-path=\"url(#clip882)\" style=\"stroke:#000000; stroke-width:2; stroke-opacity:0.1; fill:none\" points=\"\n",
       "  2065.83,1474.16 2065.83,47.2441 \n",
       "  \"/>\n",
       "<polyline clip-path=\"url(#clip880)\" style=\"stroke:#000000; stroke-width:4; stroke-opacity:1; fill:none\" points=\"\n",
       "  198.056,1474.16 2352.76,1474.16 \n",
       "  \"/>\n",
       "<polyline clip-path=\"url(#clip880)\" style=\"stroke:#000000; stroke-width:4; stroke-opacity:1; fill:none\" points=\"\n",
       "  258.27,1474.16 258.27,1457.04 \n",
       "  \"/>\n",
       "<polyline clip-path=\"url(#clip880)\" style=\"stroke:#000000; stroke-width:4; stroke-opacity:1; fill:none\" points=\"\n",
       "  710.16,1474.16 710.16,1457.04 \n",
       "  \"/>\n",
       "<polyline clip-path=\"url(#clip880)\" style=\"stroke:#000000; stroke-width:4; stroke-opacity:1; fill:none\" points=\"\n",
       "  1162.05,1474.16 1162.05,1457.04 \n",
       "  \"/>\n",
       "<polyline clip-path=\"url(#clip880)\" style=\"stroke:#000000; stroke-width:4; stroke-opacity:1; fill:none\" points=\"\n",
       "  1613.94,1474.16 1613.94,1457.04 \n",
       "  \"/>\n",
       "<polyline clip-path=\"url(#clip880)\" style=\"stroke:#000000; stroke-width:4; stroke-opacity:1; fill:none\" points=\"\n",
       "  2065.83,1474.16 2065.83,1457.04 \n",
       "  \"/>\n",
       "<path clip-path=\"url(#clip880)\" d=\"M 0 0 M258.27 1503.36 Q254.659 1503.36 252.83 1506.92 Q251.025 1510.46 251.025 1517.59 Q251.025 1524.7 252.83 1528.26 Q254.659 1531.8 258.27 1531.8 Q261.904 1531.8 263.71 1528.26 Q265.539 1524.7 265.539 1517.59 Q265.539 1510.46 263.71 1506.92 Q261.904 1503.36 258.27 1503.36 M258.27 1499.65 Q264.08 1499.65 267.136 1504.26 Q270.215 1508.84 270.215 1517.59 Q270.215 1526.32 267.136 1530.92 Q264.08 1535.51 258.27 1535.51 Q252.46 1535.51 249.381 1530.92 Q246.326 1526.32 246.326 1517.59 Q246.326 1508.84 249.381 1504.26 Q252.46 1499.65 258.27 1499.65 Z\" fill=\"#000000\" fill-rule=\"evenodd\" fill-opacity=\"1\" /><path clip-path=\"url(#clip880)\" d=\"M 0 0 M647.29 1552.44 L654.929 1552.44 L654.929 1526.07 L646.619 1527.74 L646.619 1523.48 L654.882 1521.81 L659.558 1521.81 L659.558 1552.44 L667.197 1552.44 L667.197 1556.37 L647.29 1556.37 L647.29 1552.44 Z\" fill=\"#000000\" fill-rule=\"evenodd\" fill-opacity=\"1\" /><path clip-path=\"url(#clip880)\" d=\"M 0 0 M700.438 1530.91 L689.859 1541.53 L700.438 1552.11 L697.683 1554.91 L687.058 1544.29 L676.433 1554.91 L673.702 1552.11 L684.257 1541.53 L673.702 1530.91 L676.433 1528.11 L687.058 1538.73 L697.683 1528.11 L700.438 1530.91 Z\" fill=\"#000000\" fill-rule=\"evenodd\" fill-opacity=\"1\" /><path clip-path=\"url(#clip880)\" d=\"M 0 0 M706.317 1552.44 L713.956 1552.44 L713.956 1526.07 L705.646 1527.74 L705.646 1523.48 L713.91 1521.81 L718.586 1521.81 L718.586 1552.44 L726.225 1552.44 L726.225 1556.37 L706.317 1556.37 L706.317 1552.44 Z\" fill=\"#000000\" fill-rule=\"evenodd\" fill-opacity=\"1\" /><path clip-path=\"url(#clip880)\" d=\"M 0 0 M741.294 1524.89 Q737.683 1524.89 735.854 1528.46 Q734.049 1532 734.049 1539.13 Q734.049 1546.23 735.854 1549.8 Q737.683 1553.34 741.294 1553.34 Q744.928 1553.34 746.734 1549.8 Q748.562 1546.23 748.562 1539.13 Q748.562 1532 746.734 1528.46 Q744.928 1524.89 741.294 1524.89 M741.294 1521.19 Q747.104 1521.19 750.16 1525.79 Q753.238 1530.38 753.238 1539.13 Q753.238 1547.85 750.16 1552.46 Q747.104 1557.04 741.294 1557.04 Q735.484 1557.04 732.405 1552.46 Q729.35 1547.85 729.35 1539.13 Q729.35 1530.38 732.405 1525.79 Q735.484 1521.19 741.294 1521.19 Z\" fill=\"#000000\" fill-rule=\"evenodd\" fill-opacity=\"1\" /><path clip-path=\"url(#clip880)\" d=\"M 0 0 M765.915 1504.19 L756.323 1519.18 L765.915 1519.18 L765.915 1504.19 M764.918 1500.88 L769.695 1500.88 L769.695 1519.18 L773.701 1519.18 L773.701 1522.34 L769.695 1522.34 L769.695 1528.96 L765.915 1528.96 L765.915 1522.34 L753.238 1522.34 L753.238 1518.67 L764.918 1500.88 Z\" fill=\"#000000\" fill-rule=\"evenodd\" fill-opacity=\"1\" /><path clip-path=\"url(#clip880)\" d=\"M 0 0 M1103.45 1552.44 L1119.77 1552.44 L1119.77 1556.37 L1097.83 1556.37 L1097.83 1552.44 Q1100.49 1549.68 1105.07 1545.05 Q1109.68 1540.4 1110.86 1539.06 Q1113.1 1536.53 1113.98 1534.8 Q1114.89 1533.04 1114.89 1531.35 Q1114.89 1528.59 1112.94 1526.86 Q1111.02 1525.12 1107.92 1525.12 Q1105.72 1525.12 1103.27 1525.89 Q1100.83 1526.65 1098.06 1528.2 L1098.06 1523.48 Q1100.88 1522.34 1103.33 1521.77 Q1105.79 1521.19 1107.83 1521.19 Q1113.2 1521.19 1116.39 1523.87 Q1119.58 1526.56 1119.58 1531.05 Q1119.58 1533.18 1118.77 1535.1 Q1117.99 1537 1115.88 1539.59 Q1115.3 1540.26 1112.2 1543.48 Q1109.1 1546.67 1103.45 1552.44 Z\" fill=\"#000000\" fill-rule=\"evenodd\" fill-opacity=\"1\" /><path clip-path=\"url(#clip880)\" d=\"M 0 0 M1153.01 1530.91 L1142.43 1541.53 L1153.01 1552.11 L1150.26 1554.91 L1139.63 1544.29 L1129.01 1554.91 L1126.27 1552.11 L1136.83 1541.53 L1126.27 1530.91 L1129.01 1528.11 L1139.63 1538.73 L1150.26 1528.11 L1153.01 1530.91 Z\" fill=\"#000000\" fill-rule=\"evenodd\" fill-opacity=\"1\" /><path clip-path=\"url(#clip880)\" d=\"M 0 0 M1158.89 1552.44 L1166.53 1552.44 L1166.53 1526.07 L1158.22 1527.74 L1158.22 1523.48 L1166.48 1521.81 L1171.16 1521.81 L1171.16 1552.44 L1178.8 1552.44 L1178.8 1556.37 L1158.89 1556.37 L1158.89 1552.44 Z\" fill=\"#000000\" fill-rule=\"evenodd\" fill-opacity=\"1\" /><path clip-path=\"url(#clip880)\" d=\"M 0 0 M1193.87 1524.89 Q1190.26 1524.89 1188.43 1528.46 Q1186.62 1532 1186.62 1539.13 Q1186.62 1546.23 1188.43 1549.8 Q1190.26 1553.34 1193.87 1553.34 Q1197.5 1553.34 1199.31 1549.8 Q1201.14 1546.23 1201.14 1539.13 Q1201.14 1532 1199.31 1528.46 Q1197.5 1524.89 1193.87 1524.89 M1193.87 1521.19 Q1199.68 1521.19 1202.73 1525.79 Q1205.81 1530.38 1205.81 1539.13 Q1205.81 1547.85 1202.73 1552.46 Q1199.68 1557.04 1193.87 1557.04 Q1188.06 1557.04 1184.98 1552.46 Q1181.92 1547.85 1181.92 1539.13 Q1181.92 1530.38 1184.98 1525.79 Q1188.06 1521.19 1193.87 1521.19 Z\" fill=\"#000000\" fill-rule=\"evenodd\" fill-opacity=\"1\" /><path clip-path=\"url(#clip880)\" d=\"M 0 0 M1218.49 1504.19 L1208.9 1519.18 L1218.49 1519.18 L1218.49 1504.19 M1217.49 1500.88 L1222.27 1500.88 L1222.27 1519.18 L1226.27 1519.18 L1226.27 1522.34 L1222.27 1522.34 L1222.27 1528.96 L1218.49 1528.96 L1218.49 1522.34 L1205.81 1522.34 L1205.81 1518.67 L1217.49 1500.88 Z\" fill=\"#000000\" fill-rule=\"evenodd\" fill-opacity=\"1\" /><path clip-path=\"url(#clip880)\" d=\"M 0 0 M1564.93 1537.74 Q1568.29 1538.46 1570.17 1540.72 Q1572.06 1542.99 1572.06 1546.33 Q1572.06 1551.44 1568.55 1554.24 Q1565.03 1557.04 1558.55 1557.04 Q1556.37 1557.04 1554.06 1556.6 Q1551.76 1556.19 1549.31 1555.33 L1549.31 1550.82 Q1551.25 1551.95 1553.57 1552.53 Q1555.88 1553.11 1558.41 1553.11 Q1562.81 1553.11 1565.1 1551.37 Q1567.41 1549.64 1567.41 1546.33 Q1567.41 1543.27 1565.26 1541.56 Q1563.13 1539.82 1559.31 1539.82 L1555.28 1539.82 L1555.28 1535.98 L1559.5 1535.98 Q1562.94 1535.98 1564.77 1534.61 Q1566.6 1533.22 1566.6 1530.63 Q1566.6 1527.97 1564.7 1526.56 Q1562.83 1525.12 1559.31 1525.12 Q1557.39 1525.12 1555.19 1525.54 Q1552.99 1525.96 1550.35 1526.83 L1550.35 1522.67 Q1553.01 1521.93 1555.33 1521.56 Q1557.67 1521.19 1559.73 1521.19 Q1565.05 1521.19 1568.15 1523.62 Q1571.25 1526.02 1571.25 1530.15 Q1571.25 1533.02 1569.61 1535.01 Q1567.97 1536.97 1564.93 1537.74 Z\" fill=\"#000000\" fill-rule=\"evenodd\" fill-opacity=\"1\" /><path clip-path=\"url(#clip880)\" d=\"M 0 0 M1605.31 1530.91 L1594.73 1541.53 L1605.31 1552.11 L1602.55 1554.91 L1591.93 1544.29 L1581.3 1554.91 L1578.57 1552.11 L1589.12 1541.53 L1578.57 1530.91 L1581.3 1528.11 L1591.93 1538.73 L1602.55 1528.11 L1605.31 1530.91 Z\" fill=\"#000000\" fill-rule=\"evenodd\" fill-opacity=\"1\" /><path clip-path=\"url(#clip880)\" d=\"M 0 0 M1611.18 1552.44 L1618.82 1552.44 L1618.82 1526.07 L1610.51 1527.74 L1610.51 1523.48 L1618.78 1521.81 L1623.45 1521.81 L1623.45 1552.44 L1631.09 1552.44 L1631.09 1556.37 L1611.18 1556.37 L1611.18 1552.44 Z\" fill=\"#000000\" fill-rule=\"evenodd\" fill-opacity=\"1\" /><path clip-path=\"url(#clip880)\" d=\"M 0 0 M1646.16 1524.89 Q1642.55 1524.89 1640.72 1528.46 Q1638.92 1532 1638.92 1539.13 Q1638.92 1546.23 1640.72 1549.8 Q1642.55 1553.34 1646.16 1553.34 Q1649.8 1553.34 1651.6 1549.8 Q1653.43 1546.23 1653.43 1539.13 Q1653.43 1532 1651.6 1528.46 Q1649.8 1524.89 1646.16 1524.89 M1646.16 1521.19 Q1651.97 1521.19 1655.03 1525.79 Q1658.11 1530.38 1658.11 1539.13 Q1658.11 1547.85 1655.03 1552.46 Q1651.97 1557.04 1646.16 1557.04 Q1640.35 1557.04 1637.27 1552.46 Q1634.22 1547.85 1634.22 1539.13 Q1634.22 1530.38 1637.27 1525.79 Q1640.35 1521.19 1646.16 1521.19 Z\" fill=\"#000000\" fill-rule=\"evenodd\" fill-opacity=\"1\" /><path clip-path=\"url(#clip880)\" d=\"M 0 0 M1670.78 1504.19 L1661.19 1519.18 L1670.78 1519.18 L1670.78 1504.19 M1669.79 1500.88 L1674.56 1500.88 L1674.56 1519.18 L1678.57 1519.18 L1678.57 1522.34 L1674.56 1522.34 L1674.56 1528.96 L1670.78 1528.96 L1670.78 1522.34 L1658.11 1522.34 L1658.11 1518.67 L1669.79 1500.88 Z\" fill=\"#000000\" fill-rule=\"evenodd\" fill-opacity=\"1\" /><path clip-path=\"url(#clip880)\" d=\"M 0 0 M2015.59 1525.89 L2003.78 1544.33 L2015.59 1544.33 L2015.59 1525.89 M2014.36 1521.81 L2020.24 1521.81 L2020.24 1544.33 L2025.17 1544.33 L2025.17 1548.22 L2020.24 1548.22 L2020.24 1556.37 L2015.59 1556.37 L2015.59 1548.22 L1999.98 1548.22 L1999.98 1543.71 L2014.36 1521.81 Z\" fill=\"#000000\" fill-rule=\"evenodd\" fill-opacity=\"1\" /><path clip-path=\"url(#clip880)\" d=\"M 0 0 M2058.41 1530.91 L2047.83 1541.53 L2058.41 1552.11 L2055.66 1554.91 L2045.03 1544.29 L2034.41 1554.91 L2031.67 1552.11 L2042.23 1541.53 L2031.67 1530.91 L2034.41 1528.11 L2045.03 1538.73 L2055.66 1528.11 L2058.41 1530.91 Z\" fill=\"#000000\" fill-rule=\"evenodd\" fill-opacity=\"1\" /><path clip-path=\"url(#clip880)\" d=\"M 0 0 M2064.29 1552.44 L2071.93 1552.44 L2071.93 1526.07 L2063.62 1527.74 L2063.62 1523.48 L2071.88 1521.81 L2076.56 1521.81 L2076.56 1552.44 L2084.2 1552.44 L2084.2 1556.37 L2064.29 1556.37 L2064.29 1552.44 Z\" fill=\"#000000\" fill-rule=\"evenodd\" fill-opacity=\"1\" /><path clip-path=\"url(#clip880)\" d=\"M 0 0 M2099.27 1524.89 Q2095.66 1524.89 2093.83 1528.46 Q2092.02 1532 2092.02 1539.13 Q2092.02 1546.23 2093.83 1549.8 Q2095.66 1553.34 2099.27 1553.34 Q2102.9 1553.34 2104.71 1549.8 Q2106.53 1546.23 2106.53 1539.13 Q2106.53 1532 2104.71 1528.46 Q2102.9 1524.89 2099.27 1524.89 M2099.27 1521.19 Q2105.08 1521.19 2108.13 1525.79 Q2111.21 1530.38 2111.21 1539.13 Q2111.21 1547.85 2108.13 1552.46 Q2105.08 1557.04 2099.27 1557.04 Q2093.46 1557.04 2090.38 1552.46 Q2087.32 1547.85 2087.32 1539.13 Q2087.32 1530.38 2090.38 1525.79 Q2093.46 1521.19 2099.27 1521.19 Z\" fill=\"#000000\" fill-rule=\"evenodd\" fill-opacity=\"1\" /><path clip-path=\"url(#clip880)\" d=\"M 0 0 M2123.89 1504.19 L2114.3 1519.18 L2123.89 1519.18 L2123.89 1504.19 M2122.89 1500.88 L2127.67 1500.88 L2127.67 1519.18 L2131.67 1519.18 L2131.67 1522.34 L2127.67 1522.34 L2127.67 1528.96 L2123.89 1528.96 L2123.89 1522.34 L2111.21 1522.34 L2111.21 1518.67 L2122.89 1500.88 Z\" fill=\"#000000\" fill-rule=\"evenodd\" fill-opacity=\"1\" /><polyline clip-path=\"url(#clip882)\" style=\"stroke:#000000; stroke-width:2; stroke-opacity:0.1; fill:none\" points=\"\n",
       "  198.056,1337.63 2352.76,1337.63 \n",
       "  \"/>\n",
       "<polyline clip-path=\"url(#clip882)\" style=\"stroke:#000000; stroke-width:2; stroke-opacity:0.1; fill:none\" points=\"\n",
       "  198.056,1097.24 2352.76,1097.24 \n",
       "  \"/>\n",
       "<polyline clip-path=\"url(#clip882)\" style=\"stroke:#000000; stroke-width:2; stroke-opacity:0.1; fill:none\" points=\"\n",
       "  198.056,856.858 2352.76,856.858 \n",
       "  \"/>\n",
       "<polyline clip-path=\"url(#clip882)\" style=\"stroke:#000000; stroke-width:2; stroke-opacity:0.1; fill:none\" points=\"\n",
       "  198.056,616.474 2352.76,616.474 \n",
       "  \"/>\n",
       "<polyline clip-path=\"url(#clip882)\" style=\"stroke:#000000; stroke-width:2; stroke-opacity:0.1; fill:none\" points=\"\n",
       "  198.056,376.09 2352.76,376.09 \n",
       "  \"/>\n",
       "<polyline clip-path=\"url(#clip882)\" style=\"stroke:#000000; stroke-width:2; stroke-opacity:0.1; fill:none\" points=\"\n",
       "  198.056,135.705 2352.76,135.705 \n",
       "  \"/>\n",
       "<polyline clip-path=\"url(#clip880)\" style=\"stroke:#000000; stroke-width:4; stroke-opacity:1; fill:none\" points=\"\n",
       "  198.056,1474.16 198.056,47.2441 \n",
       "  \"/>\n",
       "<polyline clip-path=\"url(#clip880)\" style=\"stroke:#000000; stroke-width:4; stroke-opacity:1; fill:none\" points=\"\n",
       "  198.056,1337.63 223.913,1337.63 \n",
       "  \"/>\n",
       "<polyline clip-path=\"url(#clip880)\" style=\"stroke:#000000; stroke-width:4; stroke-opacity:1; fill:none\" points=\"\n",
       "  198.056,1097.24 223.913,1097.24 \n",
       "  \"/>\n",
       "<polyline clip-path=\"url(#clip880)\" style=\"stroke:#000000; stroke-width:4; stroke-opacity:1; fill:none\" points=\"\n",
       "  198.056,856.858 223.913,856.858 \n",
       "  \"/>\n",
       "<polyline clip-path=\"url(#clip880)\" style=\"stroke:#000000; stroke-width:4; stroke-opacity:1; fill:none\" points=\"\n",
       "  198.056,616.474 223.913,616.474 \n",
       "  \"/>\n",
       "<polyline clip-path=\"url(#clip880)\" style=\"stroke:#000000; stroke-width:4; stroke-opacity:1; fill:none\" points=\"\n",
       "  198.056,376.09 223.913,376.09 \n",
       "  \"/>\n",
       "<polyline clip-path=\"url(#clip880)\" style=\"stroke:#000000; stroke-width:4; stroke-opacity:1; fill:none\" points=\"\n",
       "  198.056,135.705 223.913,135.705 \n",
       "  \"/>\n",
       "<path clip-path=\"url(#clip880)\" d=\"M 0 0 M51.6634 1350.97 L59.3023 1350.97 L59.3023 1324.61 L50.9921 1326.27 L50.9921 1322.01 L59.256 1320.35 L63.9319 1320.35 L63.9319 1350.97 L71.5707 1350.97 L71.5707 1354.91 L51.6634 1354.91 L51.6634 1350.97 Z\" fill=\"#000000\" fill-rule=\"evenodd\" fill-opacity=\"1\" /><path clip-path=\"url(#clip880)\" d=\"M 0 0 M89.4873 1324.42 L77.6818 1342.87 L89.4873 1342.87 L89.4873 1324.42 M88.2604 1320.35 L94.14 1320.35 L94.14 1342.87 L99.0706 1342.87 L99.0706 1346.76 L94.14 1346.76 L94.14 1354.91 L89.4873 1354.91 L89.4873 1346.76 L73.8855 1346.76 L73.8855 1342.24 L88.2604 1320.35 Z\" fill=\"#000000\" fill-rule=\"evenodd\" fill-opacity=\"1\" /><path clip-path=\"url(#clip880)\" d=\"M 0 0 M104.14 1349.03 L109.024 1349.03 L109.024 1354.91 L104.14 1354.91 L104.14 1349.03 Z\" fill=\"#000000\" fill-rule=\"evenodd\" fill-opacity=\"1\" /><path clip-path=\"url(#clip880)\" d=\"M 0 0 M114.14 1320.35 L132.496 1320.35 L132.496 1324.28 L118.422 1324.28 L118.422 1332.75 Q119.441 1332.41 120.459 1332.24 Q121.478 1332.06 122.496 1332.06 Q128.283 1332.06 131.663 1335.23 Q135.043 1338.4 135.043 1343.82 Q135.043 1349.4 131.57 1352.5 Q128.098 1355.58 121.779 1355.58 Q119.603 1355.58 117.334 1355.21 Q115.089 1354.84 112.682 1354.1 L112.682 1349.4 Q114.765 1350.53 116.987 1351.09 Q119.209 1351.64 121.686 1351.64 Q125.691 1351.64 128.029 1349.54 Q130.367 1347.43 130.367 1343.82 Q130.367 1340.21 128.029 1338.1 Q125.691 1335.99 121.686 1335.99 Q119.811 1335.99 117.936 1336.41 Q116.084 1336.83 114.14 1337.71 L114.14 1320.35 Z\" fill=\"#000000\" fill-rule=\"evenodd\" fill-opacity=\"1\" /><path clip-path=\"url(#clip880)\" d=\"M 0 0 M150.112 1323.43 Q146.501 1323.43 144.672 1326.99 Q142.867 1330.53 142.867 1337.66 Q142.867 1344.77 144.672 1348.33 Q146.501 1351.87 150.112 1351.87 Q153.746 1351.87 155.552 1348.33 Q157.38 1344.77 157.38 1337.66 Q157.38 1330.53 155.552 1326.99 Q153.746 1323.43 150.112 1323.43 M150.112 1319.72 Q155.922 1319.72 158.978 1324.33 Q162.056 1328.91 162.056 1337.66 Q162.056 1346.39 158.978 1350.99 Q155.922 1355.58 150.112 1355.58 Q144.302 1355.58 141.223 1350.99 Q138.168 1346.39 138.168 1337.66 Q138.168 1328.91 141.223 1324.33 Q144.302 1319.72 150.112 1319.72 Z\" fill=\"#000000\" fill-rule=\"evenodd\" fill-opacity=\"1\" /><path clip-path=\"url(#clip880)\" d=\"M 0 0 M52.5662 1110.59 L60.205 1110.59 L60.205 1084.22 L51.8949 1085.89 L51.8949 1081.63 L60.1587 1079.96 L64.8346 1079.96 L64.8346 1110.59 L72.4735 1110.59 L72.4735 1114.52 L52.5662 1114.52 L52.5662 1110.59 Z\" fill=\"#000000\" fill-rule=\"evenodd\" fill-opacity=\"1\" /><path clip-path=\"url(#clip880)\" d=\"M 0 0 M90.3901 1084.04 L78.5846 1102.49 L90.3901 1102.49 L90.3901 1084.04 M89.1632 1079.96 L95.0428 1079.96 L95.0428 1102.49 L99.9733 1102.49 L99.9733 1106.37 L95.0428 1106.37 L95.0428 1114.52 L90.3901 1114.52 L90.3901 1106.37 L74.7883 1106.37 L74.7883 1101.86 L89.1632 1079.96 Z\" fill=\"#000000\" fill-rule=\"evenodd\" fill-opacity=\"1\" /><path clip-path=\"url(#clip880)\" d=\"M 0 0 M105.043 1108.64 L109.927 1108.64 L109.927 1114.52 L105.043 1114.52 L105.043 1108.64 Z\" fill=\"#000000\" fill-rule=\"evenodd\" fill-opacity=\"1\" /><path clip-path=\"url(#clip880)\" d=\"M 0 0 M113.816 1079.96 L136.038 1079.96 L136.038 1081.95 L123.492 1114.52 L118.608 1114.52 L130.413 1083.9 L113.816 1083.9 L113.816 1079.96 Z\" fill=\"#000000\" fill-rule=\"evenodd\" fill-opacity=\"1\" /><path clip-path=\"url(#clip880)\" d=\"M 0 0 M141.154 1079.96 L159.51 1079.96 L159.51 1083.9 L145.436 1083.9 L145.436 1092.37 Q146.455 1092.02 147.473 1091.86 Q148.492 1091.68 149.51 1091.68 Q155.297 1091.68 158.677 1094.85 Q162.056 1098.02 162.056 1103.43 Q162.056 1109.01 158.584 1112.11 Q155.112 1115.19 148.793 1115.19 Q146.617 1115.19 144.348 1114.82 Q142.103 1114.45 139.695 1113.71 L139.695 1109.01 Q141.779 1110.15 144.001 1110.7 Q146.223 1111.26 148.7 1111.26 Q152.705 1111.26 155.042 1109.15 Q157.38 1107.05 157.38 1103.43 Q157.38 1099.82 155.042 1097.72 Q152.705 1095.61 148.7 1095.61 Q146.825 1095.61 144.95 1096.03 Q143.098 1096.44 141.154 1097.32 L141.154 1079.96 Z\" fill=\"#000000\" fill-rule=\"evenodd\" fill-opacity=\"1\" /><path clip-path=\"url(#clip880)\" d=\"M 0 0 M52.1495 870.203 L59.7884 870.203 L59.7884 843.837 L51.4782 845.504 L51.4782 841.245 L59.7421 839.578 L64.418 839.578 L64.418 870.203 L72.0568 870.203 L72.0568 874.138 L52.1495 874.138 L52.1495 870.203 Z\" fill=\"#000000\" fill-rule=\"evenodd\" fill-opacity=\"1\" /><path clip-path=\"url(#clip880)\" d=\"M 0 0 M77.1725 839.578 L95.5289 839.578 L95.5289 843.513 L81.4549 843.513 L81.4549 851.985 Q82.4734 851.638 83.492 851.476 Q84.5105 851.291 85.529 851.291 Q91.316 851.291 94.6956 854.462 Q98.0752 857.634 98.0752 863.05 Q98.0752 868.629 94.603 871.731 Q91.1308 874.809 84.8114 874.809 Q82.6355 874.809 80.367 874.439 Q78.1216 874.069 75.7142 873.328 L75.7142 868.629 Q77.7975 869.763 80.0197 870.319 Q82.242 870.874 84.7188 870.874 Q88.7234 870.874 91.0614 868.768 Q93.3993 866.661 93.3993 863.05 Q93.3993 859.439 91.0614 857.333 Q88.7234 855.226 84.7188 855.226 Q82.8438 855.226 80.9688 855.643 Q79.117 856.059 77.1725 856.939 L77.1725 839.578 Z\" fill=\"#000000\" fill-rule=\"evenodd\" fill-opacity=\"1\" /><path clip-path=\"url(#clip880)\" d=\"M 0 0 M103.145 868.258 L108.029 868.258 L108.029 874.138 L103.145 874.138 L103.145 868.258 Z\" fill=\"#000000\" fill-rule=\"evenodd\" fill-opacity=\"1\" /><path clip-path=\"url(#clip880)\" d=\"M 0 0 M123.098 842.657 Q119.487 842.657 117.658 846.222 Q115.853 849.763 115.853 856.893 Q115.853 863.999 117.658 867.564 Q119.487 871.106 123.098 871.106 Q126.732 871.106 128.538 867.564 Q130.367 863.999 130.367 856.893 Q130.367 849.763 128.538 846.222 Q126.732 842.657 123.098 842.657 M123.098 838.953 Q128.908 838.953 131.964 843.56 Q135.043 848.143 135.043 856.893 Q135.043 865.62 131.964 870.226 Q128.908 874.809 123.098 874.809 Q117.288 874.809 114.209 870.226 Q111.154 865.62 111.154 856.893 Q111.154 848.143 114.209 843.56 Q117.288 838.953 123.098 838.953 Z\" fill=\"#000000\" fill-rule=\"evenodd\" fill-opacity=\"1\" /><path clip-path=\"url(#clip880)\" d=\"M 0 0 M150.112 842.657 Q146.501 842.657 144.672 846.222 Q142.867 849.763 142.867 856.893 Q142.867 863.999 144.672 867.564 Q146.501 871.106 150.112 871.106 Q153.746 871.106 155.552 867.564 Q157.38 863.999 157.38 856.893 Q157.38 849.763 155.552 846.222 Q153.746 842.657 150.112 842.657 M150.112 838.953 Q155.922 838.953 158.978 843.56 Q162.056 848.143 162.056 856.893 Q162.056 865.62 158.978 870.226 Q155.922 874.809 150.112 874.809 Q144.302 874.809 141.223 870.226 Q138.168 865.62 138.168 856.893 Q138.168 848.143 141.223 843.56 Q144.302 838.953 150.112 838.953 Z\" fill=\"#000000\" fill-rule=\"evenodd\" fill-opacity=\"1\" /><path clip-path=\"url(#clip880)\" d=\"M 0 0 M54.7421 629.819 L62.381 629.819 L62.381 603.453 L54.0708 605.12 L54.0708 600.861 L62.3347 599.194 L67.0106 599.194 L67.0106 629.819 L74.6494 629.819 L74.6494 633.754 L54.7421 633.754 L54.7421 629.819 Z\" fill=\"#000000\" fill-rule=\"evenodd\" fill-opacity=\"1\" /><path clip-path=\"url(#clip880)\" d=\"M 0 0 M79.7651 599.194 L98.1215 599.194 L98.1215 603.129 L84.0475 603.129 L84.0475 611.601 Q85.066 611.254 86.0845 611.092 Q87.103 610.907 88.1216 610.907 Q93.9086 610.907 97.2882 614.078 Q100.668 617.249 100.668 622.666 Q100.668 628.245 97.1956 631.346 Q93.7234 634.425 87.404 634.425 Q85.2281 634.425 82.9595 634.055 Q80.7142 633.684 78.3068 632.944 L78.3068 628.245 Q80.3901 629.379 82.6123 629.934 Q84.8345 630.49 87.3114 630.49 Q91.316 630.49 93.6539 628.384 Q95.9919 626.277 95.9919 622.666 Q95.9919 619.055 93.6539 616.948 Q91.316 614.842 87.3114 614.842 Q85.4364 614.842 83.5614 615.259 Q81.7096 615.675 79.7651 616.555 L79.7651 599.194 Z\" fill=\"#000000\" fill-rule=\"evenodd\" fill-opacity=\"1\" /><path clip-path=\"url(#clip880)\" d=\"M 0 0 M105.737 627.874 L110.621 627.874 L110.621 633.754 L105.737 633.754 L105.737 627.874 Z\" fill=\"#000000\" fill-rule=\"evenodd\" fill-opacity=\"1\" /><path clip-path=\"url(#clip880)\" d=\"M 0 0 M119.719 629.819 L136.038 629.819 L136.038 633.754 L114.094 633.754 L114.094 629.819 Q116.756 627.064 121.339 622.434 Q125.945 617.782 127.126 616.439 Q129.371 613.916 130.251 612.18 Q131.154 610.421 131.154 608.731 Q131.154 605.976 129.209 604.24 Q127.288 602.504 124.186 602.504 Q121.987 602.504 119.533 603.268 Q117.103 604.032 114.325 605.583 L114.325 600.861 Q117.149 599.726 119.603 599.148 Q122.057 598.569 124.094 598.569 Q129.464 598.569 132.658 601.254 Q135.853 603.939 135.853 608.43 Q135.853 610.56 135.043 612.481 Q134.256 614.379 132.149 616.972 Q131.57 617.643 128.469 620.86 Q125.367 624.055 119.719 629.819 Z\" fill=\"#000000\" fill-rule=\"evenodd\" fill-opacity=\"1\" /><path clip-path=\"url(#clip880)\" d=\"M 0 0 M141.154 599.194 L159.51 599.194 L159.51 603.129 L145.436 603.129 L145.436 611.601 Q146.455 611.254 147.473 611.092 Q148.492 610.907 149.51 610.907 Q155.297 610.907 158.677 614.078 Q162.056 617.249 162.056 622.666 Q162.056 628.245 158.584 631.346 Q155.112 634.425 148.793 634.425 Q146.617 634.425 144.348 634.055 Q142.103 633.684 139.695 632.944 L139.695 628.245 Q141.779 629.379 144.001 629.934 Q146.223 630.49 148.7 630.49 Q152.705 630.49 155.042 628.384 Q157.38 626.277 157.38 622.666 Q157.38 619.055 155.042 616.948 Q152.705 614.842 148.7 614.842 Q146.825 614.842 144.95 615.259 Q143.098 615.675 141.154 616.555 L141.154 599.194 Z\" fill=\"#000000\" fill-rule=\"evenodd\" fill-opacity=\"1\" /><path clip-path=\"url(#clip880)\" d=\"M 0 0 M53.1449 389.435 L60.7837 389.435 L60.7837 363.069 L52.4736 364.736 L52.4736 360.476 L60.7374 358.81 L65.4133 358.81 L65.4133 389.435 L73.0522 389.435 L73.0522 393.37 L53.1449 393.37 L53.1449 389.435 Z\" fill=\"#000000\" fill-rule=\"evenodd\" fill-opacity=\"1\" /><path clip-path=\"url(#clip880)\" d=\"M 0 0 M78.1679 358.81 L96.5243 358.81 L96.5243 362.745 L82.4503 362.745 L82.4503 371.217 Q83.4688 370.87 84.4873 370.708 Q85.5058 370.523 86.5243 370.523 Q92.3113 370.523 95.691 373.694 Q99.0706 376.865 99.0706 382.282 Q99.0706 387.86 95.5984 390.962 Q92.1262 394.041 85.8068 394.041 Q83.6308 394.041 81.3623 393.671 Q79.117 393.3 76.7096 392.559 L76.7096 387.86 Q78.7929 388.995 81.0151 389.55 Q83.2373 390.106 85.7142 390.106 Q89.7188 390.106 92.0567 387.999 Q94.3947 385.893 94.3947 382.282 Q94.3947 378.671 92.0567 376.564 Q89.7188 374.458 85.7142 374.458 Q83.8392 374.458 81.9642 374.874 Q80.1123 375.291 78.1679 376.171 L78.1679 358.81 Z\" fill=\"#000000\" fill-rule=\"evenodd\" fill-opacity=\"1\" /><path clip-path=\"url(#clip880)\" d=\"M 0 0 M104.14 387.49 L109.024 387.49 L109.024 393.37 L104.14 393.37 L104.14 387.49 Z\" fill=\"#000000\" fill-rule=\"evenodd\" fill-opacity=\"1\" /><path clip-path=\"url(#clip880)\" d=\"M 0 0 M114.14 358.81 L132.496 358.81 L132.496 362.745 L118.422 362.745 L118.422 371.217 Q119.441 370.87 120.459 370.708 Q121.478 370.523 122.496 370.523 Q128.283 370.523 131.663 373.694 Q135.043 376.865 135.043 382.282 Q135.043 387.86 131.57 390.962 Q128.098 394.041 121.779 394.041 Q119.603 394.041 117.334 393.671 Q115.089 393.3 112.682 392.559 L112.682 387.86 Q114.765 388.995 116.987 389.55 Q119.209 390.106 121.686 390.106 Q125.691 390.106 128.029 387.999 Q130.367 385.893 130.367 382.282 Q130.367 378.671 128.029 376.564 Q125.691 374.458 121.686 374.458 Q119.811 374.458 117.936 374.874 Q116.084 375.291 114.14 376.171 L114.14 358.81 Z\" fill=\"#000000\" fill-rule=\"evenodd\" fill-opacity=\"1\" /><path clip-path=\"url(#clip880)\" d=\"M 0 0 M150.112 361.888 Q146.501 361.888 144.672 365.453 Q142.867 368.995 142.867 376.124 Q142.867 383.231 144.672 386.796 Q146.501 390.337 150.112 390.337 Q153.746 390.337 155.552 386.796 Q157.38 383.231 157.38 376.124 Q157.38 368.995 155.552 365.453 Q153.746 361.888 150.112 361.888 M150.112 358.185 Q155.922 358.185 158.978 362.791 Q162.056 367.374 162.056 376.124 Q162.056 384.851 158.978 389.458 Q155.922 394.041 150.112 394.041 Q144.302 394.041 141.223 389.458 Q138.168 384.851 138.168 376.124 Q138.168 367.374 141.223 362.791 Q144.302 358.185 150.112 358.185 Z\" fill=\"#000000\" fill-rule=\"evenodd\" fill-opacity=\"1\" /><path clip-path=\"url(#clip880)\" d=\"M 0 0 M54.0477 149.05 L61.6865 149.05 L61.6865 122.685 L53.3764 124.351 L53.3764 120.092 L61.6402 118.425 L66.3161 118.425 L66.3161 149.05 L73.955 149.05 L73.955 152.985 L54.0477 152.985 L54.0477 149.05 Z\" fill=\"#000000\" fill-rule=\"evenodd\" fill-opacity=\"1\" /><path clip-path=\"url(#clip880)\" d=\"M 0 0 M79.0707 118.425 L97.4271 118.425 L97.4271 122.361 L83.3531 122.361 L83.3531 130.833 Q84.3716 130.486 85.3901 130.324 Q86.4086 130.138 87.4271 130.138 Q93.2141 130.138 96.5937 133.31 Q99.9733 136.481 99.9733 141.898 Q99.9733 147.476 96.5011 150.578 Q93.0289 153.657 86.7095 153.657 Q84.5336 153.657 82.2651 153.286 Q80.0197 152.916 77.6124 152.175 L77.6124 147.476 Q79.6957 148.611 81.9179 149.166 Q84.1401 149.722 86.6169 149.722 Q90.6215 149.722 92.9595 147.615 Q95.2974 145.509 95.2974 141.898 Q95.2974 138.286 92.9595 136.18 Q90.6215 134.074 86.6169 134.074 Q84.7419 134.074 82.867 134.49 Q81.0151 134.907 79.0707 135.786 L79.0707 118.425 Z\" fill=\"#000000\" fill-rule=\"evenodd\" fill-opacity=\"1\" /><path clip-path=\"url(#clip880)\" d=\"M 0 0 M105.043 147.106 L109.927 147.106 L109.927 152.985 L105.043 152.985 L105.043 147.106 Z\" fill=\"#000000\" fill-rule=\"evenodd\" fill-opacity=\"1\" /><path clip-path=\"url(#clip880)\" d=\"M 0 0 M113.816 118.425 L136.038 118.425 L136.038 120.416 L123.492 152.985 L118.608 152.985 L130.413 122.361 L113.816 122.361 L113.816 118.425 Z\" fill=\"#000000\" fill-rule=\"evenodd\" fill-opacity=\"1\" /><path clip-path=\"url(#clip880)\" d=\"M 0 0 M141.154 118.425 L159.51 118.425 L159.51 122.361 L145.436 122.361 L145.436 130.833 Q146.455 130.486 147.473 130.324 Q148.492 130.138 149.51 130.138 Q155.297 130.138 158.677 133.31 Q162.056 136.481 162.056 141.898 Q162.056 147.476 158.584 150.578 Q155.112 153.657 148.793 153.657 Q146.617 153.657 144.348 153.286 Q142.103 152.916 139.695 152.175 L139.695 147.476 Q141.779 148.611 144.001 149.166 Q146.223 149.722 148.7 149.722 Q152.705 149.722 155.042 147.615 Q157.38 145.509 157.38 141.898 Q157.38 138.286 155.042 136.18 Q152.705 134.074 148.7 134.074 Q146.825 134.074 144.95 134.49 Q143.098 134.907 141.154 135.786 L141.154 118.425 Z\" fill=\"#000000\" fill-rule=\"evenodd\" fill-opacity=\"1\" /><polyline clip-path=\"url(#clip882)\" style=\"stroke:#009af9; stroke-width:4; stroke-opacity:1; fill:none\" points=\"\n",
       "  2291.77,1433.78 348.648,1337.63 936.105,1049.17 484.215,664.551 276.346,376.09 259.038,87.6286 \n",
       "  \"/>\n",
       "<circle clip-path=\"url(#clip882)\" cx=\"2291.77\" cy=\"1433.78\" r=\"14\" fill=\"#e26f46\" fill-rule=\"evenodd\" fill-opacity=\"1\" stroke=\"#000000\" stroke-opacity=\"1\" stroke-width=\"3.2\"/>\n",
       "<circle clip-path=\"url(#clip882)\" cx=\"348.648\" cy=\"1337.63\" r=\"14\" fill=\"#e26f46\" fill-rule=\"evenodd\" fill-opacity=\"1\" stroke=\"#000000\" stroke-opacity=\"1\" stroke-width=\"3.2\"/>\n",
       "<circle clip-path=\"url(#clip882)\" cx=\"936.105\" cy=\"1049.17\" r=\"14\" fill=\"#e26f46\" fill-rule=\"evenodd\" fill-opacity=\"1\" stroke=\"#000000\" stroke-opacity=\"1\" stroke-width=\"3.2\"/>\n",
       "<circle clip-path=\"url(#clip882)\" cx=\"484.215\" cy=\"664.551\" r=\"14\" fill=\"#e26f46\" fill-rule=\"evenodd\" fill-opacity=\"1\" stroke=\"#000000\" stroke-opacity=\"1\" stroke-width=\"3.2\"/>\n",
       "<circle clip-path=\"url(#clip882)\" cx=\"276.346\" cy=\"376.09\" r=\"14\" fill=\"#e26f46\" fill-rule=\"evenodd\" fill-opacity=\"1\" stroke=\"#000000\" stroke-opacity=\"1\" stroke-width=\"3.2\"/>\n",
       "<circle clip-path=\"url(#clip882)\" cx=\"259.038\" cy=\"87.6286\" r=\"14\" fill=\"#e26f46\" fill-rule=\"evenodd\" fill-opacity=\"1\" stroke=\"#000000\" stroke-opacity=\"1\" stroke-width=\"3.2\"/>\n",
       "<path clip-path=\"url(#clip880)\" d=\"\n",
       "M1917.33 276.248 L2280.93 276.248 L2280.93 94.8081 L1917.33 94.8081  Z\n",
       "  \" fill=\"#ffffff\" fill-rule=\"evenodd\" fill-opacity=\"1\"/>\n",
       "<polyline clip-path=\"url(#clip880)\" style=\"stroke:#000000; stroke-width:4; stroke-opacity:1; fill:none\" points=\"\n",
       "  1917.33,276.248 2280.93,276.248 2280.93,94.8081 1917.33,94.8081 1917.33,276.248 \n",
       "  \"/>\n",
       "<polyline clip-path=\"url(#clip880)\" style=\"stroke:#009af9; stroke-width:4; stroke-opacity:1; fill:none\" points=\"\n",
       "  1941.27,155.288 2084.92,155.288 \n",
       "  \"/>\n",
       "<path clip-path=\"url(#clip880)\" d=\"M 0 0 M2108.86 136.55 L2113.12 136.55 L2113.12 172.568 L2108.86 172.568 L2108.86 136.55 Z\" fill=\"#000000\" fill-rule=\"evenodd\" fill-opacity=\"1\" /><path clip-path=\"url(#clip880)\" d=\"M 0 0 M2117.59 146.642 L2121.85 146.642 L2121.85 172.568 L2117.59 172.568 L2117.59 146.642 M2117.59 136.55 L2121.85 136.55 L2121.85 141.943 L2117.59 141.943 L2117.59 136.55 Z\" fill=\"#000000\" fill-rule=\"evenodd\" fill-opacity=\"1\" /><path clip-path=\"url(#clip880)\" d=\"M 0 0 M2147.87 156.92 L2147.87 172.568 L2143.61 172.568 L2143.61 157.059 Q2143.61 153.378 2142.17 151.55 Q2140.74 149.721 2137.87 149.721 Q2134.42 149.721 2132.43 151.92 Q2130.44 154.119 2130.44 157.915 L2130.44 172.568 L2126.15 172.568 L2126.15 146.642 L2130.44 146.642 L2130.44 150.67 Q2131.96 148.332 2134.02 147.175 Q2136.11 146.017 2138.81 146.017 Q2143.28 146.017 2145.57 148.795 Q2147.87 151.55 2147.87 156.92 Z\" fill=\"#000000\" fill-rule=\"evenodd\" fill-opacity=\"1\" /><path clip-path=\"url(#clip880)\" d=\"M 0 0 M2174.51 158.54 L2174.51 160.624 L2154.93 160.624 Q2155.2 165.022 2157.56 167.337 Q2159.95 169.628 2164.19 169.628 Q2166.64 169.628 2168.93 169.026 Q2171.25 168.425 2173.51 167.221 L2173.51 171.249 Q2171.22 172.221 2168.81 172.73 Q2166.41 173.239 2163.93 173.239 Q2157.73 173.239 2154.09 169.628 Q2150.48 166.017 2150.48 159.86 Q2150.48 153.494 2153.91 149.767 Q2157.36 146.017 2163.19 146.017 Q2168.42 146.017 2171.45 149.397 Q2174.51 152.753 2174.51 158.54 M2170.25 157.29 Q2170.2 153.795 2168.28 151.712 Q2166.38 149.628 2163.24 149.628 Q2159.67 149.628 2157.52 151.642 Q2155.39 153.656 2155.06 157.314 L2170.25 157.29 Z\" fill=\"#000000\" fill-rule=\"evenodd\" fill-opacity=\"1\" /><circle clip-path=\"url(#clip880)\" cx=\"2013.1\" cy=\"215.768\" r=\"23\" fill=\"#e26f46\" fill-rule=\"evenodd\" fill-opacity=\"1\" stroke=\"#000000\" stroke-opacity=\"1\" stroke-width=\"5.12\"/>\n",
       "<path clip-path=\"url(#clip880)\" d=\"M 0 0 M2113.14 229.159 L2113.14 242.909 L2108.86 242.909 L2108.86 207.122 L2113.14 207.122 L2113.14 211.057 Q2114.49 208.743 2116.52 207.632 Q2118.58 206.497 2121.43 206.497 Q2126.15 206.497 2129.09 210.247 Q2132.06 213.997 2132.06 220.108 Q2132.06 226.219 2129.09 229.969 Q2126.15 233.719 2121.43 233.719 Q2118.58 233.719 2116.52 232.608 Q2114.49 231.474 2113.14 229.159 M2127.63 220.108 Q2127.63 215.409 2125.69 212.747 Q2123.77 210.062 2120.39 210.062 Q2117.01 210.062 2115.06 212.747 Q2113.14 215.409 2113.14 220.108 Q2113.14 224.807 2115.06 227.493 Q2117.01 230.155 2120.39 230.155 Q2123.77 230.155 2125.69 227.493 Q2127.63 224.807 2127.63 220.108 Z\" fill=\"#000000\" fill-rule=\"evenodd\" fill-opacity=\"1\" /><path clip-path=\"url(#clip880)\" d=\"M 0 0 M2146.57 210.108 Q2143.14 210.108 2141.15 212.794 Q2139.16 215.456 2139.16 220.108 Q2139.16 224.761 2141.13 227.446 Q2143.12 230.108 2146.57 230.108 Q2149.97 230.108 2151.96 227.423 Q2153.95 224.738 2153.95 220.108 Q2153.95 215.502 2151.96 212.817 Q2149.97 210.108 2146.57 210.108 M2146.57 206.497 Q2152.12 206.497 2155.3 210.108 Q2158.47 213.72 2158.47 220.108 Q2158.47 226.474 2155.3 230.108 Q2152.12 233.719 2146.57 233.719 Q2140.99 233.719 2137.82 230.108 Q2134.67 226.474 2134.67 220.108 Q2134.67 213.72 2137.82 210.108 Q2140.99 206.497 2146.57 206.497 Z\" fill=\"#000000\" fill-rule=\"evenodd\" fill-opacity=\"1\" /><path clip-path=\"url(#clip880)\" d=\"M 0 0 M2162.94 207.122 L2167.19 207.122 L2167.19 233.048 L2162.94 233.048 L2162.94 207.122 M2162.94 197.03 L2167.19 197.03 L2167.19 202.423 L2162.94 202.423 L2162.94 197.03 Z\" fill=\"#000000\" fill-rule=\"evenodd\" fill-opacity=\"1\" /><path clip-path=\"url(#clip880)\" d=\"M 0 0 M2193.21 217.4 L2193.21 233.048 L2188.95 233.048 L2188.95 217.539 Q2188.95 213.858 2187.52 212.03 Q2186.08 210.201 2183.21 210.201 Q2179.76 210.201 2177.77 212.4 Q2175.78 214.599 2175.78 218.395 L2175.78 233.048 L2171.5 233.048 L2171.5 207.122 L2175.78 207.122 L2175.78 211.15 Q2177.31 208.812 2179.37 207.655 Q2181.45 206.497 2184.16 206.497 Q2188.63 206.497 2190.92 209.275 Q2193.21 212.03 2193.21 217.4 Z\" fill=\"#000000\" fill-rule=\"evenodd\" fill-opacity=\"1\" /><path clip-path=\"url(#clip880)\" d=\"M 0 0 M2201.89 199.761 L2201.89 207.122 L2210.67 207.122 L2210.67 210.432 L2201.89 210.432 L2201.89 224.506 Q2201.89 227.678 2202.75 228.581 Q2203.63 229.483 2206.29 229.483 L2210.67 229.483 L2210.67 233.048 L2206.29 233.048 Q2201.36 233.048 2199.49 231.219 Q2197.61 229.368 2197.61 224.506 L2197.61 210.432 L2194.49 210.432 L2194.49 207.122 L2197.61 207.122 L2197.61 199.761 L2201.89 199.761 Z\" fill=\"#000000\" fill-rule=\"evenodd\" fill-opacity=\"1\" /><path clip-path=\"url(#clip880)\" d=\"M 0 0 M2231.66 207.886 L2231.66 211.914 Q2229.86 210.988 2227.91 210.525 Q2225.97 210.062 2223.88 210.062 Q2220.71 210.062 2219.12 211.034 Q2217.54 212.007 2217.54 213.951 Q2217.54 215.432 2218.68 216.289 Q2219.81 217.122 2223.24 217.886 L2224.69 218.21 Q2229.23 219.182 2231.13 220.965 Q2233.05 222.724 2233.05 225.895 Q2233.05 229.506 2230.18 231.613 Q2227.33 233.719 2222.33 233.719 Q2220.25 233.719 2217.98 233.303 Q2215.74 232.909 2213.24 232.099 L2213.24 227.701 Q2215.6 228.928 2217.89 229.553 Q2220.18 230.155 2222.43 230.155 Q2225.43 230.155 2227.06 229.136 Q2228.68 228.094 2228.68 226.219 Q2228.68 224.483 2227.49 223.557 Q2226.34 222.632 2222.38 221.775 L2220.9 221.428 Q2216.94 220.594 2215.18 218.882 Q2213.42 217.145 2213.42 214.136 Q2213.42 210.479 2216.01 208.488 Q2218.61 206.497 2223.37 206.497 Q2225.74 206.497 2227.82 206.845 Q2229.9 207.192 2231.66 207.886 Z\" fill=\"#000000\" fill-rule=\"evenodd\" fill-opacity=\"1\" /></svg>\n"
      ]
     },
     "execution_count": 129,
     "metadata": {},
     "output_type": "execute_result"
    }
   ],
   "source": [
    "gr() # 먼저 선언해준다\n",
    "plot(numpirates, globaltemperatures, label = \"line\")\n",
    "scatter!(numpirates, globaltemperatures, label = \"points\")"
   ]
  },
  {
   "cell_type": "code",
   "execution_count": 130,
   "metadata": {
    "collapsed": false
   },
   "outputs": [
    {
     "data": {
      "image/svg+xml": [
       "<?xml version=\"1.0\" encoding=\"utf-8\"?>\n",
       "<svg xmlns=\"http://www.w3.org/2000/svg\" xmlns:xlink=\"http://www.w3.org/1999/xlink\" width=\"600\" height=\"400\" viewBox=\"0 0 2400 1600\">\n",
       "<defs>\n",
       "  <clipPath id=\"clip920\">\n",
       "    <rect x=\"0\" y=\"0\" width=\"2400\" height=\"1600\"/>\n",
       "  </clipPath>\n",
       "</defs>\n",
       "<path clip-path=\"url(#clip920)\" d=\"\n",
       "M0 1600 L2400 1600 L2400 0 L0 0  Z\n",
       "  \" fill=\"#ffffff\" fill-rule=\"evenodd\" fill-opacity=\"1\"/>\n",
       "<defs>\n",
       "  <clipPath id=\"clip921\">\n",
       "    <rect x=\"480\" y=\"0\" width=\"1681\" height=\"1600\"/>\n",
       "  </clipPath>\n",
       "</defs>\n",
       "<path clip-path=\"url(#clip920)\" d=\"\n",
       "M261.324 1410.9 L2352.76 1410.9 L2352.76 123.472 L261.324 123.472  Z\n",
       "  \" fill=\"#ffffff\" fill-rule=\"evenodd\" fill-opacity=\"1\"/>\n",
       "<defs>\n",
       "  <clipPath id=\"clip922\">\n",
       "    <rect x=\"261\" y=\"123\" width=\"2092\" height=\"1288\"/>\n",
       "  </clipPath>\n",
       "</defs>\n",
       "<polyline clip-path=\"url(#clip922)\" style=\"stroke:#000000; stroke-width:2; stroke-opacity:0.1; fill:none\" points=\"\n",
       "  319.77,1410.9 319.77,123.472 \n",
       "  \"/>\n",
       "<polyline clip-path=\"url(#clip922)\" style=\"stroke:#000000; stroke-width:2; stroke-opacity:0.1; fill:none\" points=\"\n",
       "  758.391,1410.9 758.391,123.472 \n",
       "  \"/>\n",
       "<polyline clip-path=\"url(#clip922)\" style=\"stroke:#000000; stroke-width:2; stroke-opacity:0.1; fill:none\" points=\"\n",
       "  1197.01,1410.9 1197.01,123.472 \n",
       "  \"/>\n",
       "<polyline clip-path=\"url(#clip922)\" style=\"stroke:#000000; stroke-width:2; stroke-opacity:0.1; fill:none\" points=\"\n",
       "  1635.63,1410.9 1635.63,123.472 \n",
       "  \"/>\n",
       "<polyline clip-path=\"url(#clip922)\" style=\"stroke:#000000; stroke-width:2; stroke-opacity:0.1; fill:none\" points=\"\n",
       "  2074.25,1410.9 2074.25,123.472 \n",
       "  \"/>\n",
       "<polyline clip-path=\"url(#clip920)\" style=\"stroke:#000000; stroke-width:4; stroke-opacity:1; fill:none\" points=\"\n",
       "  261.324,1410.9 2352.76,1410.9 \n",
       "  \"/>\n",
       "<polyline clip-path=\"url(#clip920)\" style=\"stroke:#000000; stroke-width:4; stroke-opacity:1; fill:none\" points=\"\n",
       "  319.77,1410.9 319.77,1395.45 \n",
       "  \"/>\n",
       "<polyline clip-path=\"url(#clip920)\" style=\"stroke:#000000; stroke-width:4; stroke-opacity:1; fill:none\" points=\"\n",
       "  758.391,1410.9 758.391,1395.45 \n",
       "  \"/>\n",
       "<polyline clip-path=\"url(#clip920)\" style=\"stroke:#000000; stroke-width:4; stroke-opacity:1; fill:none\" points=\"\n",
       "  1197.01,1410.9 1197.01,1395.45 \n",
       "  \"/>\n",
       "<polyline clip-path=\"url(#clip920)\" style=\"stroke:#000000; stroke-width:4; stroke-opacity:1; fill:none\" points=\"\n",
       "  1635.63,1410.9 1635.63,1395.45 \n",
       "  \"/>\n",
       "<polyline clip-path=\"url(#clip920)\" style=\"stroke:#000000; stroke-width:4; stroke-opacity:1; fill:none\" points=\"\n",
       "  2074.25,1410.9 2074.25,1395.45 \n",
       "  \"/>\n",
       "<path clip-path=\"url(#clip920)\" d=\"M 0 0 M319.77 1440.09 Q316.159 1440.09 314.33 1443.65 Q312.525 1447.19 312.525 1454.32 Q312.525 1461.43 314.33 1464.99 Q316.159 1468.54 319.77 1468.54 Q323.404 1468.54 325.21 1464.99 Q327.039 1461.43 327.039 1454.32 Q327.039 1447.19 325.21 1443.65 Q323.404 1440.09 319.77 1440.09 M319.77 1436.38 Q325.58 1436.38 328.636 1440.99 Q331.715 1445.57 331.715 1454.32 Q331.715 1463.05 328.636 1467.66 Q325.58 1472.24 319.77 1472.24 Q313.96 1472.24 310.881 1467.66 Q307.826 1463.05 307.826 1454.32 Q307.826 1445.57 310.881 1440.99 Q313.96 1436.38 319.77 1436.38 Z\" fill=\"#000000\" fill-rule=\"evenodd\" fill-opacity=\"1\" /><path clip-path=\"url(#clip920)\" d=\"M 0 0 M695.521 1489.17 L703.16 1489.17 L703.16 1462.8 L694.85 1464.47 L694.85 1460.21 L703.114 1458.54 L707.79 1458.54 L707.79 1489.17 L715.428 1489.17 L715.428 1493.1 L695.521 1493.1 L695.521 1489.17 Z\" fill=\"#000000\" fill-rule=\"evenodd\" fill-opacity=\"1\" /><path clip-path=\"url(#clip920)\" d=\"M 0 0 M748.669 1467.64 L738.09 1478.27 L748.669 1488.84 L745.914 1491.65 L735.289 1481.02 L724.664 1491.65 L721.933 1488.84 L732.488 1478.27 L721.933 1467.64 L724.664 1464.84 L735.289 1475.47 L745.914 1464.84 L748.669 1467.64 Z\" fill=\"#000000\" fill-rule=\"evenodd\" fill-opacity=\"1\" /><path clip-path=\"url(#clip920)\" d=\"M 0 0 M754.549 1489.17 L762.187 1489.17 L762.187 1462.8 L753.877 1464.47 L753.877 1460.21 L762.141 1458.54 L766.817 1458.54 L766.817 1489.17 L774.456 1489.17 L774.456 1493.1 L754.549 1493.1 L754.549 1489.17 Z\" fill=\"#000000\" fill-rule=\"evenodd\" fill-opacity=\"1\" /><path clip-path=\"url(#clip920)\" d=\"M 0 0 M789.525 1461.62 Q785.914 1461.62 784.085 1465.19 Q782.28 1468.73 782.28 1475.86 Q782.28 1482.97 784.085 1486.53 Q785.914 1490.07 789.525 1490.07 Q793.159 1490.07 794.965 1486.53 Q796.794 1482.97 796.794 1475.86 Q796.794 1468.73 794.965 1465.19 Q793.159 1461.62 789.525 1461.62 M789.525 1457.92 Q795.335 1457.92 798.391 1462.53 Q801.47 1467.11 801.47 1475.86 Q801.47 1484.59 798.391 1489.19 Q795.335 1493.78 789.525 1493.78 Q783.715 1493.78 780.636 1489.19 Q777.581 1484.59 777.581 1475.86 Q777.581 1467.11 780.636 1462.53 Q783.715 1457.92 789.525 1457.92 Z\" fill=\"#000000\" fill-rule=\"evenodd\" fill-opacity=\"1\" /><path clip-path=\"url(#clip920)\" d=\"M 0 0 M814.146 1440.92 L804.554 1455.91 L814.146 1455.91 L814.146 1440.92 M813.149 1437.61 L817.926 1437.61 L817.926 1455.91 L821.932 1455.91 L821.932 1459.07 L817.926 1459.07 L817.926 1465.69 L814.146 1465.69 L814.146 1459.07 L801.47 1459.07 L801.47 1455.41 L813.149 1437.61 Z\" fill=\"#000000\" fill-rule=\"evenodd\" fill-opacity=\"1\" /><path clip-path=\"url(#clip920)\" d=\"M 0 0 M1138.41 1489.17 L1154.73 1489.17 L1154.73 1493.1 L1132.79 1493.1 L1132.79 1489.17 Q1135.45 1486.41 1140.03 1481.78 Q1144.64 1477.13 1145.82 1475.79 Q1148.07 1473.27 1148.95 1471.53 Q1149.85 1469.77 1149.85 1468.08 Q1149.85 1465.33 1147.9 1463.59 Q1145.98 1461.85 1142.88 1461.85 Q1140.68 1461.85 1138.23 1462.62 Q1135.8 1463.38 1133.02 1464.93 L1133.02 1460.21 Q1135.84 1459.08 1138.3 1458.5 Q1140.75 1457.92 1142.79 1457.92 Q1148.16 1457.92 1151.35 1460.6 Q1154.55 1463.29 1154.55 1467.78 Q1154.55 1469.91 1153.74 1471.83 Q1152.95 1473.73 1150.84 1476.32 Q1150.26 1476.99 1147.16 1480.21 Q1144.06 1483.4 1138.41 1489.17 Z\" fill=\"#000000\" fill-rule=\"evenodd\" fill-opacity=\"1\" /><path clip-path=\"url(#clip920)\" d=\"M 0 0 M1187.97 1467.64 L1177.39 1478.27 L1187.97 1488.84 L1185.22 1491.65 L1174.59 1481.02 L1163.97 1491.65 L1161.24 1488.84 L1171.79 1478.27 L1161.24 1467.64 L1163.97 1464.84 L1174.59 1475.47 L1185.22 1464.84 L1187.97 1467.64 Z\" fill=\"#000000\" fill-rule=\"evenodd\" fill-opacity=\"1\" /><path clip-path=\"url(#clip920)\" d=\"M 0 0 M1193.85 1489.17 L1201.49 1489.17 L1201.49 1462.8 L1193.18 1464.47 L1193.18 1460.21 L1201.44 1458.54 L1206.12 1458.54 L1206.12 1489.17 L1213.76 1489.17 L1213.76 1493.1 L1193.85 1493.1 L1193.85 1489.17 Z\" fill=\"#000000\" fill-rule=\"evenodd\" fill-opacity=\"1\" /><path clip-path=\"url(#clip920)\" d=\"M 0 0 M1228.83 1461.62 Q1225.22 1461.62 1223.39 1465.19 Q1221.58 1468.73 1221.58 1475.86 Q1221.58 1482.97 1223.39 1486.53 Q1225.22 1490.07 1228.83 1490.07 Q1232.46 1490.07 1234.27 1486.53 Q1236.1 1482.97 1236.1 1475.86 Q1236.1 1468.73 1234.27 1465.19 Q1232.46 1461.62 1228.83 1461.62 M1228.83 1457.92 Q1234.64 1457.92 1237.69 1462.53 Q1240.77 1467.11 1240.77 1475.86 Q1240.77 1484.59 1237.69 1489.19 Q1234.64 1493.78 1228.83 1493.78 Q1223.02 1493.78 1219.94 1489.19 Q1216.88 1484.59 1216.88 1475.86 Q1216.88 1467.11 1219.94 1462.53 Q1223.02 1457.92 1228.83 1457.92 Z\" fill=\"#000000\" fill-rule=\"evenodd\" fill-opacity=\"1\" /><path clip-path=\"url(#clip920)\" d=\"M 0 0 M1253.45 1440.92 L1243.86 1455.91 L1253.45 1455.91 L1253.45 1440.92 M1252.45 1437.61 L1257.23 1437.61 L1257.23 1455.91 L1261.24 1455.91 L1261.24 1459.07 L1257.23 1459.07 L1257.23 1465.69 L1253.45 1465.69 L1253.45 1459.07 L1240.77 1459.07 L1240.77 1455.41 L1252.45 1437.61 Z\" fill=\"#000000\" fill-rule=\"evenodd\" fill-opacity=\"1\" /><path clip-path=\"url(#clip920)\" d=\"M 0 0 M1586.63 1474.47 Q1589.99 1475.19 1591.86 1477.46 Q1593.76 1479.72 1593.76 1483.06 Q1593.76 1488.17 1590.24 1490.97 Q1586.72 1493.78 1580.24 1493.78 Q1578.06 1493.78 1575.75 1493.34 Q1573.46 1492.92 1571 1492.06 L1571 1487.55 Q1572.95 1488.68 1575.26 1489.26 Q1577.58 1489.84 1580.1 1489.84 Q1584.5 1489.84 1586.79 1488.1 Q1589.11 1486.37 1589.11 1483.06 Q1589.11 1480 1586.95 1478.29 Q1584.82 1476.55 1581 1476.55 L1576.98 1476.55 L1576.98 1472.71 L1581.19 1472.71 Q1584.64 1472.71 1586.47 1471.34 Q1588.3 1469.96 1588.3 1467.36 Q1588.3 1464.7 1586.4 1463.29 Q1584.52 1461.85 1581 1461.85 Q1579.08 1461.85 1576.88 1462.27 Q1574.68 1462.69 1572.05 1463.57 L1572.05 1459.4 Q1574.71 1458.66 1577.02 1458.29 Q1579.36 1457.92 1581.42 1457.92 Q1586.74 1457.92 1589.85 1460.35 Q1592.95 1462.76 1592.95 1466.88 Q1592.95 1469.75 1591.3 1471.74 Q1589.66 1473.71 1586.63 1474.47 Z\" fill=\"#000000\" fill-rule=\"evenodd\" fill-opacity=\"1\" /><path clip-path=\"url(#clip920)\" d=\"M 0 0 M1627 1467.64 L1616.42 1478.27 L1627 1488.84 L1624.24 1491.65 L1613.62 1481.02 L1602.99 1491.65 L1600.26 1488.84 L1610.82 1478.27 L1600.26 1467.64 L1602.99 1464.84 L1613.62 1475.47 L1624.24 1464.84 L1627 1467.64 Z\" fill=\"#000000\" fill-rule=\"evenodd\" fill-opacity=\"1\" /><path clip-path=\"url(#clip920)\" d=\"M 0 0 M1632.88 1489.17 L1640.52 1489.17 L1640.52 1462.8 L1632.21 1464.47 L1632.21 1460.21 L1640.47 1458.54 L1645.15 1458.54 L1645.15 1489.17 L1652.79 1489.17 L1652.79 1493.1 L1632.88 1493.1 L1632.88 1489.17 Z\" fill=\"#000000\" fill-rule=\"evenodd\" fill-opacity=\"1\" /><path clip-path=\"url(#clip920)\" d=\"M 0 0 M1667.86 1461.62 Q1664.24 1461.62 1662.42 1465.19 Q1660.61 1468.73 1660.61 1475.86 Q1660.61 1482.97 1662.42 1486.53 Q1664.24 1490.07 1667.86 1490.07 Q1671.49 1490.07 1673.29 1486.53 Q1675.12 1482.97 1675.12 1475.86 Q1675.12 1468.73 1673.29 1465.19 Q1671.49 1461.62 1667.86 1461.62 M1667.86 1457.92 Q1673.67 1457.92 1676.72 1462.53 Q1679.8 1467.11 1679.8 1475.86 Q1679.8 1484.59 1676.72 1489.19 Q1673.67 1493.78 1667.86 1493.78 Q1662.04 1493.78 1658.97 1489.19 Q1655.91 1484.59 1655.91 1475.86 Q1655.91 1467.11 1658.97 1462.53 Q1662.04 1457.92 1667.86 1457.92 Z\" fill=\"#000000\" fill-rule=\"evenodd\" fill-opacity=\"1\" /><path clip-path=\"url(#clip920)\" d=\"M 0 0 M1692.48 1440.92 L1682.88 1455.91 L1692.48 1455.91 L1692.48 1440.92 M1691.48 1437.61 L1696.26 1437.61 L1696.26 1455.91 L1700.26 1455.91 L1700.26 1459.07 L1696.26 1459.07 L1696.26 1465.69 L1692.48 1465.69 L1692.48 1459.07 L1679.8 1459.07 L1679.8 1455.41 L1691.48 1437.61 Z\" fill=\"#000000\" fill-rule=\"evenodd\" fill-opacity=\"1\" /><path clip-path=\"url(#clip920)\" d=\"M 0 0 M2024.01 1462.62 L2012.21 1481.07 L2024.01 1481.07 L2024.01 1462.62 M2022.78 1458.54 L2028.66 1458.54 L2028.66 1481.07 L2033.59 1481.07 L2033.59 1484.96 L2028.66 1484.96 L2028.66 1493.1 L2024.01 1493.1 L2024.01 1484.96 L2008.41 1484.96 L2008.41 1480.44 L2022.78 1458.54 Z\" fill=\"#000000\" fill-rule=\"evenodd\" fill-opacity=\"1\" /><path clip-path=\"url(#clip920)\" d=\"M 0 0 M2066.84 1467.64 L2056.26 1478.27 L2066.84 1488.84 L2064.08 1491.65 L2053.46 1481.02 L2042.83 1491.65 L2040.1 1488.84 L2050.65 1478.27 L2040.1 1467.64 L2042.83 1464.84 L2053.46 1475.47 L2064.08 1464.84 L2066.84 1467.64 Z\" fill=\"#000000\" fill-rule=\"evenodd\" fill-opacity=\"1\" /><path clip-path=\"url(#clip920)\" d=\"M 0 0 M2072.71 1489.17 L2080.35 1489.17 L2080.35 1462.8 L2072.04 1464.47 L2072.04 1460.21 L2080.31 1458.54 L2084.98 1458.54 L2084.98 1489.17 L2092.62 1489.17 L2092.62 1493.1 L2072.71 1493.1 L2072.71 1489.17 Z\" fill=\"#000000\" fill-rule=\"evenodd\" fill-opacity=\"1\" /><path clip-path=\"url(#clip920)\" d=\"M 0 0 M2107.69 1461.62 Q2104.08 1461.62 2102.25 1465.19 Q2100.45 1468.73 2100.45 1475.86 Q2100.45 1482.97 2102.25 1486.53 Q2104.08 1490.07 2107.69 1490.07 Q2111.33 1490.07 2113.13 1486.53 Q2114.96 1482.97 2114.96 1475.86 Q2114.96 1468.73 2113.13 1465.19 Q2111.33 1461.62 2107.69 1461.62 M2107.69 1457.92 Q2113.5 1457.92 2116.56 1462.53 Q2119.64 1467.11 2119.64 1475.86 Q2119.64 1484.59 2116.56 1489.19 Q2113.5 1493.78 2107.69 1493.78 Q2101.88 1493.78 2098.8 1489.19 Q2095.75 1484.59 2095.75 1475.86 Q2095.75 1467.11 2098.8 1462.53 Q2101.88 1457.92 2107.69 1457.92 Z\" fill=\"#000000\" fill-rule=\"evenodd\" fill-opacity=\"1\" /><path clip-path=\"url(#clip920)\" d=\"M 0 0 M2132.31 1440.92 L2122.72 1455.91 L2132.31 1455.91 L2132.31 1440.92 M2131.32 1437.61 L2136.09 1437.61 L2136.09 1455.91 L2140.1 1455.91 L2140.1 1459.07 L2136.09 1459.07 L2136.09 1465.69 L2132.31 1465.69 L2132.31 1459.07 L2119.64 1459.07 L2119.64 1455.41 L2131.32 1437.61 Z\" fill=\"#000000\" fill-rule=\"evenodd\" fill-opacity=\"1\" /><path clip-path=\"url(#clip920)\" d=\"M 0 0 M820.812 1514.67 L829.469 1514.67 L850.539 1554.42 L850.539 1514.67 L856.778 1514.67 L856.778 1562.19 L848.12 1562.19 L827.05 1522.43 L827.05 1562.19 L820.812 1562.19 L820.812 1514.67 Z\" fill=\"#000000\" fill-rule=\"evenodd\" fill-opacity=\"1\" /><path clip-path=\"url(#clip920)\" d=\"M 0 0 M862.316 1548.12 L862.316 1526.54 L868.172 1526.54 L868.172 1547.89 Q868.172 1552.96 870.146 1555.5 Q872.119 1558.02 876.066 1558.02 Q880.808 1558.02 883.546 1554.99 Q886.315 1551.97 886.315 1546.75 L886.315 1526.54 L892.171 1526.54 L892.171 1562.19 L886.315 1562.19 L886.315 1556.71 Q884.182 1559.96 881.349 1561.55 Q878.549 1563.11 874.825 1563.11 Q868.682 1563.11 865.499 1559.29 Q862.316 1555.47 862.316 1548.12 M877.053 1525.68 L877.053 1525.68 Z\" fill=\"#000000\" fill-rule=\"evenodd\" fill-opacity=\"1\" /><path clip-path=\"url(#clip920)\" d=\"M 0 0 M926.069 1533.38 Q928.265 1529.43 931.32 1527.56 Q934.376 1525.68 938.513 1525.68 Q944.083 1525.68 947.107 1529.59 Q950.131 1533.48 950.131 1540.67 L950.131 1562.19 L944.243 1562.19 L944.243 1540.86 Q944.243 1535.74 942.428 1533.25 Q940.614 1530.77 936.89 1530.77 Q932.339 1530.77 929.697 1533.79 Q927.055 1536.82 927.055 1542.04 L927.055 1562.19 L921.167 1562.19 L921.167 1540.86 Q921.167 1535.7 919.353 1533.25 Q917.538 1530.77 913.751 1530.77 Q909.263 1530.77 906.621 1533.83 Q903.98 1536.85 903.98 1542.04 L903.98 1562.19 L898.091 1562.19 L898.091 1526.54 L903.98 1526.54 L903.98 1532.08 Q905.985 1528.8 908.786 1527.24 Q911.587 1525.68 915.438 1525.68 Q919.321 1525.68 922.026 1527.65 Q924.764 1529.62 926.069 1533.38 Z\" fill=\"#000000\" fill-rule=\"evenodd\" fill-opacity=\"1\" /><path clip-path=\"url(#clip920)\" d=\"M 0 0 M981.864 1544.39 Q981.864 1537.93 979.19 1534.27 Q976.549 1530.58 971.902 1530.58 Q967.255 1530.58 964.581 1534.27 Q961.939 1537.93 961.939 1544.39 Q961.939 1550.85 964.581 1554.55 Q967.255 1558.21 971.902 1558.21 Q976.549 1558.21 979.19 1554.55 Q981.864 1550.85 981.864 1544.39 M961.939 1531.95 Q963.785 1528.77 966.586 1527.24 Q969.419 1525.68 973.334 1525.68 Q979.827 1525.68 983.869 1530.83 Q987.943 1535.99 987.943 1544.39 Q987.943 1552.8 983.869 1557.95 Q979.827 1563.11 973.334 1563.11 Q969.419 1563.11 966.586 1561.58 Q963.785 1560.02 961.939 1556.84 L961.939 1562.19 L956.051 1562.19 L956.051 1512.66 L961.939 1512.66 L961.939 1531.95 Z\" fill=\"#000000\" fill-rule=\"evenodd\" fill-opacity=\"1\" /><path clip-path=\"url(#clip920)\" d=\"M 0 0 M1024.58 1542.9 L1024.58 1545.76 L997.651 1545.76 Q998.033 1551.81 1001.28 1554.99 Q1004.56 1558.14 1010.38 1558.14 Q1013.76 1558.14 1016.91 1557.32 Q1020.09 1556.49 1023.21 1554.83 L1023.21 1560.37 Q1020.06 1561.71 1016.75 1562.41 Q1013.44 1563.11 1010.03 1563.11 Q1001.5 1563.11 996.505 1558.14 Q991.54 1553.18 991.54 1544.71 Q991.54 1535.96 996.25 1530.83 Q1000.99 1525.68 1009.01 1525.68 Q1016.21 1525.68 1020.38 1530.33 Q1024.58 1534.94 1024.58 1542.9 M1018.72 1541.18 Q1018.66 1536.37 1016.02 1533.51 Q1013.41 1530.64 1009.08 1530.64 Q1004.18 1530.64 1001.22 1533.41 Q998.287 1536.18 997.842 1541.21 L1018.72 1541.18 Z\" fill=\"#000000\" fill-rule=\"evenodd\" fill-opacity=\"1\" /><path clip-path=\"url(#clip920)\" d=\"M 0 0 M1051.38 1532.01 Q1050.39 1531.44 1049.21 1531.18 Q1048.07 1530.9 1046.67 1530.9 Q1041.7 1530.9 1039.03 1534.14 Q1036.39 1537.36 1036.39 1543.41 L1036.39 1562.19 L1030.5 1562.19 L1030.5 1526.54 L1036.39 1526.54 L1036.39 1532.08 Q1038.23 1528.83 1041.19 1527.27 Q1044.15 1525.68 1048.39 1525.68 Q1048.99 1525.68 1049.72 1525.77 Q1050.45 1525.84 1051.35 1526 L1051.38 1532.01 Z\" fill=\"#000000\" fill-rule=\"evenodd\" fill-opacity=\"1\" /><path clip-path=\"url(#clip920)\" d=\"M 0 0 M1092.05 1530.64 Q1087.34 1530.64 1084.61 1534.34 Q1081.87 1538 1081.87 1544.39 Q1081.87 1550.79 1084.57 1554.48 Q1087.31 1558.14 1092.05 1558.14 Q1096.73 1558.14 1099.47 1554.45 Q1102.21 1550.76 1102.21 1544.39 Q1102.21 1538.06 1099.47 1534.37 Q1096.73 1530.64 1092.05 1530.64 M1092.05 1525.68 Q1099.69 1525.68 1104.05 1530.64 Q1108.41 1535.61 1108.41 1544.39 Q1108.41 1553.15 1104.05 1558.14 Q1099.69 1563.11 1092.05 1563.11 Q1084.38 1563.11 1080.02 1558.14 Q1075.69 1553.15 1075.69 1544.39 Q1075.69 1535.61 1080.02 1530.64 Q1084.38 1525.68 1092.05 1525.68 Z\" fill=\"#000000\" fill-rule=\"evenodd\" fill-opacity=\"1\" /><path clip-path=\"url(#clip920)\" d=\"M 0 0 M1132.6 1512.66 L1132.6 1517.53 L1127 1517.53 Q1123.85 1517.53 1122.61 1518.8 Q1121.4 1520.08 1121.4 1523.39 L1121.4 1526.54 L1131.04 1526.54 L1131.04 1531.09 L1121.4 1531.09 L1121.4 1562.19 L1115.51 1562.19 L1115.51 1531.09 L1109.91 1531.09 L1109.91 1526.54 L1115.51 1526.54 L1115.51 1524.05 Q1115.51 1518.1 1118.28 1515.4 Q1121.05 1512.66 1127.07 1512.66 L1132.6 1512.66 Z\" fill=\"#000000\" fill-rule=\"evenodd\" fill-opacity=\"1\" /><path clip-path=\"url(#clip920)\" d=\"M 0 0 M1166.15 1519.95 L1166.15 1537.8 L1174.24 1537.8 Q1178.72 1537.8 1181.17 1535.48 Q1183.63 1533.16 1183.63 1528.86 Q1183.63 1524.6 1181.17 1522.27 Q1178.72 1519.95 1174.24 1519.95 L1166.15 1519.95 M1159.72 1514.67 L1174.24 1514.67 Q1182.22 1514.67 1186.3 1518.29 Q1190.4 1521.89 1190.4 1528.86 Q1190.4 1535.9 1186.3 1539.49 Q1182.22 1543.09 1174.24 1543.09 L1166.15 1543.09 L1166.15 1562.19 L1159.72 1562.19 L1159.72 1514.67 Z\" fill=\"#000000\" fill-rule=\"evenodd\" fill-opacity=\"1\" /><path clip-path=\"url(#clip920)\" d=\"M 0 0 M1195.12 1526.54 L1200.97 1526.54 L1200.97 1562.19 L1195.12 1562.19 L1195.12 1526.54 M1195.12 1512.66 L1200.97 1512.66 L1200.97 1520.08 L1195.12 1520.08 L1195.12 1512.66 Z\" fill=\"#000000\" fill-rule=\"evenodd\" fill-opacity=\"1\" /><path clip-path=\"url(#clip920)\" d=\"M 0 0 M1227.77 1532.01 Q1226.78 1531.44 1225.61 1531.18 Q1224.46 1530.9 1223.06 1530.9 Q1218.1 1530.9 1215.42 1534.14 Q1212.78 1537.36 1212.78 1543.41 L1212.78 1562.19 L1206.89 1562.19 L1206.89 1526.54 L1212.78 1526.54 L1212.78 1532.08 Q1214.63 1528.83 1217.59 1527.27 Q1220.55 1525.68 1224.78 1525.68 Q1225.38 1525.68 1226.12 1525.77 Q1226.85 1525.84 1227.74 1526 L1227.77 1532.01 Z\" fill=\"#000000\" fill-rule=\"evenodd\" fill-opacity=\"1\" /><path clip-path=\"url(#clip920)\" d=\"M 0 0 M1250.11 1544.27 Q1243.02 1544.27 1240.28 1545.89 Q1237.54 1547.51 1237.54 1551.43 Q1237.54 1554.55 1239.58 1556.39 Q1241.65 1558.21 1245.18 1558.21 Q1250.05 1558.21 1252.98 1554.77 Q1255.94 1551.3 1255.94 1545.57 L1255.94 1544.27 L1250.11 1544.27 M1261.8 1541.85 L1261.8 1562.19 L1255.94 1562.19 L1255.94 1556.77 Q1253.93 1560.02 1250.94 1561.58 Q1247.95 1563.11 1243.62 1563.11 Q1238.15 1563.11 1234.9 1560.05 Q1231.69 1556.97 1231.69 1551.81 Q1231.69 1545.79 1235.7 1542.74 Q1239.74 1539.68 1247.73 1539.68 L1255.94 1539.68 L1255.94 1539.11 Q1255.94 1535.07 1253.27 1532.87 Q1250.62 1530.64 1245.82 1530.64 Q1242.76 1530.64 1239.87 1531.38 Q1236.97 1532.11 1234.3 1533.57 L1234.3 1528.16 Q1237.51 1526.92 1240.53 1526.31 Q1243.56 1525.68 1246.42 1525.68 Q1254.16 1525.68 1257.98 1529.69 Q1261.8 1533.7 1261.8 1541.85 Z\" fill=\"#000000\" fill-rule=\"evenodd\" fill-opacity=\"1\" /><path clip-path=\"url(#clip920)\" d=\"M 0 0 M1273.73 1516.42 L1273.73 1526.54 L1285.79 1526.54 L1285.79 1531.09 L1273.73 1531.09 L1273.73 1550.44 Q1273.73 1554.8 1274.91 1556.04 Q1276.12 1557.28 1279.78 1557.28 L1285.79 1557.28 L1285.79 1562.19 L1279.78 1562.19 Q1273 1562.19 1270.42 1559.67 Q1267.84 1557.12 1267.84 1550.44 L1267.84 1531.09 L1263.55 1531.09 L1263.55 1526.54 L1267.84 1526.54 L1267.84 1516.42 L1273.73 1516.42 Z\" fill=\"#000000\" fill-rule=\"evenodd\" fill-opacity=\"1\" /><path clip-path=\"url(#clip920)\" d=\"M 0 0 M1322.43 1542.9 L1322.43 1545.76 L1295.5 1545.76 Q1295.88 1551.81 1299.13 1554.99 Q1302.41 1558.14 1308.23 1558.14 Q1311.61 1558.14 1314.76 1557.32 Q1317.94 1556.49 1321.06 1554.83 L1321.06 1560.37 Q1317.91 1561.71 1314.6 1562.41 Q1311.29 1563.11 1307.88 1563.11 Q1299.35 1563.11 1294.36 1558.14 Q1289.39 1553.18 1289.39 1544.71 Q1289.39 1535.96 1294.1 1530.83 Q1298.84 1525.68 1306.87 1525.68 Q1314.06 1525.68 1318.23 1530.33 Q1322.43 1534.94 1322.43 1542.9 M1316.57 1541.18 Q1316.51 1536.37 1313.87 1533.51 Q1311.26 1530.64 1306.93 1530.64 Q1302.03 1530.64 1299.07 1533.41 Q1296.14 1536.18 1295.69 1541.21 L1316.57 1541.18 Z\" fill=\"#000000\" fill-rule=\"evenodd\" fill-opacity=\"1\" /><path clip-path=\"url(#clip920)\" d=\"M 0 0 M1351.3 1527.59 L1351.3 1533.13 Q1348.82 1531.85 1346.14 1531.22 Q1343.47 1530.58 1340.6 1530.58 Q1336.24 1530.58 1334.05 1531.92 Q1331.88 1533.25 1331.88 1535.93 Q1331.88 1537.96 1333.44 1539.14 Q1335 1540.29 1339.71 1541.34 L1341.72 1541.78 Q1347.96 1543.12 1350.57 1545.57 Q1353.21 1547.99 1353.21 1552.35 Q1353.21 1557.32 1349.26 1560.21 Q1345.35 1563.11 1338.47 1563.11 Q1335.61 1563.11 1332.49 1562.54 Q1329.4 1561.99 1325.96 1560.88 L1325.96 1554.83 Q1329.21 1556.52 1332.36 1557.38 Q1335.51 1558.21 1338.6 1558.21 Q1342.74 1558.21 1344.96 1556.81 Q1347.19 1555.37 1347.19 1552.8 Q1347.19 1550.41 1345.57 1549.14 Q1343.98 1547.86 1338.53 1546.68 L1336.5 1546.21 Q1331.05 1545.06 1328.64 1542.71 Q1326.22 1540.32 1326.22 1536.18 Q1326.22 1531.15 1329.78 1528.42 Q1333.35 1525.68 1339.9 1525.68 Q1343.15 1525.68 1346.01 1526.16 Q1348.88 1526.63 1351.3 1527.59 Z\" fill=\"#000000\" fill-rule=\"evenodd\" fill-opacity=\"1\" /><path clip-path=\"url(#clip920)\" d=\"M 0 0 M1379.53 1512.66 L1393.02 1512.66 L1393.02 1517.21 L1385.39 1517.21 L1385.39 1566.23 L1393.02 1566.23 L1393.02 1570.78 L1379.53 1570.78 L1379.53 1512.66 Z\" fill=\"#000000\" fill-rule=\"evenodd\" fill-opacity=\"1\" /><path clip-path=\"url(#clip920)\" d=\"M 0 0 M1415.3 1521 L1406.58 1544.65 L1424.06 1544.65 L1415.3 1521 M1411.68 1514.67 L1418.97 1514.67 L1437.08 1562.19 L1430.39 1562.19 L1426.06 1550 L1404.64 1550 L1400.31 1562.19 L1393.53 1562.19 L1411.68 1514.67 Z\" fill=\"#000000\" fill-rule=\"evenodd\" fill-opacity=\"1\" /><path clip-path=\"url(#clip920)\" d=\"M 0 0 M1448.88 1556.84 L1448.88 1575.74 L1443 1575.74 L1443 1526.54 L1448.88 1526.54 L1448.88 1531.95 Q1450.73 1528.77 1453.53 1527.24 Q1456.36 1525.68 1460.28 1525.68 Q1466.77 1525.68 1470.81 1530.83 Q1474.89 1535.99 1474.89 1544.39 Q1474.89 1552.8 1470.81 1557.95 Q1466.77 1563.11 1460.28 1563.11 Q1456.36 1563.11 1453.53 1561.58 Q1450.73 1560.02 1448.88 1556.84 M1468.81 1544.39 Q1468.81 1537.93 1466.14 1534.27 Q1463.49 1530.58 1458.85 1530.58 Q1454.2 1530.58 1451.53 1534.27 Q1448.88 1537.93 1448.88 1544.39 Q1448.88 1550.85 1451.53 1554.55 Q1454.2 1558.21 1458.85 1558.21 Q1463.49 1558.21 1466.14 1554.55 Q1468.81 1550.85 1468.81 1544.39 Z\" fill=\"#000000\" fill-rule=\"evenodd\" fill-opacity=\"1\" /><path clip-path=\"url(#clip920)\" d=\"M 0 0 M1486.7 1556.84 L1486.7 1575.74 L1480.81 1575.74 L1480.81 1526.54 L1486.7 1526.54 L1486.7 1531.95 Q1488.54 1528.77 1491.34 1527.24 Q1494.18 1525.68 1498.09 1525.68 Q1504.58 1525.68 1508.63 1530.83 Q1512.7 1535.99 1512.7 1544.39 Q1512.7 1552.8 1508.63 1557.95 Q1504.58 1563.11 1498.09 1563.11 Q1494.18 1563.11 1491.34 1561.58 Q1488.54 1560.02 1486.7 1556.84 M1506.62 1544.39 Q1506.62 1537.93 1503.95 1534.27 Q1501.31 1530.58 1496.66 1530.58 Q1492.01 1530.58 1489.34 1534.27 Q1486.7 1537.93 1486.7 1544.39 Q1486.7 1550.85 1489.34 1554.55 Q1492.01 1558.21 1496.66 1558.21 Q1501.31 1558.21 1503.95 1554.55 Q1506.62 1550.85 1506.62 1544.39 Z\" fill=\"#000000\" fill-rule=\"evenodd\" fill-opacity=\"1\" /><path clip-path=\"url(#clip920)\" d=\"M 0 0 M1539.5 1532.01 Q1538.51 1531.44 1537.34 1531.18 Q1536.19 1530.9 1534.79 1530.9 Q1529.82 1530.9 1527.15 1534.14 Q1524.51 1537.36 1524.51 1543.41 L1524.51 1562.19 L1518.62 1562.19 L1518.62 1526.54 L1524.51 1526.54 L1524.51 1532.08 Q1526.35 1528.83 1529.31 1527.27 Q1532.27 1525.68 1536.51 1525.68 Q1537.11 1525.68 1537.84 1525.77 Q1538.58 1525.84 1539.47 1526 L1539.5 1532.01 Z\" fill=\"#000000\" fill-rule=\"evenodd\" fill-opacity=\"1\" /><path clip-path=\"url(#clip920)\" d=\"M 0 0 M1558.02 1530.64 Q1553.31 1530.64 1550.58 1534.34 Q1547.84 1538 1547.84 1544.39 Q1547.84 1550.79 1550.54 1554.48 Q1553.28 1558.14 1558.02 1558.14 Q1562.7 1558.14 1565.44 1554.45 Q1568.18 1550.76 1568.18 1544.39 Q1568.18 1538.06 1565.44 1534.37 Q1562.7 1530.64 1558.02 1530.64 M1558.02 1525.68 Q1565.66 1525.68 1570.02 1530.64 Q1574.38 1535.61 1574.38 1544.39 Q1574.38 1553.15 1570.02 1558.14 Q1565.66 1563.11 1558.02 1563.11 Q1550.35 1563.11 1545.99 1558.14 Q1541.66 1553.15 1541.66 1544.39 Q1541.66 1535.61 1545.99 1530.64 Q1550.35 1525.68 1558.02 1525.68 Z\" fill=\"#000000\" fill-rule=\"evenodd\" fill-opacity=\"1\" /><path clip-path=\"url(#clip920)\" d=\"M 0 0 M1608.15 1526.54 L1595.26 1543.88 L1608.82 1562.19 L1601.92 1562.19 L1591.54 1548.18 L1581.16 1562.19 L1574.26 1562.19 L1588.1 1543.53 L1575.43 1526.54 L1582.34 1526.54 L1591.79 1539.24 L1601.25 1526.54 L1608.15 1526.54 Z\" fill=\"#000000\" fill-rule=\"evenodd\" fill-opacity=\"1\" /><path clip-path=\"url(#clip920)\" d=\"M 0 0 M1614.97 1526.54 L1620.82 1526.54 L1620.82 1562.19 L1614.97 1562.19 L1614.97 1526.54 M1614.97 1512.66 L1620.82 1512.66 L1620.82 1520.08 L1614.97 1520.08 L1614.97 1512.66 Z\" fill=\"#000000\" fill-rule=\"evenodd\" fill-opacity=\"1\" /><path clip-path=\"url(#clip920)\" d=\"M 0 0 M1654.72 1533.38 Q1656.92 1529.43 1659.97 1527.56 Q1663.03 1525.68 1667.16 1525.68 Q1672.73 1525.68 1675.76 1529.59 Q1678.78 1533.48 1678.78 1540.67 L1678.78 1562.19 L1672.89 1562.19 L1672.89 1540.86 Q1672.89 1535.74 1671.08 1533.25 Q1669.26 1530.77 1665.54 1530.77 Q1660.99 1530.77 1658.35 1533.79 Q1655.71 1536.82 1655.71 1542.04 L1655.71 1562.19 L1649.82 1562.19 L1649.82 1540.86 Q1649.82 1535.7 1648 1533.25 Q1646.19 1530.77 1642.4 1530.77 Q1637.91 1530.77 1635.27 1533.83 Q1632.63 1536.85 1632.63 1542.04 L1632.63 1562.19 L1626.74 1562.19 L1626.74 1526.54 L1632.63 1526.54 L1632.63 1532.08 Q1634.64 1528.8 1637.44 1527.24 Q1640.24 1525.68 1644.09 1525.68 Q1647.97 1525.68 1650.68 1527.65 Q1653.41 1529.62 1654.72 1533.38 Z\" fill=\"#000000\" fill-rule=\"evenodd\" fill-opacity=\"1\" /><path clip-path=\"url(#clip920)\" d=\"M 0 0 M1701.13 1544.27 Q1694.03 1544.27 1691.29 1545.89 Q1688.55 1547.51 1688.55 1551.43 Q1688.55 1554.55 1690.59 1556.39 Q1692.66 1558.21 1696.19 1558.21 Q1701.06 1558.21 1703.99 1554.77 Q1706.95 1551.3 1706.95 1545.57 L1706.95 1544.27 L1701.13 1544.27 M1712.81 1541.85 L1712.81 1562.19 L1706.95 1562.19 L1706.95 1556.77 Q1704.94 1560.02 1701.95 1561.58 Q1698.96 1563.11 1694.63 1563.11 Q1689.16 1563.11 1685.91 1560.05 Q1682.7 1556.97 1682.7 1551.81 Q1682.7 1545.79 1686.71 1542.74 Q1690.75 1539.68 1698.74 1539.68 L1706.95 1539.68 L1706.95 1539.11 Q1706.95 1535.07 1704.28 1532.87 Q1701.63 1530.64 1696.83 1530.64 Q1693.77 1530.64 1690.88 1531.38 Q1687.98 1532.11 1685.31 1533.57 L1685.31 1528.16 Q1688.52 1526.92 1691.54 1526.31 Q1694.57 1525.68 1697.43 1525.68 Q1705.17 1525.68 1708.99 1529.69 Q1712.81 1533.7 1712.81 1541.85 Z\" fill=\"#000000\" fill-rule=\"evenodd\" fill-opacity=\"1\" /><path clip-path=\"url(#clip920)\" d=\"M 0 0 M1724.74 1516.42 L1724.74 1526.54 L1736.8 1526.54 L1736.8 1531.09 L1724.74 1531.09 L1724.74 1550.44 Q1724.74 1554.8 1725.92 1556.04 Q1727.13 1557.28 1730.79 1557.28 L1736.8 1557.28 L1736.8 1562.19 L1730.79 1562.19 Q1724.01 1562.19 1721.43 1559.67 Q1718.85 1557.12 1718.85 1550.44 L1718.85 1531.09 L1714.56 1531.09 L1714.56 1526.54 L1718.85 1526.54 L1718.85 1516.42 L1724.74 1516.42 Z\" fill=\"#000000\" fill-rule=\"evenodd\" fill-opacity=\"1\" /><path clip-path=\"url(#clip920)\" d=\"M 0 0 M1773.44 1542.9 L1773.44 1545.76 L1746.51 1545.76 Q1746.89 1551.81 1750.14 1554.99 Q1753.42 1558.14 1759.24 1558.14 Q1762.62 1558.14 1765.77 1557.32 Q1768.95 1556.49 1772.07 1554.83 L1772.07 1560.37 Q1768.92 1561.71 1765.61 1562.41 Q1762.3 1563.11 1758.89 1563.11 Q1750.36 1563.11 1745.37 1558.14 Q1740.4 1553.18 1740.4 1544.71 Q1740.4 1535.96 1745.11 1530.83 Q1749.85 1525.68 1757.88 1525.68 Q1765.07 1525.68 1769.24 1530.33 Q1773.44 1534.94 1773.44 1542.9 M1767.58 1541.18 Q1767.52 1536.37 1764.88 1533.51 Q1762.27 1530.64 1757.94 1530.64 Q1753.04 1530.64 1750.08 1533.41 Q1747.15 1536.18 1746.7 1541.21 L1767.58 1541.18 Z\" fill=\"#000000\" fill-rule=\"evenodd\" fill-opacity=\"1\" /><path clip-path=\"url(#clip920)\" d=\"M 0 0 M1793.27 1512.66 L1793.27 1570.78 L1779.77 1570.78 L1779.77 1566.23 L1787.38 1566.23 L1787.38 1517.21 L1779.77 1517.21 L1779.77 1512.66 L1793.27 1512.66 Z\" fill=\"#000000\" fill-rule=\"evenodd\" fill-opacity=\"1\" /><polyline clip-path=\"url(#clip922)\" style=\"stroke:#000000; stroke-width:2; stroke-opacity:0.1; fill:none\" points=\"\n",
       "  261.324,1287.71 2352.76,1287.71 \n",
       "  \"/>\n",
       "<polyline clip-path=\"url(#clip922)\" style=\"stroke:#000000; stroke-width:2; stroke-opacity:0.1; fill:none\" points=\"\n",
       "  261.324,1070.82 2352.76,1070.82 \n",
       "  \"/>\n",
       "<polyline clip-path=\"url(#clip922)\" style=\"stroke:#000000; stroke-width:2; stroke-opacity:0.1; fill:none\" points=\"\n",
       "  261.324,853.938 2352.76,853.938 \n",
       "  \"/>\n",
       "<polyline clip-path=\"url(#clip922)\" style=\"stroke:#000000; stroke-width:2; stroke-opacity:0.1; fill:none\" points=\"\n",
       "  261.324,637.054 2352.76,637.054 \n",
       "  \"/>\n",
       "<polyline clip-path=\"url(#clip922)\" style=\"stroke:#000000; stroke-width:2; stroke-opacity:0.1; fill:none\" points=\"\n",
       "  261.324,420.17 2352.76,420.17 \n",
       "  \"/>\n",
       "<polyline clip-path=\"url(#clip922)\" style=\"stroke:#000000; stroke-width:2; stroke-opacity:0.1; fill:none\" points=\"\n",
       "  261.324,203.286 2352.76,203.286 \n",
       "  \"/>\n",
       "<polyline clip-path=\"url(#clip920)\" style=\"stroke:#000000; stroke-width:4; stroke-opacity:1; fill:none\" points=\"\n",
       "  261.324,1410.9 261.324,123.472 \n",
       "  \"/>\n",
       "<polyline clip-path=\"url(#clip920)\" style=\"stroke:#000000; stroke-width:4; stroke-opacity:1; fill:none\" points=\"\n",
       "  261.324,1287.71 286.422,1287.71 \n",
       "  \"/>\n",
       "<polyline clip-path=\"url(#clip920)\" style=\"stroke:#000000; stroke-width:4; stroke-opacity:1; fill:none\" points=\"\n",
       "  261.324,1070.82 286.422,1070.82 \n",
       "  \"/>\n",
       "<polyline clip-path=\"url(#clip920)\" style=\"stroke:#000000; stroke-width:4; stroke-opacity:1; fill:none\" points=\"\n",
       "  261.324,853.938 286.422,853.938 \n",
       "  \"/>\n",
       "<polyline clip-path=\"url(#clip920)\" style=\"stroke:#000000; stroke-width:4; stroke-opacity:1; fill:none\" points=\"\n",
       "  261.324,637.054 286.422,637.054 \n",
       "  \"/>\n",
       "<polyline clip-path=\"url(#clip920)\" style=\"stroke:#000000; stroke-width:4; stroke-opacity:1; fill:none\" points=\"\n",
       "  261.324,420.17 286.422,420.17 \n",
       "  \"/>\n",
       "<polyline clip-path=\"url(#clip920)\" style=\"stroke:#000000; stroke-width:4; stroke-opacity:1; fill:none\" points=\"\n",
       "  261.324,203.286 286.422,203.286 \n",
       "  \"/>\n",
       "<path clip-path=\"url(#clip920)\" d=\"M 0 0 M114.931 1301.05 L122.57 1301.05 L122.57 1274.69 L114.26 1276.35 L114.26 1272.09 L122.524 1270.43 L127.2 1270.43 L127.2 1301.05 L134.839 1301.05 L134.839 1304.99 L114.931 1304.99 L114.931 1301.05 Z\" fill=\"#000000\" fill-rule=\"evenodd\" fill-opacity=\"1\" /><path clip-path=\"url(#clip920)\" d=\"M 0 0 M152.755 1274.5 L140.95 1292.95 L152.755 1292.95 L152.755 1274.5 M151.528 1270.43 L157.408 1270.43 L157.408 1292.95 L162.339 1292.95 L162.339 1296.84 L157.408 1296.84 L157.408 1304.99 L152.755 1304.99 L152.755 1296.84 L137.154 1296.84 L137.154 1292.32 L151.528 1270.43 Z\" fill=\"#000000\" fill-rule=\"evenodd\" fill-opacity=\"1\" /><path clip-path=\"url(#clip920)\" d=\"M 0 0 M167.408 1299.11 L172.292 1299.11 L172.292 1304.99 L167.408 1304.99 L167.408 1299.11 Z\" fill=\"#000000\" fill-rule=\"evenodd\" fill-opacity=\"1\" /><path clip-path=\"url(#clip920)\" d=\"M 0 0 M177.408 1270.43 L195.764 1270.43 L195.764 1274.36 L181.69 1274.36 L181.69 1282.83 Q182.709 1282.49 183.727 1282.32 Q184.746 1282.14 185.764 1282.14 Q191.551 1282.14 194.931 1285.31 Q198.311 1288.48 198.311 1293.9 Q198.311 1299.48 194.838 1302.58 Q191.366 1305.66 185.047 1305.66 Q182.871 1305.66 180.602 1305.29 Q178.357 1304.92 175.95 1304.18 L175.95 1299.48 Q178.033 1300.61 180.255 1301.17 Q182.477 1301.72 184.954 1301.72 Q188.959 1301.72 191.297 1299.62 Q193.635 1297.51 193.635 1293.9 Q193.635 1290.29 191.297 1288.18 Q188.959 1286.07 184.954 1286.07 Q183.079 1286.07 181.204 1286.49 Q179.352 1286.91 177.408 1287.79 L177.408 1270.43 Z\" fill=\"#000000\" fill-rule=\"evenodd\" fill-opacity=\"1\" /><path clip-path=\"url(#clip920)\" d=\"M 0 0 M213.38 1273.51 Q209.769 1273.51 207.94 1277.07 Q206.135 1280.61 206.135 1287.74 Q206.135 1294.85 207.94 1298.41 Q209.769 1301.95 213.38 1301.95 Q217.014 1301.95 218.82 1298.41 Q220.648 1294.85 220.648 1287.74 Q220.648 1280.61 218.82 1277.07 Q217.014 1273.51 213.38 1273.51 M213.38 1269.8 Q219.19 1269.8 222.246 1274.41 Q225.324 1278.99 225.324 1287.74 Q225.324 1296.47 222.246 1301.07 Q219.19 1305.66 213.38 1305.66 Q207.57 1305.66 204.491 1301.07 Q201.436 1296.47 201.436 1287.74 Q201.436 1278.99 204.491 1274.41 Q207.57 1269.8 213.38 1269.8 Z\" fill=\"#000000\" fill-rule=\"evenodd\" fill-opacity=\"1\" /><path clip-path=\"url(#clip920)\" d=\"M 0 0 M115.834 1084.17 L123.473 1084.17 L123.473 1057.8 L115.163 1059.47 L115.163 1055.21 L123.427 1053.54 L128.103 1053.54 L128.103 1084.17 L135.742 1084.17 L135.742 1088.1 L115.834 1088.1 L115.834 1084.17 Z\" fill=\"#000000\" fill-rule=\"evenodd\" fill-opacity=\"1\" /><path clip-path=\"url(#clip920)\" d=\"M 0 0 M153.658 1057.62 L141.853 1076.07 L153.658 1076.07 L153.658 1057.62 M152.431 1053.54 L158.311 1053.54 L158.311 1076.07 L163.241 1076.07 L163.241 1079.95 L158.311 1079.95 L158.311 1088.1 L153.658 1088.1 L153.658 1079.95 L138.056 1079.95 L138.056 1075.44 L152.431 1053.54 Z\" fill=\"#000000\" fill-rule=\"evenodd\" fill-opacity=\"1\" /><path clip-path=\"url(#clip920)\" d=\"M 0 0 M168.311 1082.22 L173.195 1082.22 L173.195 1088.1 L168.311 1088.1 L168.311 1082.22 Z\" fill=\"#000000\" fill-rule=\"evenodd\" fill-opacity=\"1\" /><path clip-path=\"url(#clip920)\" d=\"M 0 0 M177.084 1053.54 L199.306 1053.54 L199.306 1055.53 L186.76 1088.1 L181.876 1088.1 L193.681 1057.48 L177.084 1057.48 L177.084 1053.54 Z\" fill=\"#000000\" fill-rule=\"evenodd\" fill-opacity=\"1\" /><path clip-path=\"url(#clip920)\" d=\"M 0 0 M204.422 1053.54 L222.778 1053.54 L222.778 1057.48 L208.704 1057.48 L208.704 1065.95 Q209.723 1065.6 210.741 1065.44 Q211.76 1065.26 212.778 1065.26 Q218.565 1065.26 221.945 1068.43 Q225.324 1071.6 225.324 1077.01 Q225.324 1082.59 221.852 1085.69 Q218.38 1088.77 212.061 1088.77 Q209.885 1088.77 207.616 1088.4 Q205.371 1088.03 202.963 1087.29 L202.963 1082.59 Q205.047 1083.73 207.269 1084.28 Q209.491 1084.84 211.968 1084.84 Q215.973 1084.84 218.311 1082.73 Q220.648 1080.63 220.648 1077.01 Q220.648 1073.4 218.311 1071.3 Q215.973 1069.19 211.968 1069.19 Q210.093 1069.19 208.218 1069.61 Q206.366 1070.02 204.422 1070.9 L204.422 1053.54 Z\" fill=\"#000000\" fill-rule=\"evenodd\" fill-opacity=\"1\" /><path clip-path=\"url(#clip920)\" d=\"M 0 0 M115.418 867.283 L123.056 867.283 L123.056 840.917 L114.746 842.584 L114.746 838.325 L123.01 836.658 L127.686 836.658 L127.686 867.283 L135.325 867.283 L135.325 871.218 L115.418 871.218 L115.418 867.283 Z\" fill=\"#000000\" fill-rule=\"evenodd\" fill-opacity=\"1\" /><path clip-path=\"url(#clip920)\" d=\"M 0 0 M140.441 836.658 L158.797 836.658 L158.797 840.593 L144.723 840.593 L144.723 849.065 Q145.741 848.718 146.76 848.556 Q147.778 848.371 148.797 848.371 Q154.584 848.371 157.964 851.542 Q161.343 854.714 161.343 860.13 Q161.343 865.709 157.871 868.811 Q154.399 871.889 148.079 871.889 Q145.904 871.889 143.635 871.519 Q141.39 871.149 138.982 870.408 L138.982 865.709 Q141.066 866.843 143.288 867.399 Q145.51 867.954 147.987 867.954 Q151.991 867.954 154.329 865.848 Q156.667 863.741 156.667 860.13 Q156.667 856.519 154.329 854.413 Q151.991 852.306 147.987 852.306 Q146.112 852.306 144.237 852.723 Q142.385 853.139 140.441 854.019 L140.441 836.658 Z\" fill=\"#000000\" fill-rule=\"evenodd\" fill-opacity=\"1\" /><path clip-path=\"url(#clip920)\" d=\"M 0 0 M166.413 865.338 L171.297 865.338 L171.297 871.218 L166.413 871.218 L166.413 865.338 Z\" fill=\"#000000\" fill-rule=\"evenodd\" fill-opacity=\"1\" /><path clip-path=\"url(#clip920)\" d=\"M 0 0 M186.366 839.737 Q182.755 839.737 180.926 843.302 Q179.121 846.843 179.121 853.973 Q179.121 861.079 180.926 864.644 Q182.755 868.186 186.366 868.186 Q190 868.186 191.806 864.644 Q193.635 861.079 193.635 853.973 Q193.635 846.843 191.806 843.302 Q190 839.737 186.366 839.737 M186.366 836.033 Q192.176 836.033 195.232 840.64 Q198.311 845.223 198.311 853.973 Q198.311 862.7 195.232 867.306 Q192.176 871.889 186.366 871.889 Q180.556 871.889 177.477 867.306 Q174.422 862.7 174.422 853.973 Q174.422 845.223 177.477 840.64 Q180.556 836.033 186.366 836.033 Z\" fill=\"#000000\" fill-rule=\"evenodd\" fill-opacity=\"1\" /><path clip-path=\"url(#clip920)\" d=\"M 0 0 M213.38 839.737 Q209.769 839.737 207.94 843.302 Q206.135 846.843 206.135 853.973 Q206.135 861.079 207.94 864.644 Q209.769 868.186 213.38 868.186 Q217.014 868.186 218.82 864.644 Q220.648 861.079 220.648 853.973 Q220.648 846.843 218.82 843.302 Q217.014 839.737 213.38 839.737 M213.38 836.033 Q219.19 836.033 222.246 840.64 Q225.324 845.223 225.324 853.973 Q225.324 862.7 222.246 867.306 Q219.19 871.889 213.38 871.889 Q207.57 871.889 204.491 867.306 Q201.436 862.7 201.436 853.973 Q201.436 845.223 204.491 840.64 Q207.57 836.033 213.38 836.033 Z\" fill=\"#000000\" fill-rule=\"evenodd\" fill-opacity=\"1\" /><path clip-path=\"url(#clip920)\" d=\"M 0 0 M118.01 650.399 L125.649 650.399 L125.649 624.033 L117.339 625.7 L117.339 621.441 L125.603 619.774 L130.279 619.774 L130.279 650.399 L137.917 650.399 L137.917 654.334 L118.01 654.334 L118.01 650.399 Z\" fill=\"#000000\" fill-rule=\"evenodd\" fill-opacity=\"1\" /><path clip-path=\"url(#clip920)\" d=\"M 0 0 M143.033 619.774 L161.39 619.774 L161.39 623.709 L147.316 623.709 L147.316 632.181 Q148.334 631.834 149.353 631.672 Q150.371 631.487 151.39 631.487 Q157.177 631.487 160.556 634.658 Q163.936 637.829 163.936 643.246 Q163.936 648.825 160.464 651.926 Q156.991 655.005 150.672 655.005 Q148.496 655.005 146.228 654.635 Q143.982 654.264 141.575 653.524 L141.575 648.825 Q143.658 649.959 145.88 650.514 Q148.103 651.07 150.579 651.07 Q154.584 651.07 156.922 648.964 Q159.26 646.857 159.26 643.246 Q159.26 639.635 156.922 637.528 Q154.584 635.422 150.579 635.422 Q148.704 635.422 146.829 635.839 Q144.978 636.255 143.033 637.135 L143.033 619.774 Z\" fill=\"#000000\" fill-rule=\"evenodd\" fill-opacity=\"1\" /><path clip-path=\"url(#clip920)\" d=\"M 0 0 M169.005 648.454 L173.889 648.454 L173.889 654.334 L169.005 654.334 L169.005 648.454 Z\" fill=\"#000000\" fill-rule=\"evenodd\" fill-opacity=\"1\" /><path clip-path=\"url(#clip920)\" d=\"M 0 0 M182.987 650.399 L199.306 650.399 L199.306 654.334 L177.362 654.334 L177.362 650.399 Q180.024 647.644 184.607 643.014 Q189.213 638.362 190.394 637.019 Q192.639 634.496 193.519 632.76 Q194.422 631.001 194.422 629.311 Q194.422 626.556 192.477 624.82 Q190.556 623.084 187.454 623.084 Q185.255 623.084 182.801 623.848 Q180.371 624.612 177.593 626.163 L177.593 621.441 Q180.417 620.306 182.871 619.728 Q185.325 619.149 187.362 619.149 Q192.732 619.149 195.926 621.834 Q199.121 624.519 199.121 629.01 Q199.121 631.14 198.311 633.061 Q197.524 634.959 195.417 637.552 Q194.838 638.223 191.737 641.44 Q188.635 644.635 182.987 650.399 Z\" fill=\"#000000\" fill-rule=\"evenodd\" fill-opacity=\"1\" /><path clip-path=\"url(#clip920)\" d=\"M 0 0 M204.422 619.774 L222.778 619.774 L222.778 623.709 L208.704 623.709 L208.704 632.181 Q209.723 631.834 210.741 631.672 Q211.76 631.487 212.778 631.487 Q218.565 631.487 221.945 634.658 Q225.324 637.829 225.324 643.246 Q225.324 648.825 221.852 651.926 Q218.38 655.005 212.061 655.005 Q209.885 655.005 207.616 654.635 Q205.371 654.264 202.963 653.524 L202.963 648.825 Q205.047 649.959 207.269 650.514 Q209.491 651.07 211.968 651.07 Q215.973 651.07 218.311 648.964 Q220.648 646.857 220.648 643.246 Q220.648 639.635 218.311 637.528 Q215.973 635.422 211.968 635.422 Q210.093 635.422 208.218 635.839 Q206.366 636.255 204.422 637.135 L204.422 619.774 Z\" fill=\"#000000\" fill-rule=\"evenodd\" fill-opacity=\"1\" /><path clip-path=\"url(#clip920)\" d=\"M 0 0 M116.413 433.515 L124.052 433.515 L124.052 407.149 L115.742 408.816 L115.742 404.556 L124.005 402.89 L128.681 402.89 L128.681 433.515 L136.32 433.515 L136.32 437.45 L116.413 437.45 L116.413 433.515 Z\" fill=\"#000000\" fill-rule=\"evenodd\" fill-opacity=\"1\" /><path clip-path=\"url(#clip920)\" d=\"M 0 0 M141.436 402.89 L159.792 402.89 L159.792 406.825 L145.718 406.825 L145.718 415.297 Q146.737 414.95 147.755 414.788 Q148.774 414.603 149.792 414.603 Q155.579 414.603 158.959 417.774 Q162.339 420.945 162.339 426.362 Q162.339 431.94 158.866 435.042 Q155.394 438.121 149.075 438.121 Q146.899 438.121 144.63 437.751 Q142.385 437.38 139.978 436.64 L139.978 431.94 Q142.061 433.075 144.283 433.63 Q146.505 434.186 148.982 434.186 Q152.987 434.186 155.325 432.079 Q157.663 429.973 157.663 426.362 Q157.663 422.751 155.325 420.644 Q152.987 418.538 148.982 418.538 Q147.107 418.538 145.232 418.954 Q143.38 419.371 141.436 420.251 L141.436 402.89 Z\" fill=\"#000000\" fill-rule=\"evenodd\" fill-opacity=\"1\" /><path clip-path=\"url(#clip920)\" d=\"M 0 0 M167.408 431.57 L172.292 431.57 L172.292 437.45 L167.408 437.45 L167.408 431.57 Z\" fill=\"#000000\" fill-rule=\"evenodd\" fill-opacity=\"1\" /><path clip-path=\"url(#clip920)\" d=\"M 0 0 M177.408 402.89 L195.764 402.89 L195.764 406.825 L181.69 406.825 L181.69 415.297 Q182.709 414.95 183.727 414.788 Q184.746 414.603 185.764 414.603 Q191.551 414.603 194.931 417.774 Q198.311 420.945 198.311 426.362 Q198.311 431.94 194.838 435.042 Q191.366 438.121 185.047 438.121 Q182.871 438.121 180.602 437.751 Q178.357 437.38 175.95 436.64 L175.95 431.94 Q178.033 433.075 180.255 433.63 Q182.477 434.186 184.954 434.186 Q188.959 434.186 191.297 432.079 Q193.635 429.973 193.635 426.362 Q193.635 422.751 191.297 420.644 Q188.959 418.538 184.954 418.538 Q183.079 418.538 181.204 418.954 Q179.352 419.371 177.408 420.251 L177.408 402.89 Z\" fill=\"#000000\" fill-rule=\"evenodd\" fill-opacity=\"1\" /><path clip-path=\"url(#clip920)\" d=\"M 0 0 M213.38 405.968 Q209.769 405.968 207.94 409.533 Q206.135 413.075 206.135 420.204 Q206.135 427.311 207.94 430.876 Q209.769 434.417 213.38 434.417 Q217.014 434.417 218.82 430.876 Q220.648 427.311 220.648 420.204 Q220.648 413.075 218.82 409.533 Q217.014 405.968 213.38 405.968 M213.38 402.265 Q219.19 402.265 222.246 406.871 Q225.324 411.454 225.324 420.204 Q225.324 428.931 222.246 433.538 Q219.19 438.121 213.38 438.121 Q207.57 438.121 204.491 433.538 Q201.436 428.931 201.436 420.204 Q201.436 411.454 204.491 406.871 Q207.57 402.265 213.38 402.265 Z\" fill=\"#000000\" fill-rule=\"evenodd\" fill-opacity=\"1\" /><path clip-path=\"url(#clip920)\" d=\"M 0 0 M117.316 216.63 L124.955 216.63 L124.955 190.265 L116.644 191.931 L116.644 187.672 L124.908 186.006 L129.584 186.006 L129.584 216.63 L137.223 216.63 L137.223 220.566 L117.316 220.566 L117.316 216.63 Z\" fill=\"#000000\" fill-rule=\"evenodd\" fill-opacity=\"1\" /><path clip-path=\"url(#clip920)\" d=\"M 0 0 M142.339 186.006 L160.695 186.006 L160.695 189.941 L146.621 189.941 L146.621 198.413 Q147.64 198.066 148.658 197.904 Q149.677 197.718 150.695 197.718 Q156.482 197.718 159.862 200.89 Q163.241 204.061 163.241 209.478 Q163.241 215.056 159.769 218.158 Q156.297 221.237 149.978 221.237 Q147.802 221.237 145.533 220.866 Q143.288 220.496 140.88 219.755 L140.88 215.056 Q142.964 216.191 145.186 216.746 Q147.408 217.302 149.885 217.302 Q153.89 217.302 156.228 215.195 Q158.565 213.089 158.565 209.478 Q158.565 205.867 156.228 203.76 Q153.89 201.654 149.885 201.654 Q148.01 201.654 146.135 202.07 Q144.283 202.487 142.339 203.367 L142.339 186.006 Z\" fill=\"#000000\" fill-rule=\"evenodd\" fill-opacity=\"1\" /><path clip-path=\"url(#clip920)\" d=\"M 0 0 M168.311 214.686 L173.195 214.686 L173.195 220.566 L168.311 220.566 L168.311 214.686 Z\" fill=\"#000000\" fill-rule=\"evenodd\" fill-opacity=\"1\" /><path clip-path=\"url(#clip920)\" d=\"M 0 0 M177.084 186.006 L199.306 186.006 L199.306 187.996 L186.76 220.566 L181.876 220.566 L193.681 189.941 L177.084 189.941 L177.084 186.006 Z\" fill=\"#000000\" fill-rule=\"evenodd\" fill-opacity=\"1\" /><path clip-path=\"url(#clip920)\" d=\"M 0 0 M204.422 186.006 L222.778 186.006 L222.778 189.941 L208.704 189.941 L208.704 198.413 Q209.723 198.066 210.741 197.904 Q211.76 197.718 212.778 197.718 Q218.565 197.718 221.945 200.89 Q225.324 204.061 225.324 209.478 Q225.324 215.056 221.852 218.158 Q218.38 221.237 212.061 221.237 Q209.885 221.237 207.616 220.866 Q205.371 220.496 202.963 219.755 L202.963 215.056 Q205.047 216.191 207.269 216.746 Q209.491 217.302 211.968 217.302 Q215.973 217.302 218.311 215.195 Q220.648 213.089 220.648 209.478 Q220.648 205.867 218.311 203.76 Q215.973 201.654 211.968 201.654 Q210.093 201.654 208.218 202.07 Q206.366 202.487 204.422 203.367 L204.422 186.006 Z\" fill=\"#000000\" fill-rule=\"evenodd\" fill-opacity=\"1\" /><path clip-path=\"url(#clip920)\" d=\"M 0 0 M81.2247 1060.34 L68.4614 1060.34 L68.4614 1070.84 L63.1779 1070.84 L63.1779 1053.98 L83.58 1053.98 Q86.2218 1057.7 87.5904 1062.19 Q88.9272 1066.67 88.9272 1071.77 Q88.9272 1082.91 82.4342 1089.21 Q75.9093 1095.48 64.2919 1095.48 Q52.6427 1095.48 46.1496 1089.21 Q39.6248 1082.91 39.6248 1071.77 Q39.6248 1067.12 40.7706 1062.95 Q41.9164 1058.75 44.1444 1055.22 L50.9876 1055.22 Q47.9639 1058.78 46.4361 1062.79 Q44.9083 1066.8 44.9083 1071.23 Q44.9083 1079.95 49.7781 1084.34 Q54.6479 1088.7 64.2919 1088.7 Q73.9041 1088.7 78.7739 1084.34 Q83.6436 1079.95 83.6436 1071.23 Q83.6436 1067.82 83.0707 1065.15 Q82.466 1062.47 81.2247 1060.34 Z\" fill=\"#000000\" fill-rule=\"evenodd\" fill-opacity=\"1\" /><path clip-path=\"url(#clip920)\" d=\"M 0 0 M38.479 1047.83 L38.479 1041.98 L88.0042 1041.98 L88.0042 1047.83 L38.479 1047.83 Z\" fill=\"#000000\" fill-rule=\"evenodd\" fill-opacity=\"1\" /><path clip-path=\"url(#clip920)\" d=\"M 0 0 M56.4621 1022.02 Q56.4621 1026.73 60.1542 1029.47 Q63.8145 1032.2 70.212 1032.2 Q76.6095 1032.2 80.3017 1029.5 Q83.9619 1026.76 83.9619 1022.02 Q83.9619 1017.34 80.2698 1014.6 Q76.5777 1011.87 70.212 1011.87 Q63.8781 1011.87 60.186 1014.6 Q56.4621 1017.34 56.4621 1022.02 M51.4968 1022.02 Q51.4968 1014.38 56.4621 1010.02 Q61.4273 1005.66 70.212 1005.66 Q78.9649 1005.66 83.9619 1010.02 Q88.9272 1014.38 88.9272 1022.02 Q88.9272 1029.69 83.9619 1034.05 Q78.9649 1038.38 70.212 1038.38 Q61.4273 1038.38 56.4621 1034.05 Q51.4968 1029.69 51.4968 1022.02 Z\" fill=\"#000000\" fill-rule=\"evenodd\" fill-opacity=\"1\" /><path clip-path=\"url(#clip920)\" d=\"M 0 0 M70.212 973.927 Q63.7508 973.927 60.0905 976.6 Q56.3984 979.242 56.3984 983.889 Q56.3984 988.536 60.0905 991.21 Q63.7508 993.851 70.212 993.851 Q76.6732 993.851 80.3653 991.21 Q84.0256 988.536 84.0256 983.889 Q84.0256 979.242 80.3653 976.6 Q76.6732 973.927 70.212 973.927 M57.7671 993.851 Q54.5842 992.005 53.0564 989.204 Q51.4968 986.372 51.4968 982.457 Q51.4968 975.964 56.6531 971.921 Q61.8093 967.847 70.212 967.847 Q78.6147 967.847 83.771 971.921 Q88.9272 975.964 88.9272 982.457 Q88.9272 986.372 87.3994 989.204 Q85.8398 992.005 82.657 993.851 L88.0042 993.851 L88.0042 999.74 L38.479 999.74 L38.479 993.851 L57.7671 993.851 Z\" fill=\"#000000\" fill-rule=\"evenodd\" fill-opacity=\"1\" /><path clip-path=\"url(#clip920)\" d=\"M 0 0 M70.0847 945.504 Q70.0847 952.602 71.7079 955.339 Q73.3312 958.076 77.2461 958.076 Q80.3653 958.076 82.2114 956.039 Q84.0256 953.97 84.0256 950.437 Q84.0256 945.567 80.5881 942.639 Q77.1188 939.679 71.3897 939.679 L70.0847 939.679 L70.0847 945.504 M67.6657 933.823 L88.0042 933.823 L88.0042 939.679 L82.5933 939.679 Q85.8398 941.684 87.3994 944.676 Q88.9272 947.668 88.9272 951.997 Q88.9272 957.471 85.8716 960.718 Q82.7843 963.932 77.6281 963.932 Q71.6125 963.932 68.5569 959.922 Q65.5014 955.88 65.5014 947.891 L65.5014 939.679 L64.9285 939.679 Q60.8862 939.679 58.6901 942.353 Q56.4621 944.994 56.4621 949.801 Q56.4621 952.856 57.1941 955.753 Q57.9262 958.649 59.3903 961.323 L53.9795 961.323 Q52.7381 958.108 52.1334 955.084 Q51.4968 952.06 51.4968 949.196 Q51.4968 941.462 55.5072 937.642 Q59.5176 933.823 67.6657 933.823 Z\" fill=\"#000000\" fill-rule=\"evenodd\" fill-opacity=\"1\" /><path clip-path=\"url(#clip920)\" d=\"M 0 0 M38.479 927.68 L38.479 921.823 L88.0042 921.823 L88.0042 927.68 L38.479 927.68 Z\" fill=\"#000000\" fill-rule=\"evenodd\" fill-opacity=\"1\" /><path clip-path=\"url(#clip920)\" d=\"M 0 0 M40.4842 901.294 L40.4842 861.094 L45.895 861.094 L45.895 877.964 L88.0042 877.964 L88.0042 884.425 L45.895 884.425 L45.895 901.294 L40.4842 901.294 Z\" fill=\"#000000\" fill-rule=\"evenodd\" fill-opacity=\"1\" /><path clip-path=\"url(#clip920)\" d=\"M 0 0 M68.7161 835.536 L71.5806 835.536 L71.5806 862.463 Q77.6281 862.081 80.8109 858.835 Q83.9619 855.556 83.9619 849.732 Q83.9619 846.358 83.1344 843.207 Q82.3069 840.024 80.6518 836.905 L86.1899 836.905 Q87.5267 840.056 88.227 843.366 Q88.9272 846.676 88.9272 850.082 Q88.9272 858.612 83.9619 863.609 Q78.9967 868.574 70.5303 868.574 Q61.7774 868.574 56.6531 863.864 Q51.4968 859.121 51.4968 851.1 Q51.4968 843.907 56.1438 839.738 Q60.7589 835.536 68.7161 835.536 M66.9973 841.393 Q62.1912 841.456 59.3266 844.098 Q56.4621 846.708 56.4621 851.037 Q56.4621 855.938 59.2312 858.898 Q62.0002 861.827 67.0292 862.272 L66.9973 841.393 Z\" fill=\"#000000\" fill-rule=\"evenodd\" fill-opacity=\"1\" /><path clip-path=\"url(#clip920)\" d=\"M 0 0 M59.1993 801.639 Q55.2526 799.443 53.3747 796.387 Q51.4968 793.332 51.4968 789.194 Q51.4968 783.624 55.4117 780.6 Q59.2948 777.576 66.4881 777.576 L88.0042 777.576 L88.0042 783.465 L66.679 783.465 Q61.5546 783.465 59.072 785.279 Q56.5894 787.093 56.5894 790.817 Q56.5894 795.369 59.6131 798.01 Q62.6368 800.652 67.8567 800.652 L88.0042 800.652 L88.0042 806.54 L66.679 806.54 Q61.5228 806.54 59.072 808.355 Q56.5894 810.169 56.5894 813.956 Q56.5894 818.444 59.6449 821.086 Q62.6686 823.728 67.8567 823.728 L88.0042 823.728 L88.0042 829.616 L52.3562 829.616 L52.3562 823.728 L57.8944 823.728 Q54.616 821.723 53.0564 818.922 Q51.4968 816.121 51.4968 812.27 Q51.4968 808.386 53.4702 805.681 Q55.4436 802.944 59.1993 801.639 Z\" fill=\"#000000\" fill-rule=\"evenodd\" fill-opacity=\"1\" /><path clip-path=\"url(#clip920)\" d=\"M 0 0 M82.657 765.768 L101.563 765.768 L101.563 771.656 L52.3562 771.656 L52.3562 765.768 L57.7671 765.768 Q54.5842 763.922 53.0564 761.121 Q51.4968 758.288 51.4968 754.373 Q51.4968 747.88 56.6531 743.838 Q61.8093 739.764 70.212 739.764 Q78.6147 739.764 83.771 743.838 Q88.9272 747.88 88.9272 754.373 Q88.9272 758.288 87.3994 761.121 Q85.8398 763.922 82.657 765.768 M70.212 745.843 Q63.7508 745.843 60.0905 748.517 Q56.3984 751.159 56.3984 755.806 Q56.3984 760.453 60.0905 763.126 Q63.7508 765.768 70.212 765.768 Q76.6732 765.768 80.3653 763.126 Q84.0256 760.453 84.0256 755.806 Q84.0256 751.159 80.3653 748.517 Q76.6732 745.843 70.212 745.843 Z\" fill=\"#000000\" fill-rule=\"evenodd\" fill-opacity=\"1\" /><path clip-path=\"url(#clip920)\" d=\"M 0 0 M68.7161 703.129 L71.5806 703.129 L71.5806 730.056 Q77.6281 729.674 80.8109 726.428 Q83.9619 723.15 83.9619 717.325 Q83.9619 713.951 83.1344 710.8 Q82.3069 707.617 80.6518 704.498 L86.1899 704.498 Q87.5267 707.649 88.227 710.959 Q88.9272 714.269 88.9272 717.675 Q88.9272 726.205 83.9619 731.202 Q78.9967 736.167 70.5303 736.167 Q61.7774 736.167 56.6531 731.457 Q51.4968 726.714 51.4968 718.694 Q51.4968 711.5 56.1438 707.331 Q60.7589 703.129 68.7161 703.129 M66.9973 708.986 Q62.1912 709.05 59.3266 711.691 Q56.4621 714.301 56.4621 718.63 Q56.4621 723.532 59.2312 726.492 Q62.0002 729.42 67.0292 729.865 L66.9973 708.986 Z\" fill=\"#000000\" fill-rule=\"evenodd\" fill-opacity=\"1\" /><path clip-path=\"url(#clip920)\" d=\"M 0 0 M57.8307 676.33 Q57.2578 677.317 57.0032 678.494 Q56.7167 679.64 56.7167 681.04 Q56.7167 686.006 59.9632 688.679 Q63.1779 691.321 69.2253 691.321 L88.0042 691.321 L88.0042 697.209 L52.3562 697.209 L52.3562 691.321 L57.8944 691.321 Q54.6479 689.475 53.0883 686.515 Q51.4968 683.555 51.4968 679.322 Q51.4968 678.717 51.5923 677.985 Q51.656 677.253 51.8151 676.362 L57.8307 676.33 Z\" fill=\"#000000\" fill-rule=\"evenodd\" fill-opacity=\"1\" /><path clip-path=\"url(#clip920)\" d=\"M 0 0 M70.0847 653.986 Q70.0847 661.084 71.7079 663.821 Q73.3312 666.558 77.2461 666.558 Q80.3653 666.558 82.2114 664.521 Q84.0256 662.453 84.0256 658.92 Q84.0256 654.05 80.5881 651.122 Q77.1188 648.162 71.3897 648.162 L70.0847 648.162 L70.0847 653.986 M67.6657 642.305 L88.0042 642.305 L88.0042 648.162 L82.5933 648.162 Q85.8398 650.167 87.3994 653.159 Q88.9272 656.151 88.9272 660.479 Q88.9272 665.954 85.8716 669.2 Q82.7843 672.415 77.6281 672.415 Q71.6125 672.415 68.5569 668.405 Q65.5014 664.362 65.5014 656.373 L65.5014 648.162 L64.9285 648.162 Q60.8862 648.162 58.6901 650.835 Q56.4621 653.477 56.4621 658.283 Q56.4621 661.339 57.1941 664.235 Q57.9262 667.131 59.3903 669.805 L53.9795 669.805 Q52.7381 666.59 52.1334 663.567 Q51.4968 660.543 51.4968 657.678 Q51.4968 649.944 55.5072 646.125 Q59.5176 642.305 67.6657 642.305 Z\" fill=\"#000000\" fill-rule=\"evenodd\" fill-opacity=\"1\" /><path clip-path=\"url(#clip920)\" d=\"M 0 0 M42.2347 630.369 L52.3562 630.369 L52.3562 618.306 L56.9077 618.306 L56.9077 630.369 L76.2594 630.369 Q80.6199 630.369 81.8613 629.192 Q83.1026 627.982 83.1026 624.322 L83.1026 618.306 L88.0042 618.306 L88.0042 624.322 Q88.0042 631.101 85.4897 633.68 Q82.9434 636.258 76.2594 636.258 L56.9077 636.258 L56.9077 640.555 L52.3562 640.555 L52.3562 636.258 L42.2347 636.258 L42.2347 630.369 Z\" fill=\"#000000\" fill-rule=\"evenodd\" fill-opacity=\"1\" /><path clip-path=\"url(#clip920)\" d=\"M 0 0 M73.9359 612.768 L52.3562 612.768 L52.3562 606.912 L73.7131 606.912 Q78.7739 606.912 81.3202 604.938 Q83.8346 602.965 83.8346 599.018 Q83.8346 594.276 80.8109 591.539 Q77.7872 588.77 72.5673 588.77 L52.3562 588.77 L52.3562 582.913 L88.0042 582.913 L88.0042 588.77 L82.5296 588.77 Q85.7762 590.902 87.3676 593.735 Q88.9272 596.536 88.9272 600.26 Q88.9272 606.403 85.1078 609.585 Q81.2883 612.768 73.9359 612.768 M51.4968 598.032 L51.4968 598.032 Z\" fill=\"#000000\" fill-rule=\"evenodd\" fill-opacity=\"1\" /><path clip-path=\"url(#clip920)\" d=\"M 0 0 M57.8307 556.113 Q57.2578 557.1 57.0032 558.278 Q56.7167 559.424 56.7167 560.824 Q56.7167 565.789 59.9632 568.463 Q63.1779 571.105 69.2253 571.105 L88.0042 571.105 L88.0042 576.993 L52.3562 576.993 L52.3562 571.105 L57.8944 571.105 Q54.6479 569.259 53.0883 566.299 Q51.4968 563.339 51.4968 559.105 Q51.4968 558.501 51.5923 557.769 Q51.656 557.036 51.8151 556.145 L57.8307 556.113 Z\" fill=\"#000000\" fill-rule=\"evenodd\" fill-opacity=\"1\" /><path clip-path=\"url(#clip920)\" d=\"M 0 0 M68.7161 520.911 L71.5806 520.911 L71.5806 547.838 Q77.6281 547.456 80.8109 544.21 Q83.9619 540.931 83.9619 535.107 Q83.9619 531.733 83.1344 528.582 Q82.3069 525.399 80.6518 522.28 L86.1899 522.28 Q87.5267 525.431 88.227 528.741 Q88.9272 532.051 88.9272 535.457 Q88.9272 543.987 83.9619 548.984 Q78.9967 553.949 70.5303 553.949 Q61.7774 553.949 56.6531 549.239 Q51.4968 544.496 51.4968 536.475 Q51.4968 529.282 56.1438 525.112 Q60.7589 520.911 68.7161 520.911 M66.9973 526.768 Q62.1912 526.831 59.3266 529.473 Q56.4621 532.083 56.4621 536.412 Q56.4621 541.313 59.2312 544.273 Q62.0002 547.201 67.0292 547.647 L66.9973 526.768 Z\" fill=\"#000000\" fill-rule=\"evenodd\" fill-opacity=\"1\" /><path clip-path=\"url(#clip920)\" d=\"M 0 0 M38.5426 500.7 Q45.8632 504.965 53.0246 507.034 Q60.186 509.103 67.5384 509.103 Q74.8908 509.103 82.1159 507.034 Q89.3091 504.933 96.5979 500.7 L96.5979 505.793 Q89.1182 510.567 81.8931 512.954 Q74.668 515.309 67.5384 515.309 Q60.4406 515.309 53.2474 512.954 Q46.0542 510.599 38.5426 505.793 L38.5426 500.7 Z\" fill=\"#000000\" fill-rule=\"evenodd\" fill-opacity=\"1\" /><path clip-path=\"url(#clip920)\" d=\"M 0 0 M44.1444 458.718 L50.9239 458.718 Q47.9002 461.965 46.4043 465.657 Q44.9083 469.317 44.9083 473.455 Q44.9083 481.603 49.9054 485.932 Q54.8707 490.26 64.2919 490.26 Q73.6813 490.26 78.6784 485.932 Q83.6436 481.603 83.6436 473.455 Q83.6436 469.317 82.1477 465.657 Q80.6518 461.965 77.6281 458.718 L84.3439 458.718 Q86.6355 462.092 87.7814 465.88 Q88.9272 469.635 88.9272 473.837 Q88.9272 484.627 82.3387 490.833 Q75.7183 497.04 64.2919 497.04 Q52.8336 497.04 46.2451 490.833 Q39.6248 484.627 39.6248 473.837 Q39.6248 469.572 40.7706 465.816 Q41.8846 462.028 44.1444 458.718 Z\" fill=\"#000000\" fill-rule=\"evenodd\" fill-opacity=\"1\" /><path clip-path=\"url(#clip920)\" d=\"M 0 0 M38.5426 453.498 L38.5426 448.406 Q46.0542 443.631 53.2474 441.276 Q60.4406 438.889 67.5384 438.889 Q74.668 438.889 81.8931 441.276 Q89.1182 443.631 96.5979 448.406 L96.5979 453.498 Q89.3091 449.265 82.1159 447.196 Q74.8908 445.096 67.5384 445.096 Q60.186 445.096 53.0246 447.196 Q45.8632 449.265 38.5426 453.498 Z\" fill=\"#000000\" fill-rule=\"evenodd\" fill-opacity=\"1\" /><path clip-path=\"url(#clip920)\" d=\"M 0 0 M414.018 12.096 L422.201 12.096 L422.201 72.576 L414.018 72.576 L414.018 12.096 Z\" fill=\"#000000\" fill-rule=\"evenodd\" fill-opacity=\"1\" /><path clip-path=\"url(#clip920)\" d=\"M 0 0 M467.733 45.1919 L467.733 72.576 L460.28 72.576 L460.28 45.4349 Q460.28 38.994 457.768 35.7938 Q455.257 32.5936 450.233 32.5936 Q444.198 32.5936 440.714 36.4419 Q437.23 40.2903 437.23 46.9338 L437.23 72.576 L429.736 72.576 L429.736 27.2059 L437.23 27.2059 L437.23 34.2544 Q439.904 30.163 443.509 28.1376 Q447.155 26.1121 451.894 26.1121 Q459.713 26.1121 463.723 30.9732 Q467.733 35.7938 467.733 45.1919 Z\" fill=\"#000000\" fill-rule=\"evenodd\" fill-opacity=\"1\" /><path clip-path=\"url(#clip920)\" d=\"M 0 0 M498.52 9.54393 L498.52 15.7418 L491.391 15.7418 Q487.38 15.7418 485.8 17.3622 Q484.261 18.9825 484.261 23.1955 L484.261 27.2059 L496.535 27.2059 L496.535 32.9987 L484.261 32.9987 L484.261 72.576 L476.767 72.576 L476.767 32.9987 L469.637 32.9987 L469.637 27.2059 L476.767 27.2059 L476.767 24.0462 Q476.767 16.471 480.291 13.0277 Q483.815 9.54393 491.472 9.54393 L498.52 9.54393 Z\" fill=\"#000000\" fill-rule=\"evenodd\" fill-opacity=\"1\" /><path clip-path=\"url(#clip920)\" d=\"M 0 0 M506.338 9.54393 L513.792 9.54393 L513.792 72.576 L506.338 72.576 L506.338 9.54393 Z\" fill=\"#000000\" fill-rule=\"evenodd\" fill-opacity=\"1\" /><path clip-path=\"url(#clip920)\" d=\"M 0 0 M520.841 54.671 L520.841 27.2059 L528.294 27.2059 L528.294 54.3874 Q528.294 60.8284 530.806 64.0691 Q533.317 67.2693 538.341 67.2693 Q544.376 67.2693 547.86 63.421 Q551.384 59.5726 551.384 52.9291 L551.384 27.2059 L558.838 27.2059 L558.838 72.576 L551.384 72.576 L551.384 65.6084 Q548.67 69.7404 545.065 71.7658 Q541.5 73.7508 536.761 73.7508 Q528.942 73.7508 524.892 68.8897 Q520.841 64.0286 520.841 54.671 M539.596 26.1121 L539.596 26.1121 Z\" fill=\"#000000\" fill-rule=\"evenodd\" fill-opacity=\"1\" /><path clip-path=\"url(#clip920)\" d=\"M 0 0 M605.464 48.0275 L605.464 51.6733 L571.193 51.6733 Q571.679 59.3701 575.811 63.421 Q579.984 67.4314 587.397 67.4314 Q591.691 67.4314 595.701 66.3781 Q599.752 65.3249 603.722 63.2184 L603.722 70.267 Q599.712 71.9684 595.499 72.8596 Q591.286 73.7508 586.951 73.7508 Q576.095 73.7508 569.735 67.4314 Q563.416 61.1119 563.416 50.3365 Q563.416 39.1965 569.411 32.6746 Q575.447 26.1121 585.655 26.1121 Q594.81 26.1121 600.117 32.0264 Q605.464 37.9003 605.464 48.0275 M598.01 45.84 Q597.929 39.7232 594.567 36.0774 Q591.245 32.4315 585.736 32.4315 Q579.498 32.4315 575.73 35.9558 Q572.004 39.4801 571.436 45.8805 L598.01 45.84 Z\" fill=\"#000000\" fill-rule=\"evenodd\" fill-opacity=\"1\" /><path clip-path=\"url(#clip920)\" d=\"M 0 0 M650.996 45.1919 L650.996 72.576 L643.543 72.576 L643.543 45.4349 Q643.543 38.994 641.031 35.7938 Q638.519 32.5936 633.496 32.5936 Q627.46 32.5936 623.977 36.4419 Q620.493 40.2903 620.493 46.9338 L620.493 72.576 L612.999 72.576 L612.999 27.2059 L620.493 27.2059 L620.493 34.2544 Q623.166 30.163 626.772 28.1376 Q630.418 26.1121 635.157 26.1121 Q642.975 26.1121 646.986 30.9732 Q650.996 35.7938 650.996 45.1919 Z\" fill=\"#000000\" fill-rule=\"evenodd\" fill-opacity=\"1\" /><path clip-path=\"url(#clip920)\" d=\"M 0 0 M691.465 28.9478 L691.465 35.9153 Q688.305 34.1734 685.105 33.3227 Q681.945 32.4315 678.704 32.4315 Q671.453 32.4315 667.443 37.0496 Q663.432 41.6271 663.432 49.9314 Q663.432 58.2358 667.443 62.8538 Q671.453 67.4314 678.704 67.4314 Q681.945 67.4314 685.105 66.5807 Q688.305 65.6895 691.465 63.9476 L691.465 70.8341 Q688.346 72.2924 684.983 73.0216 Q681.662 73.7508 677.894 73.7508 Q667.645 73.7508 661.61 67.3098 Q655.574 60.8689 655.574 49.9314 Q655.574 38.832 661.65 32.472 Q667.767 26.1121 678.38 26.1121 Q681.824 26.1121 685.105 26.8413 Q688.386 27.5299 691.465 28.9478 Z\" fill=\"#000000\" fill-rule=\"evenodd\" fill-opacity=\"1\" /><path clip-path=\"url(#clip920)\" d=\"M 0 0 M738.091 48.0275 L738.091 51.6733 L703.82 51.6733 Q704.306 59.3701 708.438 63.421 Q712.61 67.4314 720.024 67.4314 Q724.318 67.4314 728.328 66.3781 Q732.379 65.3249 736.349 63.2184 L736.349 70.267 Q732.338 71.9684 728.125 72.8596 Q723.912 73.7508 719.578 73.7508 Q708.722 73.7508 702.362 67.4314 Q696.042 61.1119 696.042 50.3365 Q696.042 39.1965 702.038 32.6746 Q708.073 26.1121 718.282 26.1121 Q727.437 26.1121 732.743 32.0264 Q738.091 37.9003 738.091 48.0275 M730.637 45.84 Q730.556 39.7232 727.194 36.0774 Q723.872 32.4315 718.363 32.4315 Q712.124 32.4315 708.357 35.9558 Q704.63 39.4801 704.063 45.8805 L730.637 45.84 Z\" fill=\"#000000\" fill-rule=\"evenodd\" fill-opacity=\"1\" /><path clip-path=\"url(#clip920)\" d=\"M 0 0 M789.861 32.4315 Q783.866 32.4315 780.382 37.1306 Q776.898 41.7891 776.898 49.9314 Q776.898 58.0738 780.342 62.7728 Q783.825 67.4314 789.861 67.4314 Q795.816 67.4314 799.3 62.7323 Q802.784 58.0333 802.784 49.9314 Q802.784 41.8701 799.3 37.1711 Q795.816 32.4315 789.861 32.4315 M789.861 26.1121 Q799.583 26.1121 805.133 32.4315 Q810.683 38.7509 810.683 49.9314 Q810.683 61.0714 805.133 67.4314 Q799.583 73.7508 789.861 73.7508 Q780.099 73.7508 774.549 67.4314 Q769.04 61.0714 769.04 49.9314 Q769.04 38.7509 774.549 32.4315 Q780.099 26.1121 789.861 26.1121 Z\" fill=\"#000000\" fill-rule=\"evenodd\" fill-opacity=\"1\" /><path clip-path=\"url(#clip920)\" d=\"M 0 0 M841.47 9.54393 L841.47 15.7418 L834.34 15.7418 Q830.33 15.7418 828.75 17.3622 Q827.211 18.9825 827.211 23.1955 L827.211 27.2059 L839.485 27.2059 L839.485 32.9987 L827.211 32.9987 L827.211 72.576 L819.716 72.576 L819.716 32.9987 L812.587 32.9987 L812.587 27.2059 L819.716 27.2059 L819.716 24.0462 Q819.716 16.471 823.241 13.0277 Q826.765 9.54393 834.421 9.54393 L841.47 9.54393 Z\" fill=\"#000000\" fill-rule=\"evenodd\" fill-opacity=\"1\" /><path clip-path=\"url(#clip920)\" d=\"M 0 0 M882.87 65.7705 L882.87 89.8329 L875.376 89.8329 L875.376 27.2059 L882.87 27.2059 L882.87 34.0924 Q885.219 30.0415 888.784 28.0971 Q892.39 26.1121 897.372 26.1121 Q905.636 26.1121 910.781 32.6746 Q915.966 39.2371 915.966 49.9314 Q915.966 60.6258 910.781 67.1883 Q905.636 73.7508 897.372 73.7508 Q892.39 73.7508 888.784 71.8063 Q885.219 69.8214 882.87 65.7705 M908.229 49.9314 Q908.229 41.7081 904.826 37.0496 Q901.464 32.3505 895.549 32.3505 Q889.635 32.3505 886.232 37.0496 Q882.87 41.7081 882.87 49.9314 Q882.87 58.1548 886.232 62.8538 Q889.635 67.5124 895.549 67.5124 Q901.464 67.5124 904.826 62.8538 Q908.229 58.1548 908.229 49.9314 Z\" fill=\"#000000\" fill-rule=\"evenodd\" fill-opacity=\"1\" /><path clip-path=\"url(#clip920)\" d=\"M 0 0 M923.784 27.2059 L931.238 27.2059 L931.238 72.576 L923.784 72.576 L923.784 27.2059 M923.784 9.54393 L931.238 9.54393 L931.238 18.9825 L923.784 18.9825 L923.784 9.54393 Z\" fill=\"#000000\" fill-rule=\"evenodd\" fill-opacity=\"1\" /><path clip-path=\"url(#clip920)\" d=\"M 0 0 M965.346 34.1734 Q964.091 33.4443 962.592 33.1202 Q961.133 32.7556 959.351 32.7556 Q953.032 32.7556 949.629 36.8875 Q946.267 40.9789 946.267 48.6757 L946.267 72.576 L938.772 72.576 L938.772 27.2059 L946.267 27.2059 L946.267 34.2544 Q948.616 30.1225 952.383 28.1376 Q956.151 26.1121 961.539 26.1121 Q962.308 26.1121 963.24 26.2337 Q964.172 26.3147 965.306 26.5172 L965.346 34.1734 Z\" fill=\"#000000\" fill-rule=\"evenodd\" fill-opacity=\"1\" /><path clip-path=\"url(#clip920)\" d=\"M 0 0 M993.784 49.7694 Q984.75 49.7694 981.266 51.8354 Q977.783 53.9013 977.783 58.8839 Q977.783 62.8538 980.375 65.2034 Q983.008 67.5124 987.505 67.5124 Q993.703 67.5124 997.43 63.1374 Q1001.2 58.7219 1001.2 51.4303 L1001.2 49.7694 L993.784 49.7694 M1008.65 46.6907 L1008.65 72.576 L1001.2 72.576 L1001.2 65.6895 Q998.645 69.8214 994.837 71.8063 Q991.029 73.7508 985.52 73.7508 Q978.552 73.7508 974.42 69.8619 Q970.329 65.9325 970.329 59.3701 Q970.329 51.7138 975.433 47.825 Q980.578 43.9361 990.746 43.9361 L1001.2 43.9361 L1001.2 43.2069 Q1001.2 38.0623 997.794 35.2672 Q994.432 32.4315 988.315 32.4315 Q984.426 32.4315 980.74 33.3632 Q977.053 34.295 973.651 36.1584 L973.651 29.2718 Q977.742 27.692 981.59 26.9223 Q985.439 26.1121 989.085 26.1121 Q998.928 26.1121 1003.79 31.2163 Q1008.65 36.3204 1008.65 46.6907 Z\" fill=\"#000000\" fill-rule=\"evenodd\" fill-opacity=\"1\" /><path clip-path=\"url(#clip920)\" d=\"M 0 0 M1023.84 14.324 L1023.84 27.2059 L1039.19 27.2059 L1039.19 32.9987 L1023.84 32.9987 L1023.84 57.6282 Q1023.84 63.1779 1025.34 64.7578 Q1026.88 66.3376 1031.54 66.3376 L1039.19 66.3376 L1039.19 72.576 L1031.54 72.576 Q1022.91 72.576 1019.63 69.3758 Q1016.35 66.1351 1016.35 57.6282 L1016.35 32.9987 L1010.88 32.9987 L1010.88 27.2059 L1016.35 27.2059 L1016.35 14.324 L1023.84 14.324 Z\" fill=\"#000000\" fill-rule=\"evenodd\" fill-opacity=\"1\" /><path clip-path=\"url(#clip920)\" d=\"M 0 0 M1085.82 48.0275 L1085.82 51.6733 L1051.55 51.6733 Q1052.04 59.3701 1056.17 63.421 Q1060.34 67.4314 1067.75 67.4314 Q1072.05 67.4314 1076.06 66.3781 Q1080.11 65.3249 1084.08 63.2184 L1084.08 70.267 Q1080.07 71.9684 1075.86 72.8596 Q1071.64 73.7508 1067.31 73.7508 Q1056.45 73.7508 1050.09 67.4314 Q1043.77 61.1119 1043.77 50.3365 Q1043.77 39.1965 1049.77 32.6746 Q1055.8 26.1121 1066.01 26.1121 Q1075.17 26.1121 1080.47 32.0264 Q1085.82 37.9003 1085.82 48.0275 M1078.37 45.84 Q1078.29 39.7232 1074.92 36.0774 Q1071.6 32.4315 1066.09 32.4315 Q1059.85 32.4315 1056.09 35.9558 Q1052.36 39.4801 1051.79 45.8805 L1078.37 45.84 Z\" fill=\"#000000\" fill-rule=\"evenodd\" fill-opacity=\"1\" /><path clip-path=\"url(#clip920)\" d=\"M 0 0 M1127.22 65.7705 L1127.22 89.8329 L1119.73 89.8329 L1119.73 27.2059 L1127.22 27.2059 L1127.22 34.0924 Q1129.57 30.0415 1133.13 28.0971 Q1136.74 26.1121 1141.72 26.1121 Q1149.99 26.1121 1155.13 32.6746 Q1160.32 39.2371 1160.32 49.9314 Q1160.32 60.6258 1155.13 67.1883 Q1149.99 73.7508 1141.72 73.7508 Q1136.74 73.7508 1133.13 71.8063 Q1129.57 69.8214 1127.22 65.7705 M1152.58 49.9314 Q1152.58 41.7081 1149.18 37.0496 Q1145.81 32.3505 1139.9 32.3505 Q1133.99 32.3505 1130.58 37.0496 Q1127.22 41.7081 1127.22 49.9314 Q1127.22 58.1548 1130.58 62.8538 Q1133.99 67.5124 1139.9 67.5124 Q1145.81 67.5124 1149.18 62.8538 Q1152.58 58.1548 1152.58 49.9314 Z\" fill=\"#000000\" fill-rule=\"evenodd\" fill-opacity=\"1\" /><path clip-path=\"url(#clip920)\" d=\"M 0 0 M1185.72 32.4315 Q1179.72 32.4315 1176.24 37.1306 Q1172.75 41.7891 1172.75 49.9314 Q1172.75 58.0738 1176.2 62.7728 Q1179.68 67.4314 1185.72 67.4314 Q1191.67 67.4314 1195.15 62.7323 Q1198.64 58.0333 1198.64 49.9314 Q1198.64 41.8701 1195.15 37.1711 Q1191.67 32.4315 1185.72 32.4315 M1185.72 26.1121 Q1195.44 26.1121 1200.99 32.4315 Q1206.54 38.7509 1206.54 49.9314 Q1206.54 61.0714 1200.99 67.4314 Q1195.44 73.7508 1185.72 73.7508 Q1175.95 73.7508 1170.4 67.4314 Q1164.89 61.0714 1164.89 49.9314 Q1164.89 38.7509 1170.4 32.4315 Q1175.95 26.1121 1185.72 26.1121 Z\" fill=\"#000000\" fill-rule=\"evenodd\" fill-opacity=\"1\" /><path clip-path=\"url(#clip920)\" d=\"M 0 0 M1221.57 65.7705 L1221.57 89.8329 L1214.07 89.8329 L1214.07 27.2059 L1221.57 27.2059 L1221.57 34.0924 Q1223.92 30.0415 1227.48 28.0971 Q1231.09 26.1121 1236.07 26.1121 Q1244.33 26.1121 1249.48 32.6746 Q1254.66 39.2371 1254.66 49.9314 Q1254.66 60.6258 1249.48 67.1883 Q1244.33 73.7508 1236.07 73.7508 Q1231.09 73.7508 1227.48 71.8063 Q1223.92 69.8214 1221.57 65.7705 M1246.92 49.9314 Q1246.92 41.7081 1243.52 37.0496 Q1240.16 32.3505 1234.25 32.3505 Q1228.33 32.3505 1224.93 37.0496 Q1221.57 41.7081 1221.57 49.9314 Q1221.57 58.1548 1224.93 62.8538 Q1228.33 67.5124 1234.25 67.5124 Q1240.16 67.5124 1243.52 62.8538 Q1246.92 58.1548 1246.92 49.9314 Z\" fill=\"#000000\" fill-rule=\"evenodd\" fill-opacity=\"1\" /><path clip-path=\"url(#clip920)\" d=\"M 0 0 M1261.71 54.671 L1261.71 27.2059 L1269.16 27.2059 L1269.16 54.3874 Q1269.16 60.8284 1271.68 64.0691 Q1274.19 67.2693 1279.21 67.2693 Q1285.25 67.2693 1288.73 63.421 Q1292.25 59.5726 1292.25 52.9291 L1292.25 27.2059 L1299.71 27.2059 L1299.71 72.576 L1292.25 72.576 L1292.25 65.6084 Q1289.54 69.7404 1285.93 71.7658 Q1282.37 73.7508 1277.63 73.7508 Q1269.81 73.7508 1265.76 68.8897 Q1261.71 64.0286 1261.71 54.671 M1280.47 26.1121 L1280.47 26.1121 Z\" fill=\"#000000\" fill-rule=\"evenodd\" fill-opacity=\"1\" /><path clip-path=\"url(#clip920)\" d=\"M 0 0 M1307.53 9.54393 L1314.98 9.54393 L1314.98 72.576 L1307.53 72.576 L1307.53 9.54393 Z\" fill=\"#000000\" fill-rule=\"evenodd\" fill-opacity=\"1\" /><path clip-path=\"url(#clip920)\" d=\"M 0 0 M1343.42 49.7694 Q1334.38 49.7694 1330.9 51.8354 Q1327.42 53.9013 1327.42 58.8839 Q1327.42 62.8538 1330.01 65.2034 Q1332.64 67.5124 1337.14 67.5124 Q1343.34 67.5124 1347.06 63.1374 Q1350.83 58.7219 1350.83 51.4303 L1350.83 49.7694 L1343.42 49.7694 M1358.28 46.6907 L1358.28 72.576 L1350.83 72.576 L1350.83 65.6895 Q1348.28 69.8214 1344.47 71.8063 Q1340.66 73.7508 1335.15 73.7508 Q1328.19 73.7508 1324.05 69.8619 Q1319.96 65.9325 1319.96 59.3701 Q1319.96 51.7138 1325.07 47.825 Q1330.21 43.9361 1340.38 43.9361 L1350.83 43.9361 L1350.83 43.2069 Q1350.83 38.0623 1347.43 35.2672 Q1344.07 32.4315 1337.95 32.4315 Q1334.06 32.4315 1330.37 33.3632 Q1326.69 34.295 1323.28 36.1584 L1323.28 29.2718 Q1327.38 27.692 1331.22 26.9223 Q1335.07 26.1121 1338.72 26.1121 Q1348.56 26.1121 1353.42 31.2163 Q1358.28 36.3204 1358.28 46.6907 Z\" fill=\"#000000\" fill-rule=\"evenodd\" fill-opacity=\"1\" /><path clip-path=\"url(#clip920)\" d=\"M 0 0 M1373.47 14.324 L1373.47 27.2059 L1388.83 27.2059 L1388.83 32.9987 L1373.47 32.9987 L1373.47 57.6282 Q1373.47 63.1779 1374.97 64.7578 Q1376.51 66.3376 1381.17 66.3376 L1388.83 66.3376 L1388.83 72.576 L1381.17 72.576 Q1372.54 72.576 1369.26 69.3758 Q1365.98 66.1351 1365.98 57.6282 L1365.98 32.9987 L1360.51 32.9987 L1360.51 27.2059 L1365.98 27.2059 L1365.98 14.324 L1373.47 14.324 Z\" fill=\"#000000\" fill-rule=\"evenodd\" fill-opacity=\"1\" /><path clip-path=\"url(#clip920)\" d=\"M 0 0 M1396.65 27.2059 L1404.1 27.2059 L1404.1 72.576 L1396.65 72.576 L1396.65 27.2059 M1396.65 9.54393 L1404.1 9.54393 L1404.1 18.9825 L1396.65 18.9825 L1396.65 9.54393 Z\" fill=\"#000000\" fill-rule=\"evenodd\" fill-opacity=\"1\" /><path clip-path=\"url(#clip920)\" d=\"M 0 0 M1429.5 32.4315 Q1423.5 32.4315 1420.02 37.1306 Q1416.54 41.7891 1416.54 49.9314 Q1416.54 58.0738 1419.98 62.7728 Q1423.46 67.4314 1429.5 67.4314 Q1435.45 67.4314 1438.94 62.7323 Q1442.42 58.0333 1442.42 49.9314 Q1442.42 41.8701 1438.94 37.1711 Q1435.45 32.4315 1429.5 32.4315 M1429.5 26.1121 Q1439.22 26.1121 1444.77 32.4315 Q1450.32 38.7509 1450.32 49.9314 Q1450.32 61.0714 1444.77 67.4314 Q1439.22 73.7508 1429.5 73.7508 Q1419.74 73.7508 1414.19 67.4314 Q1408.68 61.0714 1408.68 49.9314 Q1408.68 38.7509 1414.19 32.4315 Q1419.74 26.1121 1429.5 26.1121 Z\" fill=\"#000000\" fill-rule=\"evenodd\" fill-opacity=\"1\" /><path clip-path=\"url(#clip920)\" d=\"M 0 0 M1495.85 45.1919 L1495.85 72.576 L1488.4 72.576 L1488.4 45.4349 Q1488.4 38.994 1485.89 35.7938 Q1483.38 32.5936 1478.35 32.5936 Q1472.32 32.5936 1468.83 36.4419 Q1465.35 40.2903 1465.35 46.9338 L1465.35 72.576 L1457.86 72.576 L1457.86 27.2059 L1465.35 27.2059 L1465.35 34.2544 Q1468.02 30.163 1471.63 28.1376 Q1475.27 26.1121 1480.01 26.1121 Q1487.83 26.1121 1491.84 30.9732 Q1495.85 35.7938 1495.85 45.1919 Z\" fill=\"#000000\" fill-rule=\"evenodd\" fill-opacity=\"1\" /><path clip-path=\"url(#clip920)\" d=\"M 0 0 M1547.62 32.4315 Q1541.63 32.4315 1538.14 37.1306 Q1534.66 41.7891 1534.66 49.9314 Q1534.66 58.0738 1538.1 62.7728 Q1541.59 67.4314 1547.62 67.4314 Q1553.58 67.4314 1557.06 62.7323 Q1560.55 58.0333 1560.55 49.9314 Q1560.55 41.8701 1557.06 37.1711 Q1553.58 32.4315 1547.62 32.4315 M1547.62 26.1121 Q1557.35 26.1121 1562.9 32.4315 Q1568.44 38.7509 1568.44 49.9314 Q1568.44 61.0714 1562.9 67.4314 Q1557.35 73.7508 1547.62 73.7508 Q1537.86 73.7508 1532.31 67.4314 Q1526.8 61.0714 1526.8 49.9314 Q1526.8 38.7509 1532.31 32.4315 Q1537.86 26.1121 1547.62 26.1121 Z\" fill=\"#000000\" fill-rule=\"evenodd\" fill-opacity=\"1\" /><path clip-path=\"url(#clip920)\" d=\"M 0 0 M1613.98 45.1919 L1613.98 72.576 L1606.52 72.576 L1606.52 45.4349 Q1606.52 38.994 1604.01 35.7938 Q1601.5 32.5936 1596.48 32.5936 Q1590.44 32.5936 1586.96 36.4419 Q1583.47 40.2903 1583.47 46.9338 L1583.47 72.576 L1575.98 72.576 L1575.98 27.2059 L1583.47 27.2059 L1583.47 34.2544 Q1586.15 30.163 1589.75 28.1376 Q1593.4 26.1121 1598.14 26.1121 Q1605.96 26.1121 1609.97 30.9732 Q1613.98 35.7938 1613.98 45.1919 Z\" fill=\"#000000\" fill-rule=\"evenodd\" fill-opacity=\"1\" /><path clip-path=\"url(#clip920)\" d=\"M 0 0 M1678.02 49.3643 Q1678.02 41.2625 1674.66 36.8065 Q1671.34 32.3505 1665.3 32.3505 Q1659.31 32.3505 1655.94 36.8065 Q1652.62 41.2625 1652.62 49.3643 Q1652.62 57.4256 1655.94 61.8816 Q1659.31 66.3376 1665.3 66.3376 Q1671.34 66.3376 1674.66 61.8816 Q1678.02 57.4256 1678.02 49.3643 M1685.48 66.9452 Q1685.48 78.5308 1680.33 84.1616 Q1675.19 89.8329 1664.57 89.8329 Q1660.64 89.8329 1657.16 89.2252 Q1653.68 88.6581 1650.39 87.4428 L1650.39 80.1917 Q1653.68 81.9741 1656.88 82.8248 Q1660.08 83.6755 1663.4 83.6755 Q1670.73 83.6755 1674.38 79.8271 Q1678.02 76.0193 1678.02 68.282 L1678.02 64.5957 Q1675.71 68.6061 1672.11 70.5911 Q1668.5 72.576 1663.48 72.576 Q1655.13 72.576 1650.03 66.2161 Q1644.93 59.8562 1644.93 49.3643 Q1644.93 38.832 1650.03 32.472 Q1655.13 26.1121 1663.48 26.1121 Q1668.5 26.1121 1672.11 28.0971 Q1675.71 30.082 1678.02 34.0924 L1678.02 27.2059 L1685.48 27.2059 L1685.48 66.9452 Z\" fill=\"#000000\" fill-rule=\"evenodd\" fill-opacity=\"1\" /><path clip-path=\"url(#clip920)\" d=\"M 0 0 M1693.29 9.54393 L1700.75 9.54393 L1700.75 72.576 L1693.29 72.576 L1693.29 9.54393 Z\" fill=\"#000000\" fill-rule=\"evenodd\" fill-opacity=\"1\" /><path clip-path=\"url(#clip920)\" d=\"M 0 0 M1726.15 32.4315 Q1720.15 32.4315 1716.67 37.1306 Q1713.18 41.7891 1713.18 49.9314 Q1713.18 58.0738 1716.63 62.7728 Q1720.11 67.4314 1726.15 67.4314 Q1732.1 67.4314 1735.59 62.7323 Q1739.07 58.0333 1739.07 49.9314 Q1739.07 41.8701 1735.59 37.1711 Q1732.1 32.4315 1726.15 32.4315 M1726.15 26.1121 Q1735.87 26.1121 1741.42 32.4315 Q1746.97 38.7509 1746.97 49.9314 Q1746.97 61.0714 1741.42 67.4314 Q1735.87 73.7508 1726.15 73.7508 Q1716.38 73.7508 1710.83 67.4314 Q1705.33 61.0714 1705.33 49.9314 Q1705.33 38.7509 1710.83 32.4315 Q1716.38 26.1121 1726.15 26.1121 Z\" fill=\"#000000\" fill-rule=\"evenodd\" fill-opacity=\"1\" /><path clip-path=\"url(#clip920)\" d=\"M 0 0 M1787.36 49.9314 Q1787.36 41.7081 1783.95 37.0496 Q1780.59 32.3505 1774.68 32.3505 Q1768.76 32.3505 1765.36 37.0496 Q1762 41.7081 1762 49.9314 Q1762 58.1548 1765.36 62.8538 Q1768.76 67.5124 1774.68 67.5124 Q1780.59 67.5124 1783.95 62.8538 Q1787.36 58.1548 1787.36 49.9314 M1762 34.0924 Q1764.35 30.0415 1767.91 28.0971 Q1771.52 26.1121 1776.5 26.1121 Q1784.76 26.1121 1789.91 32.6746 Q1795.09 39.2371 1795.09 49.9314 Q1795.09 60.6258 1789.91 67.1883 Q1784.76 73.7508 1776.5 73.7508 Q1771.52 73.7508 1767.91 71.8063 Q1764.35 69.8214 1762 65.7705 L1762 72.576 L1754.5 72.576 L1754.5 9.54393 L1762 9.54393 L1762 34.0924 Z\" fill=\"#000000\" fill-rule=\"evenodd\" fill-opacity=\"1\" /><path clip-path=\"url(#clip920)\" d=\"M 0 0 M1823.53 49.7694 Q1814.5 49.7694 1811.01 51.8354 Q1807.53 53.9013 1807.53 58.8839 Q1807.53 62.8538 1810.12 65.2034 Q1812.76 67.5124 1817.25 67.5124 Q1823.45 67.5124 1827.18 63.1374 Q1830.94 58.7219 1830.94 51.4303 L1830.94 49.7694 L1823.53 49.7694 M1838.4 46.6907 L1838.4 72.576 L1830.94 72.576 L1830.94 65.6895 Q1828.39 69.8214 1824.58 71.8063 Q1820.78 73.7508 1815.27 73.7508 Q1808.3 73.7508 1804.17 69.8619 Q1800.08 65.9325 1800.08 59.3701 Q1800.08 51.7138 1805.18 47.825 Q1810.32 43.9361 1820.49 43.9361 L1830.94 43.9361 L1830.94 43.2069 Q1830.94 38.0623 1827.54 35.2672 Q1824.18 32.4315 1818.06 32.4315 Q1814.17 32.4315 1810.49 33.3632 Q1806.8 34.295 1803.4 36.1584 L1803.4 29.2718 Q1807.49 27.692 1811.34 26.9223 Q1815.19 26.1121 1818.83 26.1121 Q1828.68 26.1121 1833.54 31.2163 Q1838.4 36.3204 1838.4 46.6907 Z\" fill=\"#000000\" fill-rule=\"evenodd\" fill-opacity=\"1\" /><path clip-path=\"url(#clip920)\" d=\"M 0 0 M1846.22 9.54393 L1853.67 9.54393 L1853.67 72.576 L1846.22 72.576 L1846.22 9.54393 Z\" fill=\"#000000\" fill-rule=\"evenodd\" fill-opacity=\"1\" /><path clip-path=\"url(#clip920)\" d=\"M 0 0 M1883.52 27.2059 L1890.98 27.2059 L1900.3 62.6108 L1909.57 27.2059 L1918.36 27.2059 L1927.68 62.6108 L1936.96 27.2059 L1944.41 27.2059 L1932.54 72.576 L1923.75 72.576 L1913.99 35.3887 L1904.18 72.576 L1895.39 72.576 L1883.52 27.2059 Z\" fill=\"#000000\" fill-rule=\"evenodd\" fill-opacity=\"1\" /><path clip-path=\"url(#clip920)\" d=\"M 0 0 M1972.85 49.7694 Q1963.81 49.7694 1960.33 51.8354 Q1956.85 53.9013 1956.85 58.8839 Q1956.85 62.8538 1959.44 65.2034 Q1962.07 67.5124 1966.57 67.5124 Q1972.77 67.5124 1976.49 63.1374 Q1980.26 58.7219 1980.26 51.4303 L1980.26 49.7694 L1972.85 49.7694 M1987.71 46.6907 L1987.71 72.576 L1980.26 72.576 L1980.26 65.6895 Q1977.71 69.8214 1973.9 71.8063 Q1970.09 73.7508 1964.58 73.7508 Q1957.62 73.7508 1953.48 69.8619 Q1949.39 65.9325 1949.39 59.3701 Q1949.39 51.7138 1954.5 47.825 Q1959.64 43.9361 1969.81 43.9361 L1980.26 43.9361 L1980.26 43.2069 Q1980.26 38.0623 1976.86 35.2672 Q1973.49 32.4315 1967.38 32.4315 Q1963.49 32.4315 1959.8 33.3632 Q1956.12 34.295 1952.71 36.1584 L1952.71 29.2718 Q1956.81 27.692 1960.65 26.9223 Q1964.5 26.1121 1968.15 26.1121 Q1977.99 26.1121 1982.85 31.2163 Q1987.71 36.3204 1987.71 46.6907 Z\" fill=\"#000000\" fill-rule=\"evenodd\" fill-opacity=\"1\" /><path clip-path=\"url(#clip920)\" d=\"M 0 0 M2021.82 34.1734 Q2020.57 33.4443 2019.07 33.1202 Q2017.61 32.7556 2015.83 32.7556 Q2009.51 32.7556 2006.1 36.8875 Q2002.74 40.9789 2002.74 48.6757 L2002.74 72.576 L1995.25 72.576 L1995.25 27.2059 L2002.74 27.2059 L2002.74 34.2544 Q2005.09 30.1225 2008.86 28.1376 Q2012.63 26.1121 2018.01 26.1121 Q2018.78 26.1121 2019.72 26.2337 Q2020.65 26.3147 2021.78 26.5172 L2021.82 34.1734 Z\" fill=\"#000000\" fill-rule=\"evenodd\" fill-opacity=\"1\" /><path clip-path=\"url(#clip920)\" d=\"M 0 0 M2063.51 35.9153 Q2066.3 30.8922 2070.19 28.5022 Q2074.08 26.1121 2079.35 26.1121 Q2086.43 26.1121 2090.28 31.0947 Q2094.13 36.0368 2094.13 45.1919 L2094.13 72.576 L2086.64 72.576 L2086.64 45.4349 Q2086.64 38.913 2084.33 35.7533 Q2082.02 32.5936 2077.28 32.5936 Q2071.49 32.5936 2068.12 36.4419 Q2064.76 40.2903 2064.76 46.9338 L2064.76 72.576 L2057.27 72.576 L2057.27 45.4349 Q2057.27 38.8725 2054.96 35.7533 Q2052.65 32.5936 2047.83 32.5936 Q2042.12 32.5936 2038.75 36.4824 Q2035.39 40.3308 2035.39 46.9338 L2035.39 72.576 L2027.9 72.576 L2027.9 27.2059 L2035.39 27.2059 L2035.39 34.2544 Q2037.94 30.082 2041.51 28.0971 Q2045.07 26.1121 2049.98 26.1121 Q2054.92 26.1121 2058.36 28.6237 Q2061.85 31.1352 2063.51 35.9153 Z\" fill=\"#000000\" fill-rule=\"evenodd\" fill-opacity=\"1\" /><path clip-path=\"url(#clip920)\" d=\"M 0 0 M2101.95 27.2059 L2109.4 27.2059 L2109.4 72.576 L2101.95 72.576 L2101.95 27.2059 M2101.95 9.54393 L2109.4 9.54393 L2109.4 18.9825 L2101.95 18.9825 L2101.95 9.54393 Z\" fill=\"#000000\" fill-rule=\"evenodd\" fill-opacity=\"1\" /><path clip-path=\"url(#clip920)\" d=\"M 0 0 M2154.93 45.1919 L2154.93 72.576 L2147.48 72.576 L2147.48 45.4349 Q2147.48 38.994 2144.97 35.7938 Q2142.46 32.5936 2137.43 32.5936 Q2131.4 32.5936 2127.92 36.4419 Q2124.43 40.2903 2124.43 46.9338 L2124.43 72.576 L2116.94 72.576 L2116.94 27.2059 L2124.43 27.2059 L2124.43 34.2544 Q2127.11 30.163 2130.71 28.1376 Q2134.36 26.1121 2139.1 26.1121 Q2146.91 26.1121 2150.92 30.9732 Q2154.93 35.7938 2154.93 45.1919 Z\" fill=\"#000000\" fill-rule=\"evenodd\" fill-opacity=\"1\" /><path clip-path=\"url(#clip920)\" d=\"M 0 0 M2192.61 49.3643 Q2192.61 41.2625 2189.25 36.8065 Q2185.92 32.3505 2179.89 32.3505 Q2173.89 32.3505 2170.53 36.8065 Q2167.21 41.2625 2167.21 49.3643 Q2167.21 57.4256 2170.53 61.8816 Q2173.89 66.3376 2179.89 66.3376 Q2185.92 66.3376 2189.25 61.8816 Q2192.61 57.4256 2192.61 49.3643 M2200.06 66.9452 Q2200.06 78.5308 2194.92 84.1616 Q2189.77 89.8329 2179.16 89.8329 Q2175.23 89.8329 2171.75 89.2252 Q2168.26 88.6581 2164.98 87.4428 L2164.98 80.1917 Q2168.26 81.9741 2171.46 82.8248 Q2174.66 83.6755 2177.98 83.6755 Q2185.32 83.6755 2188.96 79.8271 Q2192.61 76.0193 2192.61 68.282 L2192.61 64.5957 Q2190.3 68.6061 2186.69 70.5911 Q2183.09 72.576 2178.07 72.576 Q2169.72 72.576 2164.62 66.2161 Q2159.51 59.8562 2159.51 49.3643 Q2159.51 38.832 2164.62 32.472 Q2169.72 26.1121 2178.07 26.1121 Q2183.09 26.1121 2186.69 28.0971 Q2190.3 30.082 2192.61 34.0924 L2192.61 27.2059 L2200.06 27.2059 L2200.06 66.9452 Z\" fill=\"#000000\" fill-rule=\"evenodd\" fill-opacity=\"1\" /><polyline clip-path=\"url(#clip922)\" style=\"stroke:#009af9; stroke-width:4; stroke-opacity:1; fill:none\" points=\"\n",
       "  2293.56,1374.46 407.494,1287.71 977.702,1027.45 539.081,680.431 337.315,420.17 320.516,159.909 \n",
       "  \"/>\n",
       "<circle clip-path=\"url(#clip922)\" cx=\"2293.56\" cy=\"1374.46\" r=\"14\" fill=\"#e26f46\" fill-rule=\"evenodd\" fill-opacity=\"1\" stroke=\"#000000\" stroke-opacity=\"1\" stroke-width=\"3.2\"/>\n",
       "<circle clip-path=\"url(#clip922)\" cx=\"407.494\" cy=\"1287.71\" r=\"14\" fill=\"#e26f46\" fill-rule=\"evenodd\" fill-opacity=\"1\" stroke=\"#000000\" stroke-opacity=\"1\" stroke-width=\"3.2\"/>\n",
       "<circle clip-path=\"url(#clip922)\" cx=\"977.702\" cy=\"1027.45\" r=\"14\" fill=\"#e26f46\" fill-rule=\"evenodd\" fill-opacity=\"1\" stroke=\"#000000\" stroke-opacity=\"1\" stroke-width=\"3.2\"/>\n",
       "<circle clip-path=\"url(#clip922)\" cx=\"539.081\" cy=\"680.431\" r=\"14\" fill=\"#e26f46\" fill-rule=\"evenodd\" fill-opacity=\"1\" stroke=\"#000000\" stroke-opacity=\"1\" stroke-width=\"3.2\"/>\n",
       "<circle clip-path=\"url(#clip922)\" cx=\"337.315\" cy=\"420.17\" r=\"14\" fill=\"#e26f46\" fill-rule=\"evenodd\" fill-opacity=\"1\" stroke=\"#000000\" stroke-opacity=\"1\" stroke-width=\"3.2\"/>\n",
       "<circle clip-path=\"url(#clip922)\" cx=\"320.516\" cy=\"159.909\" r=\"14\" fill=\"#e26f46\" fill-rule=\"evenodd\" fill-opacity=\"1\" stroke=\"#000000\" stroke-opacity=\"1\" stroke-width=\"3.2\"/>\n",
       "<path clip-path=\"url(#clip920)\" d=\"\n",
       "M1926.47 347.826 L2283.04 347.826 L2283.04 166.386 L1926.47 166.386  Z\n",
       "  \" fill=\"#ffffff\" fill-rule=\"evenodd\" fill-opacity=\"1\"/>\n",
       "<polyline clip-path=\"url(#clip920)\" style=\"stroke:#000000; stroke-width:4; stroke-opacity:1; fill:none\" points=\"\n",
       "  1926.47,347.826 2283.04,347.826 2283.04,166.386 1926.47,166.386 1926.47,347.826 \n",
       "  \"/>\n",
       "<polyline clip-path=\"url(#clip920)\" style=\"stroke:#009af9; stroke-width:4; stroke-opacity:1; fill:none\" points=\"\n",
       "  1949.71,226.866 2089.14,226.866 \n",
       "  \"/>\n",
       "<path clip-path=\"url(#clip920)\" d=\"M 0 0 M2112.38 208.128 L2116.64 208.128 L2116.64 244.146 L2112.38 244.146 L2112.38 208.128 Z\" fill=\"#000000\" fill-rule=\"evenodd\" fill-opacity=\"1\" /><path clip-path=\"url(#clip920)\" d=\"M 0 0 M2121.1 218.22 L2125.36 218.22 L2125.36 244.146 L2121.1 244.146 L2121.1 218.22 M2121.1 208.128 L2125.36 208.128 L2125.36 213.521 L2121.1 213.521 L2121.1 208.128 Z\" fill=\"#000000\" fill-rule=\"evenodd\" fill-opacity=\"1\" /><path clip-path=\"url(#clip920)\" d=\"M 0 0 M2151.38 228.498 L2151.38 244.146 L2147.12 244.146 L2147.12 228.637 Q2147.12 224.957 2145.69 223.128 Q2144.25 221.299 2141.38 221.299 Q2137.93 221.299 2135.94 223.498 Q2133.95 225.697 2133.95 229.494 L2133.95 244.146 L2129.67 244.146 L2129.67 218.22 L2133.95 218.22 L2133.95 222.248 Q2135.48 219.91 2137.54 218.753 Q2139.62 217.595 2142.33 217.595 Q2146.8 217.595 2149.09 220.373 Q2151.38 223.128 2151.38 228.498 Z\" fill=\"#000000\" fill-rule=\"evenodd\" fill-opacity=\"1\" /><path clip-path=\"url(#clip920)\" d=\"M 0 0 M2178.02 230.119 L2178.02 232.202 L2158.44 232.202 Q2158.72 236.6 2161.08 238.915 Q2163.46 241.206 2167.7 241.206 Q2170.15 241.206 2172.45 240.605 Q2174.76 240.003 2177.03 238.799 L2177.03 242.827 Q2174.74 243.799 2172.33 244.308 Q2169.92 244.818 2167.45 244.818 Q2161.24 244.818 2157.61 241.206 Q2154 237.595 2154 231.438 Q2154 225.072 2157.42 221.345 Q2160.87 217.595 2166.7 217.595 Q2171.94 217.595 2174.97 220.975 Q2178.02 224.332 2178.02 230.119 M2173.76 228.869 Q2173.72 225.373 2171.8 223.29 Q2169.9 221.207 2166.75 221.207 Q2163.19 221.207 2161.03 223.22 Q2158.9 225.234 2158.58 228.892 L2173.76 228.869 Z\" fill=\"#000000\" fill-rule=\"evenodd\" fill-opacity=\"1\" /><circle clip-path=\"url(#clip920)\" cx=\"2019.42\" cy=\"287.346\" r=\"23\" fill=\"#e26f46\" fill-rule=\"evenodd\" fill-opacity=\"1\" stroke=\"#000000\" stroke-opacity=\"1\" stroke-width=\"5.12\"/>\n",
       "<path clip-path=\"url(#clip920)\" d=\"M 0 0 M2116.66 300.737 L2116.66 314.487 L2112.38 314.487 L2112.38 278.7 L2116.66 278.7 L2116.66 282.636 Q2118 280.321 2120.04 279.21 Q2122.1 278.075 2124.95 278.075 Q2129.67 278.075 2132.61 281.825 Q2135.57 285.575 2135.57 291.687 Q2135.57 297.798 2132.61 301.548 Q2129.67 305.298 2124.95 305.298 Q2122.1 305.298 2120.04 304.186 Q2118 303.052 2116.66 300.737 M2131.15 291.687 Q2131.15 286.987 2129.2 284.325 Q2127.28 281.64 2123.9 281.64 Q2120.52 281.64 2118.58 284.325 Q2116.66 286.987 2116.66 291.687 Q2116.66 296.386 2118.58 299.071 Q2120.52 301.733 2123.9 301.733 Q2127.28 301.733 2129.2 299.071 Q2131.15 296.386 2131.15 291.687 Z\" fill=\"#000000\" fill-rule=\"evenodd\" fill-opacity=\"1\" /><path clip-path=\"url(#clip920)\" d=\"M 0 0 M2150.08 281.687 Q2146.66 281.687 2144.67 284.372 Q2142.68 287.034 2142.68 291.687 Q2142.68 296.339 2144.64 299.024 Q2146.64 301.686 2150.08 301.686 Q2153.49 301.686 2155.48 299.001 Q2157.47 296.316 2157.47 291.687 Q2157.47 287.08 2155.48 284.395 Q2153.49 281.687 2150.08 281.687 M2150.08 278.075 Q2155.64 278.075 2158.81 281.687 Q2161.98 285.298 2161.98 291.687 Q2161.98 298.052 2158.81 301.686 Q2155.64 305.298 2150.08 305.298 Q2144.51 305.298 2141.33 301.686 Q2138.19 298.052 2138.19 291.687 Q2138.19 285.298 2141.33 281.687 Q2144.51 278.075 2150.08 278.075 Z\" fill=\"#000000\" fill-rule=\"evenodd\" fill-opacity=\"1\" /><path clip-path=\"url(#clip920)\" d=\"M 0 0 M2166.45 278.7 L2170.71 278.7 L2170.71 304.626 L2166.45 304.626 L2166.45 278.7 M2166.45 268.608 L2170.71 268.608 L2170.71 274.001 L2166.45 274.001 L2166.45 268.608 Z\" fill=\"#000000\" fill-rule=\"evenodd\" fill-opacity=\"1\" /><path clip-path=\"url(#clip920)\" d=\"M 0 0 M2196.73 288.978 L2196.73 304.626 L2192.47 304.626 L2192.47 289.117 Q2192.47 285.437 2191.03 283.608 Q2189.6 281.779 2186.73 281.779 Q2183.28 281.779 2181.29 283.978 Q2179.3 286.177 2179.3 289.974 L2179.3 304.626 L2175.01 304.626 L2175.01 278.7 L2179.3 278.7 L2179.3 282.728 Q2180.82 280.39 2182.88 279.233 Q2184.97 278.075 2187.68 278.075 Q2192.14 278.075 2194.44 280.853 Q2196.73 283.608 2196.73 288.978 Z\" fill=\"#000000\" fill-rule=\"evenodd\" fill-opacity=\"1\" /><path clip-path=\"url(#clip920)\" d=\"M 0 0 M2205.41 271.339 L2205.41 278.7 L2214.18 278.7 L2214.18 282.011 L2205.41 282.011 L2205.41 296.085 Q2205.41 299.256 2206.26 300.159 Q2207.14 301.061 2209.81 301.061 L2214.18 301.061 L2214.18 304.626 L2209.81 304.626 Q2204.88 304.626 2203 302.798 Q2201.13 300.946 2201.13 296.085 L2201.13 282.011 L2198 282.011 L2198 278.7 L2201.13 278.7 L2201.13 271.339 L2205.41 271.339 Z\" fill=\"#000000\" fill-rule=\"evenodd\" fill-opacity=\"1\" /><path clip-path=\"url(#clip920)\" d=\"M 0 0 M2235.18 279.464 L2235.18 283.492 Q2233.37 282.566 2231.43 282.103 Q2229.48 281.64 2227.4 281.64 Q2224.23 281.64 2222.63 282.613 Q2221.06 283.585 2221.06 285.529 Q2221.06 287.011 2222.19 287.867 Q2223.32 288.7 2226.75 289.464 L2228.21 289.788 Q2232.75 290.761 2234.64 292.543 Q2236.57 294.302 2236.57 297.474 Q2236.57 301.085 2233.69 303.191 Q2230.85 305.298 2225.85 305.298 Q2223.76 305.298 2221.5 304.881 Q2219.25 304.487 2216.75 303.677 L2216.75 299.279 Q2219.11 300.506 2221.4 301.131 Q2223.69 301.733 2225.94 301.733 Q2228.95 301.733 2230.57 300.714 Q2232.19 299.673 2232.19 297.798 Q2232.19 296.062 2231.01 295.136 Q2229.85 294.21 2225.89 293.353 L2224.41 293.006 Q2220.45 292.173 2218.69 290.46 Q2216.94 288.724 2216.94 285.714 Q2216.94 282.057 2219.53 280.066 Q2222.12 278.075 2226.89 278.075 Q2229.25 278.075 2231.33 278.423 Q2233.42 278.77 2235.18 279.464 Z\" fill=\"#000000\" fill-rule=\"evenodd\" fill-opacity=\"1\" /></svg>\n"
      ]
     },
     "execution_count": 130,
     "metadata": {},
     "output_type": "execute_result"
    }
   ],
   "source": [
    "# 바로바로 적용해주기 위해 각 함수들에 ! 를 추가해준다\n",
    "xlabel!(\"Number of Pirates [Approximate]\")\n",
    "ylabel!(\"Global Temperature(C)\")\n",
    "title!(\"Influence of pirate population on global warming\")"
   ]
  },
  {
   "cell_type": "code",
   "execution_count": 134,
   "metadata": {
    "collapsed": false
   },
   "outputs": [
    {
     "data": {
      "image/svg+xml": [
       "<?xml version=\"1.0\" encoding=\"utf-8\"?>\n",
       "<svg xmlns=\"http://www.w3.org/2000/svg\" xmlns:xlink=\"http://www.w3.org/1999/xlink\" width=\"600\" height=\"400\" viewBox=\"0 0 2400 1600\">\n",
       "<defs>\n",
       "  <clipPath id=\"clip000\">\n",
       "    <rect x=\"0\" y=\"0\" width=\"2400\" height=\"1600\"/>\n",
       "  </clipPath>\n",
       "</defs>\n",
       "<path clip-path=\"url(#clip000)\" d=\"\n",
       "M0 1600 L2400 1600 L2400 0 L0 0  Z\n",
       "  \" fill=\"#ffffff\" fill-rule=\"evenodd\" fill-opacity=\"1\"/>\n",
       "<defs>\n",
       "  <clipPath id=\"clip001\">\n",
       "    <rect x=\"480\" y=\"0\" width=\"1681\" height=\"1600\"/>\n",
       "  </clipPath>\n",
       "</defs>\n",
       "<path clip-path=\"url(#clip000)\" d=\"\n",
       "M261.324 1410.9 L2352.76 1410.9 L2352.76 47.2441 L261.324 47.2441  Z\n",
       "  \" fill=\"#ffffff\" fill-rule=\"evenodd\" fill-opacity=\"1\"/>\n",
       "<defs>\n",
       "  <clipPath id=\"clip002\">\n",
       "    <rect x=\"261\" y=\"47\" width=\"2092\" height=\"1365\"/>\n",
       "  </clipPath>\n",
       "</defs>\n",
       "<polyline clip-path=\"url(#clip002)\" style=\"stroke:#000000; stroke-width:2; stroke-opacity:0.1; fill:none\" points=\"\n",
       "  2294.31,1410.9 2294.31,47.2441 \n",
       "  \"/>\n",
       "<polyline clip-path=\"url(#clip002)\" style=\"stroke:#000000; stroke-width:2; stroke-opacity:0.1; fill:none\" points=\"\n",
       "  1855.69,1410.9 1855.69,47.2441 \n",
       "  \"/>\n",
       "<polyline clip-path=\"url(#clip002)\" style=\"stroke:#000000; stroke-width:2; stroke-opacity:0.1; fill:none\" points=\"\n",
       "  1417.07,1410.9 1417.07,47.2441 \n",
       "  \"/>\n",
       "<polyline clip-path=\"url(#clip002)\" style=\"stroke:#000000; stroke-width:2; stroke-opacity:0.1; fill:none\" points=\"\n",
       "  978.447,1410.9 978.447,47.2441 \n",
       "  \"/>\n",
       "<polyline clip-path=\"url(#clip002)\" style=\"stroke:#000000; stroke-width:2; stroke-opacity:0.1; fill:none\" points=\"\n",
       "  539.826,1410.9 539.826,47.2441 \n",
       "  \"/>\n",
       "<polyline clip-path=\"url(#clip000)\" style=\"stroke:#000000; stroke-width:4; stroke-opacity:1; fill:none\" points=\"\n",
       "  2352.76,1410.9 261.324,1410.9 \n",
       "  \"/>\n",
       "<polyline clip-path=\"url(#clip000)\" style=\"stroke:#000000; stroke-width:4; stroke-opacity:1; fill:none\" points=\"\n",
       "  2294.31,1410.9 2294.31,1394.53 \n",
       "  \"/>\n",
       "<polyline clip-path=\"url(#clip000)\" style=\"stroke:#000000; stroke-width:4; stroke-opacity:1; fill:none\" points=\"\n",
       "  1855.69,1410.9 1855.69,1394.53 \n",
       "  \"/>\n",
       "<polyline clip-path=\"url(#clip000)\" style=\"stroke:#000000; stroke-width:4; stroke-opacity:1; fill:none\" points=\"\n",
       "  1417.07,1410.9 1417.07,1394.53 \n",
       "  \"/>\n",
       "<polyline clip-path=\"url(#clip000)\" style=\"stroke:#000000; stroke-width:4; stroke-opacity:1; fill:none\" points=\"\n",
       "  978.447,1410.9 978.447,1394.53 \n",
       "  \"/>\n",
       "<polyline clip-path=\"url(#clip000)\" style=\"stroke:#000000; stroke-width:4; stroke-opacity:1; fill:none\" points=\"\n",
       "  539.826,1410.9 539.826,1394.53 \n",
       "  \"/>\n",
       "<path clip-path=\"url(#clip000)\" d=\"M 0 0 M2294.31 1440.09 Q2290.7 1440.09 2288.87 1443.65 Q2287.06 1447.19 2287.06 1454.32 Q2287.06 1461.43 2288.87 1464.99 Q2290.7 1468.54 2294.31 1468.54 Q2297.94 1468.54 2299.75 1464.99 Q2301.58 1461.43 2301.58 1454.32 Q2301.58 1447.19 2299.75 1443.65 Q2297.94 1440.09 2294.31 1440.09 M2294.31 1436.38 Q2300.12 1436.38 2303.18 1440.99 Q2306.25 1445.57 2306.25 1454.32 Q2306.25 1463.05 2303.18 1467.66 Q2300.12 1472.24 2294.31 1472.24 Q2288.5 1472.24 2285.42 1467.66 Q2282.37 1463.05 2282.37 1454.32 Q2282.37 1445.57 2285.42 1440.99 Q2288.5 1436.38 2294.31 1436.38 Z\" fill=\"#000000\" fill-rule=\"evenodd\" fill-opacity=\"1\" /><path clip-path=\"url(#clip000)\" d=\"M 0 0 M1792.82 1489.17 L1800.46 1489.17 L1800.46 1462.8 L1792.15 1464.47 L1792.15 1460.21 L1800.41 1458.54 L1805.09 1458.54 L1805.09 1489.17 L1812.73 1489.17 L1812.73 1493.1 L1792.82 1493.1 L1792.82 1489.17 Z\" fill=\"#000000\" fill-rule=\"evenodd\" fill-opacity=\"1\" /><path clip-path=\"url(#clip000)\" d=\"M 0 0 M1845.97 1467.64 L1835.39 1478.27 L1845.97 1488.84 L1843.21 1491.65 L1832.59 1481.02 L1821.96 1491.65 L1819.23 1488.84 L1829.79 1478.27 L1819.23 1467.64 L1821.96 1464.84 L1832.59 1475.47 L1843.21 1464.84 L1845.97 1467.64 Z\" fill=\"#000000\" fill-rule=\"evenodd\" fill-opacity=\"1\" /><path clip-path=\"url(#clip000)\" d=\"M 0 0 M1851.85 1489.17 L1859.49 1489.17 L1859.49 1462.8 L1851.18 1464.47 L1851.18 1460.21 L1859.44 1458.54 L1864.12 1458.54 L1864.12 1489.17 L1871.75 1489.17 L1871.75 1493.1 L1851.85 1493.1 L1851.85 1489.17 Z\" fill=\"#000000\" fill-rule=\"evenodd\" fill-opacity=\"1\" /><path clip-path=\"url(#clip000)\" d=\"M 0 0 M1886.82 1461.62 Q1883.21 1461.62 1881.38 1465.19 Q1879.58 1468.73 1879.58 1475.86 Q1879.58 1482.97 1881.38 1486.53 Q1883.21 1490.07 1886.82 1490.07 Q1890.46 1490.07 1892.26 1486.53 Q1894.09 1482.97 1894.09 1475.86 Q1894.09 1468.73 1892.26 1465.19 Q1890.46 1461.62 1886.82 1461.62 M1886.82 1457.92 Q1892.63 1457.92 1895.69 1462.53 Q1898.77 1467.11 1898.77 1475.86 Q1898.77 1484.59 1895.69 1489.19 Q1892.63 1493.78 1886.82 1493.78 Q1881.01 1493.78 1877.93 1489.19 Q1874.88 1484.59 1874.88 1475.86 Q1874.88 1467.11 1877.93 1462.53 Q1881.01 1457.92 1886.82 1457.92 Z\" fill=\"#000000\" fill-rule=\"evenodd\" fill-opacity=\"1\" /><path clip-path=\"url(#clip000)\" d=\"M 0 0 M1911.44 1440.92 L1901.85 1455.91 L1911.44 1455.91 L1911.44 1440.92 M1910.45 1437.61 L1915.22 1437.61 L1915.22 1455.91 L1919.23 1455.91 L1919.23 1459.07 L1915.22 1459.07 L1915.22 1465.69 L1911.44 1465.69 L1911.44 1459.07 L1898.77 1459.07 L1898.77 1455.41 L1910.45 1437.61 Z\" fill=\"#000000\" fill-rule=\"evenodd\" fill-opacity=\"1\" /><path clip-path=\"url(#clip000)\" d=\"M 0 0 M1358.47 1489.17 L1374.79 1489.17 L1374.79 1493.1 L1352.84 1493.1 L1352.84 1489.17 Q1355.51 1486.41 1360.09 1481.78 Q1364.7 1477.13 1365.88 1475.79 Q1368.12 1473.27 1369 1471.53 Q1369.9 1469.77 1369.9 1468.08 Q1369.9 1465.33 1367.96 1463.59 Q1366.04 1461.85 1362.94 1461.85 Q1360.74 1461.85 1358.28 1462.62 Q1355.85 1463.38 1353.08 1464.93 L1353.08 1460.21 Q1355.9 1459.08 1358.35 1458.5 Q1360.81 1457.92 1362.84 1457.92 Q1368.21 1457.92 1371.41 1460.6 Q1374.6 1463.29 1374.6 1467.78 Q1374.6 1469.91 1373.79 1471.83 Q1373.01 1473.73 1370.9 1476.32 Q1370.32 1476.99 1367.22 1480.21 Q1364.12 1483.4 1358.47 1489.17 Z\" fill=\"#000000\" fill-rule=\"evenodd\" fill-opacity=\"1\" /><path clip-path=\"url(#clip000)\" d=\"M 0 0 M1408.03 1467.64 L1397.45 1478.27 L1408.03 1488.84 L1405.27 1491.65 L1394.65 1481.02 L1384.02 1491.65 L1381.29 1488.84 L1391.85 1478.27 L1381.29 1467.64 L1384.02 1464.84 L1394.65 1475.47 L1405.27 1464.84 L1408.03 1467.64 Z\" fill=\"#000000\" fill-rule=\"evenodd\" fill-opacity=\"1\" /><path clip-path=\"url(#clip000)\" d=\"M 0 0 M1413.91 1489.17 L1421.55 1489.17 L1421.55 1462.8 L1413.24 1464.47 L1413.24 1460.21 L1421.5 1458.54 L1426.18 1458.54 L1426.18 1489.17 L1433.82 1489.17 L1433.82 1493.1 L1413.91 1493.1 L1413.91 1489.17 Z\" fill=\"#000000\" fill-rule=\"evenodd\" fill-opacity=\"1\" /><path clip-path=\"url(#clip000)\" d=\"M 0 0 M1448.89 1461.62 Q1445.27 1461.62 1443.45 1465.19 Q1441.64 1468.73 1441.64 1475.86 Q1441.64 1482.97 1443.45 1486.53 Q1445.27 1490.07 1448.89 1490.07 Q1452.52 1490.07 1454.32 1486.53 Q1456.15 1482.97 1456.15 1475.86 Q1456.15 1468.73 1454.32 1465.19 Q1452.52 1461.62 1448.89 1461.62 M1448.89 1457.92 Q1454.7 1457.92 1457.75 1462.53 Q1460.83 1467.11 1460.83 1475.86 Q1460.83 1484.59 1457.75 1489.19 Q1454.7 1493.78 1448.89 1493.78 Q1443.08 1493.78 1440 1489.19 Q1436.94 1484.59 1436.94 1475.86 Q1436.94 1467.11 1440 1462.53 Q1443.08 1457.92 1448.89 1457.92 Z\" fill=\"#000000\" fill-rule=\"evenodd\" fill-opacity=\"1\" /><path clip-path=\"url(#clip000)\" d=\"M 0 0 M1473.51 1440.92 L1463.91 1455.91 L1473.51 1455.91 L1473.51 1440.92 M1472.51 1437.61 L1477.29 1437.61 L1477.29 1455.91 L1481.29 1455.91 L1481.29 1459.07 L1477.29 1459.07 L1477.29 1465.69 L1473.51 1465.69 L1473.51 1459.07 L1460.83 1459.07 L1460.83 1455.41 L1472.51 1437.61 Z\" fill=\"#000000\" fill-rule=\"evenodd\" fill-opacity=\"1\" /><path clip-path=\"url(#clip000)\" d=\"M 0 0 M929.443 1474.47 Q932.799 1475.19 934.674 1477.46 Q936.572 1479.72 936.572 1483.06 Q936.572 1488.17 933.054 1490.97 Q929.535 1493.78 923.054 1493.78 Q920.878 1493.78 918.563 1493.34 Q916.272 1492.92 913.818 1492.06 L913.818 1487.55 Q915.762 1488.68 918.077 1489.26 Q920.392 1489.84 922.915 1489.84 Q927.313 1489.84 929.605 1488.1 Q931.92 1486.37 931.92 1483.06 Q931.92 1480 929.767 1478.29 Q927.637 1476.55 923.818 1476.55 L919.79 1476.55 L919.79 1472.71 L924.003 1472.71 Q927.452 1472.71 929.281 1471.34 Q931.11 1469.96 931.11 1467.36 Q931.11 1464.7 929.211 1463.29 Q927.336 1461.85 923.818 1461.85 Q921.897 1461.85 919.698 1462.27 Q917.499 1462.69 914.86 1463.57 L914.86 1459.4 Q917.522 1458.66 919.836 1458.29 Q922.174 1457.92 924.235 1457.92 Q929.559 1457.92 932.66 1460.35 Q935.762 1462.76 935.762 1466.88 Q935.762 1469.75 934.119 1471.74 Q932.475 1473.71 929.443 1474.47 Z\" fill=\"#000000\" fill-rule=\"evenodd\" fill-opacity=\"1\" /><path clip-path=\"url(#clip000)\" d=\"M 0 0 M969.813 1467.64 L959.234 1478.27 L969.813 1488.84 L967.058 1491.65 L956.433 1481.02 L945.809 1491.65 L943.077 1488.84 L953.633 1478.27 L943.077 1467.64 L945.809 1464.84 L956.433 1475.47 L967.058 1464.84 L969.813 1467.64 Z\" fill=\"#000000\" fill-rule=\"evenodd\" fill-opacity=\"1\" /><path clip-path=\"url(#clip000)\" d=\"M 0 0 M975.693 1489.17 L983.331 1489.17 L983.331 1462.8 L975.021 1464.47 L975.021 1460.21 L983.285 1458.54 L987.961 1458.54 L987.961 1489.17 L995.6 1489.17 L995.6 1493.1 L975.693 1493.1 L975.693 1489.17 Z\" fill=\"#000000\" fill-rule=\"evenodd\" fill-opacity=\"1\" /><path clip-path=\"url(#clip000)\" d=\"M 0 0 M1010.67 1461.62 Q1007.06 1461.62 1005.23 1465.19 Q1003.42 1468.73 1003.42 1475.86 Q1003.42 1482.97 1005.23 1486.53 Q1007.06 1490.07 1010.67 1490.07 Q1014.3 1490.07 1016.11 1486.53 Q1017.94 1482.97 1017.94 1475.86 Q1017.94 1468.73 1016.11 1465.19 Q1014.3 1461.62 1010.67 1461.62 M1010.67 1457.92 Q1016.48 1457.92 1019.54 1462.53 Q1022.61 1467.11 1022.61 1475.86 Q1022.61 1484.59 1019.54 1489.19 Q1016.48 1493.78 1010.67 1493.78 Q1004.86 1493.78 1001.78 1489.19 Q998.725 1484.59 998.725 1475.86 Q998.725 1467.11 1001.78 1462.53 Q1004.86 1457.92 1010.67 1457.92 Z\" fill=\"#000000\" fill-rule=\"evenodd\" fill-opacity=\"1\" /><path clip-path=\"url(#clip000)\" d=\"M 0 0 M1035.29 1440.92 L1025.7 1455.91 L1035.29 1455.91 L1035.29 1440.92 M1034.29 1437.61 L1039.07 1437.61 L1039.07 1455.91 L1043.08 1455.91 L1043.08 1459.07 L1039.07 1459.07 L1039.07 1465.69 L1035.29 1465.69 L1035.29 1459.07 L1022.61 1459.07 L1022.61 1455.41 L1034.29 1437.61 Z\" fill=\"#000000\" fill-rule=\"evenodd\" fill-opacity=\"1\" /><path clip-path=\"url(#clip000)\" d=\"M 0 0 M489.584 1462.62 L477.778 1481.07 L489.584 1481.07 L489.584 1462.62 M488.357 1458.54 L494.236 1458.54 L494.236 1481.07 L499.167 1481.07 L499.167 1484.96 L494.236 1484.96 L494.236 1493.1 L489.584 1493.1 L489.584 1484.96 L473.982 1484.96 L473.982 1480.44 L488.357 1458.54 Z\" fill=\"#000000\" fill-rule=\"evenodd\" fill-opacity=\"1\" /><path clip-path=\"url(#clip000)\" d=\"M 0 0 M532.407 1467.64 L521.829 1478.27 L532.407 1488.84 L529.653 1491.65 L519.028 1481.02 L508.403 1491.65 L505.671 1488.84 L516.227 1478.27 L505.671 1467.64 L508.403 1464.84 L519.028 1475.47 L529.653 1464.84 L532.407 1467.64 Z\" fill=\"#000000\" fill-rule=\"evenodd\" fill-opacity=\"1\" /><path clip-path=\"url(#clip000)\" d=\"M 0 0 M538.287 1489.17 L545.926 1489.17 L545.926 1462.8 L537.616 1464.47 L537.616 1460.21 L545.88 1458.54 L550.555 1458.54 L550.555 1489.17 L558.194 1489.17 L558.194 1493.1 L538.287 1493.1 L538.287 1489.17 Z\" fill=\"#000000\" fill-rule=\"evenodd\" fill-opacity=\"1\" /><path clip-path=\"url(#clip000)\" d=\"M 0 0 M573.264 1461.62 Q569.653 1461.62 567.824 1465.19 Q566.018 1468.73 566.018 1475.86 Q566.018 1482.97 567.824 1486.53 Q569.653 1490.07 573.264 1490.07 Q576.898 1490.07 578.703 1486.53 Q580.532 1482.97 580.532 1475.86 Q580.532 1468.73 578.703 1465.19 Q576.898 1461.62 573.264 1461.62 M573.264 1457.92 Q579.074 1457.92 582.129 1462.53 Q585.208 1467.11 585.208 1475.86 Q585.208 1484.59 582.129 1489.19 Q579.074 1493.78 573.264 1493.78 Q567.453 1493.78 564.375 1489.19 Q561.319 1484.59 561.319 1475.86 Q561.319 1467.11 564.375 1462.53 Q567.453 1457.92 573.264 1457.92 Z\" fill=\"#000000\" fill-rule=\"evenodd\" fill-opacity=\"1\" /><path clip-path=\"url(#clip000)\" d=\"M 0 0 M597.884 1440.92 L588.292 1455.91 L597.884 1455.91 L597.884 1440.92 M596.888 1437.61 L601.665 1437.61 L601.665 1455.91 L605.671 1455.91 L605.671 1459.07 L601.665 1459.07 L601.665 1465.69 L597.884 1465.69 L597.884 1459.07 L585.208 1459.07 L585.208 1455.41 L596.888 1437.61 Z\" fill=\"#000000\" fill-rule=\"evenodd\" fill-opacity=\"1\" /><path clip-path=\"url(#clip000)\" d=\"M 0 0 M820.812 1514.67 L829.469 1514.67 L850.539 1554.42 L850.539 1514.67 L856.778 1514.67 L856.778 1562.19 L848.12 1562.19 L827.05 1522.43 L827.05 1562.19 L820.812 1562.19 L820.812 1514.67 Z\" fill=\"#000000\" fill-rule=\"evenodd\" fill-opacity=\"1\" /><path clip-path=\"url(#clip000)\" d=\"M 0 0 M862.316 1548.12 L862.316 1526.54 L868.172 1526.54 L868.172 1547.89 Q868.172 1552.96 870.146 1555.5 Q872.119 1558.02 876.066 1558.02 Q880.808 1558.02 883.546 1554.99 Q886.315 1551.97 886.315 1546.75 L886.315 1526.54 L892.171 1526.54 L892.171 1562.19 L886.315 1562.19 L886.315 1556.71 Q884.182 1559.96 881.349 1561.55 Q878.549 1563.11 874.825 1563.11 Q868.682 1563.11 865.499 1559.29 Q862.316 1555.47 862.316 1548.12 M877.053 1525.68 L877.053 1525.68 Z\" fill=\"#000000\" fill-rule=\"evenodd\" fill-opacity=\"1\" /><path clip-path=\"url(#clip000)\" d=\"M 0 0 M926.069 1533.38 Q928.265 1529.43 931.32 1527.56 Q934.376 1525.68 938.513 1525.68 Q944.083 1525.68 947.107 1529.59 Q950.131 1533.48 950.131 1540.67 L950.131 1562.19 L944.243 1562.19 L944.243 1540.86 Q944.243 1535.74 942.428 1533.25 Q940.614 1530.77 936.89 1530.77 Q932.339 1530.77 929.697 1533.79 Q927.055 1536.82 927.055 1542.04 L927.055 1562.19 L921.167 1562.19 L921.167 1540.86 Q921.167 1535.7 919.353 1533.25 Q917.538 1530.77 913.751 1530.77 Q909.263 1530.77 906.621 1533.83 Q903.98 1536.85 903.98 1542.04 L903.98 1562.19 L898.091 1562.19 L898.091 1526.54 L903.98 1526.54 L903.98 1532.08 Q905.985 1528.8 908.786 1527.24 Q911.587 1525.68 915.438 1525.68 Q919.321 1525.68 922.026 1527.65 Q924.764 1529.62 926.069 1533.38 Z\" fill=\"#000000\" fill-rule=\"evenodd\" fill-opacity=\"1\" /><path clip-path=\"url(#clip000)\" d=\"M 0 0 M981.864 1544.39 Q981.864 1537.93 979.19 1534.27 Q976.549 1530.58 971.902 1530.58 Q967.255 1530.58 964.581 1534.27 Q961.939 1537.93 961.939 1544.39 Q961.939 1550.85 964.581 1554.55 Q967.255 1558.21 971.902 1558.21 Q976.549 1558.21 979.19 1554.55 Q981.864 1550.85 981.864 1544.39 M961.939 1531.95 Q963.785 1528.77 966.586 1527.24 Q969.419 1525.68 973.334 1525.68 Q979.827 1525.68 983.869 1530.83 Q987.943 1535.99 987.943 1544.39 Q987.943 1552.8 983.869 1557.95 Q979.827 1563.11 973.334 1563.11 Q969.419 1563.11 966.586 1561.58 Q963.785 1560.02 961.939 1556.84 L961.939 1562.19 L956.051 1562.19 L956.051 1512.66 L961.939 1512.66 L961.939 1531.95 Z\" fill=\"#000000\" fill-rule=\"evenodd\" fill-opacity=\"1\" /><path clip-path=\"url(#clip000)\" d=\"M 0 0 M1024.58 1542.9 L1024.58 1545.76 L997.651 1545.76 Q998.033 1551.81 1001.28 1554.99 Q1004.56 1558.14 1010.38 1558.14 Q1013.76 1558.14 1016.91 1557.32 Q1020.09 1556.49 1023.21 1554.83 L1023.21 1560.37 Q1020.06 1561.71 1016.75 1562.41 Q1013.44 1563.11 1010.03 1563.11 Q1001.5 1563.11 996.505 1558.14 Q991.54 1553.18 991.54 1544.71 Q991.54 1535.96 996.25 1530.83 Q1000.99 1525.68 1009.01 1525.68 Q1016.21 1525.68 1020.38 1530.33 Q1024.58 1534.94 1024.58 1542.9 M1018.72 1541.18 Q1018.66 1536.37 1016.02 1533.51 Q1013.41 1530.64 1009.08 1530.64 Q1004.18 1530.64 1001.22 1533.41 Q998.287 1536.18 997.842 1541.21 L1018.72 1541.18 Z\" fill=\"#000000\" fill-rule=\"evenodd\" fill-opacity=\"1\" /><path clip-path=\"url(#clip000)\" d=\"M 0 0 M1051.38 1532.01 Q1050.39 1531.44 1049.21 1531.18 Q1048.07 1530.9 1046.67 1530.9 Q1041.7 1530.9 1039.03 1534.14 Q1036.39 1537.36 1036.39 1543.41 L1036.39 1562.19 L1030.5 1562.19 L1030.5 1526.54 L1036.39 1526.54 L1036.39 1532.08 Q1038.23 1528.83 1041.19 1527.27 Q1044.15 1525.68 1048.39 1525.68 Q1048.99 1525.68 1049.72 1525.77 Q1050.45 1525.84 1051.35 1526 L1051.38 1532.01 Z\" fill=\"#000000\" fill-rule=\"evenodd\" fill-opacity=\"1\" /><path clip-path=\"url(#clip000)\" d=\"M 0 0 M1092.05 1530.64 Q1087.34 1530.64 1084.61 1534.34 Q1081.87 1538 1081.87 1544.39 Q1081.87 1550.79 1084.57 1554.48 Q1087.31 1558.14 1092.05 1558.14 Q1096.73 1558.14 1099.47 1554.45 Q1102.21 1550.76 1102.21 1544.39 Q1102.21 1538.06 1099.47 1534.37 Q1096.73 1530.64 1092.05 1530.64 M1092.05 1525.68 Q1099.69 1525.68 1104.05 1530.64 Q1108.41 1535.61 1108.41 1544.39 Q1108.41 1553.15 1104.05 1558.14 Q1099.69 1563.11 1092.05 1563.11 Q1084.38 1563.11 1080.02 1558.14 Q1075.69 1553.15 1075.69 1544.39 Q1075.69 1535.61 1080.02 1530.64 Q1084.38 1525.68 1092.05 1525.68 Z\" fill=\"#000000\" fill-rule=\"evenodd\" fill-opacity=\"1\" /><path clip-path=\"url(#clip000)\" d=\"M 0 0 M1132.6 1512.66 L1132.6 1517.53 L1127 1517.53 Q1123.85 1517.53 1122.61 1518.8 Q1121.4 1520.08 1121.4 1523.39 L1121.4 1526.54 L1131.04 1526.54 L1131.04 1531.09 L1121.4 1531.09 L1121.4 1562.19 L1115.51 1562.19 L1115.51 1531.09 L1109.91 1531.09 L1109.91 1526.54 L1115.51 1526.54 L1115.51 1524.05 Q1115.51 1518.1 1118.28 1515.4 Q1121.05 1512.66 1127.07 1512.66 L1132.6 1512.66 Z\" fill=\"#000000\" fill-rule=\"evenodd\" fill-opacity=\"1\" /><path clip-path=\"url(#clip000)\" d=\"M 0 0 M1166.15 1519.95 L1166.15 1537.8 L1174.24 1537.8 Q1178.72 1537.8 1181.17 1535.48 Q1183.63 1533.16 1183.63 1528.86 Q1183.63 1524.6 1181.17 1522.27 Q1178.72 1519.95 1174.24 1519.95 L1166.15 1519.95 M1159.72 1514.67 L1174.24 1514.67 Q1182.22 1514.67 1186.3 1518.29 Q1190.4 1521.89 1190.4 1528.86 Q1190.4 1535.9 1186.3 1539.49 Q1182.22 1543.09 1174.24 1543.09 L1166.15 1543.09 L1166.15 1562.19 L1159.72 1562.19 L1159.72 1514.67 Z\" fill=\"#000000\" fill-rule=\"evenodd\" fill-opacity=\"1\" /><path clip-path=\"url(#clip000)\" d=\"M 0 0 M1195.12 1526.54 L1200.97 1526.54 L1200.97 1562.19 L1195.12 1562.19 L1195.12 1526.54 M1195.12 1512.66 L1200.97 1512.66 L1200.97 1520.08 L1195.12 1520.08 L1195.12 1512.66 Z\" fill=\"#000000\" fill-rule=\"evenodd\" fill-opacity=\"1\" /><path clip-path=\"url(#clip000)\" d=\"M 0 0 M1227.77 1532.01 Q1226.78 1531.44 1225.61 1531.18 Q1224.46 1530.9 1223.06 1530.9 Q1218.1 1530.9 1215.42 1534.14 Q1212.78 1537.36 1212.78 1543.41 L1212.78 1562.19 L1206.89 1562.19 L1206.89 1526.54 L1212.78 1526.54 L1212.78 1532.08 Q1214.63 1528.83 1217.59 1527.27 Q1220.55 1525.68 1224.78 1525.68 Q1225.38 1525.68 1226.12 1525.77 Q1226.85 1525.84 1227.74 1526 L1227.77 1532.01 Z\" fill=\"#000000\" fill-rule=\"evenodd\" fill-opacity=\"1\" /><path clip-path=\"url(#clip000)\" d=\"M 0 0 M1250.11 1544.27 Q1243.02 1544.27 1240.28 1545.89 Q1237.54 1547.51 1237.54 1551.43 Q1237.54 1554.55 1239.58 1556.39 Q1241.65 1558.21 1245.18 1558.21 Q1250.05 1558.21 1252.98 1554.77 Q1255.94 1551.3 1255.94 1545.57 L1255.94 1544.27 L1250.11 1544.27 M1261.8 1541.85 L1261.8 1562.19 L1255.94 1562.19 L1255.94 1556.77 Q1253.93 1560.02 1250.94 1561.58 Q1247.95 1563.11 1243.62 1563.11 Q1238.15 1563.11 1234.9 1560.05 Q1231.69 1556.97 1231.69 1551.81 Q1231.69 1545.79 1235.7 1542.74 Q1239.74 1539.68 1247.73 1539.68 L1255.94 1539.68 L1255.94 1539.11 Q1255.94 1535.07 1253.27 1532.87 Q1250.62 1530.64 1245.82 1530.64 Q1242.76 1530.64 1239.87 1531.38 Q1236.97 1532.11 1234.3 1533.57 L1234.3 1528.16 Q1237.51 1526.92 1240.53 1526.31 Q1243.56 1525.68 1246.42 1525.68 Q1254.16 1525.68 1257.98 1529.69 Q1261.8 1533.7 1261.8 1541.85 Z\" fill=\"#000000\" fill-rule=\"evenodd\" fill-opacity=\"1\" /><path clip-path=\"url(#clip000)\" d=\"M 0 0 M1273.73 1516.42 L1273.73 1526.54 L1285.79 1526.54 L1285.79 1531.09 L1273.73 1531.09 L1273.73 1550.44 Q1273.73 1554.8 1274.91 1556.04 Q1276.12 1557.28 1279.78 1557.28 L1285.79 1557.28 L1285.79 1562.19 L1279.78 1562.19 Q1273 1562.19 1270.42 1559.67 Q1267.84 1557.12 1267.84 1550.44 L1267.84 1531.09 L1263.55 1531.09 L1263.55 1526.54 L1267.84 1526.54 L1267.84 1516.42 L1273.73 1516.42 Z\" fill=\"#000000\" fill-rule=\"evenodd\" fill-opacity=\"1\" /><path clip-path=\"url(#clip000)\" d=\"M 0 0 M1322.43 1542.9 L1322.43 1545.76 L1295.5 1545.76 Q1295.88 1551.81 1299.13 1554.99 Q1302.41 1558.14 1308.23 1558.14 Q1311.61 1558.14 1314.76 1557.32 Q1317.94 1556.49 1321.06 1554.83 L1321.06 1560.37 Q1317.91 1561.71 1314.6 1562.41 Q1311.29 1563.11 1307.88 1563.11 Q1299.35 1563.11 1294.36 1558.14 Q1289.39 1553.18 1289.39 1544.71 Q1289.39 1535.96 1294.1 1530.83 Q1298.84 1525.68 1306.87 1525.68 Q1314.06 1525.68 1318.23 1530.33 Q1322.43 1534.94 1322.43 1542.9 M1316.57 1541.18 Q1316.51 1536.37 1313.87 1533.51 Q1311.26 1530.64 1306.93 1530.64 Q1302.03 1530.64 1299.07 1533.41 Q1296.14 1536.18 1295.69 1541.21 L1316.57 1541.18 Z\" fill=\"#000000\" fill-rule=\"evenodd\" fill-opacity=\"1\" /><path clip-path=\"url(#clip000)\" d=\"M 0 0 M1351.3 1527.59 L1351.3 1533.13 Q1348.82 1531.85 1346.14 1531.22 Q1343.47 1530.58 1340.6 1530.58 Q1336.24 1530.58 1334.05 1531.92 Q1331.88 1533.25 1331.88 1535.93 Q1331.88 1537.96 1333.44 1539.14 Q1335 1540.29 1339.71 1541.34 L1341.72 1541.78 Q1347.96 1543.12 1350.57 1545.57 Q1353.21 1547.99 1353.21 1552.35 Q1353.21 1557.32 1349.26 1560.21 Q1345.35 1563.11 1338.47 1563.11 Q1335.61 1563.11 1332.49 1562.54 Q1329.4 1561.99 1325.96 1560.88 L1325.96 1554.83 Q1329.21 1556.52 1332.36 1557.38 Q1335.51 1558.21 1338.6 1558.21 Q1342.74 1558.21 1344.96 1556.81 Q1347.19 1555.37 1347.19 1552.8 Q1347.19 1550.41 1345.57 1549.14 Q1343.98 1547.86 1338.53 1546.68 L1336.5 1546.21 Q1331.05 1545.06 1328.64 1542.71 Q1326.22 1540.32 1326.22 1536.18 Q1326.22 1531.15 1329.78 1528.42 Q1333.35 1525.68 1339.9 1525.68 Q1343.15 1525.68 1346.01 1526.16 Q1348.88 1526.63 1351.3 1527.59 Z\" fill=\"#000000\" fill-rule=\"evenodd\" fill-opacity=\"1\" /><path clip-path=\"url(#clip000)\" d=\"M 0 0 M1379.53 1512.66 L1393.02 1512.66 L1393.02 1517.21 L1385.39 1517.21 L1385.39 1566.23 L1393.02 1566.23 L1393.02 1570.78 L1379.53 1570.78 L1379.53 1512.66 Z\" fill=\"#000000\" fill-rule=\"evenodd\" fill-opacity=\"1\" /><path clip-path=\"url(#clip000)\" d=\"M 0 0 M1415.3 1521 L1406.58 1544.65 L1424.06 1544.65 L1415.3 1521 M1411.68 1514.67 L1418.97 1514.67 L1437.08 1562.19 L1430.39 1562.19 L1426.06 1550 L1404.64 1550 L1400.31 1562.19 L1393.53 1562.19 L1411.68 1514.67 Z\" fill=\"#000000\" fill-rule=\"evenodd\" fill-opacity=\"1\" /><path clip-path=\"url(#clip000)\" d=\"M 0 0 M1448.88 1556.84 L1448.88 1575.74 L1443 1575.74 L1443 1526.54 L1448.88 1526.54 L1448.88 1531.95 Q1450.73 1528.77 1453.53 1527.24 Q1456.36 1525.68 1460.28 1525.68 Q1466.77 1525.68 1470.81 1530.83 Q1474.89 1535.99 1474.89 1544.39 Q1474.89 1552.8 1470.81 1557.95 Q1466.77 1563.11 1460.28 1563.11 Q1456.36 1563.11 1453.53 1561.58 Q1450.73 1560.02 1448.88 1556.84 M1468.81 1544.39 Q1468.81 1537.93 1466.14 1534.27 Q1463.49 1530.58 1458.85 1530.58 Q1454.2 1530.58 1451.53 1534.27 Q1448.88 1537.93 1448.88 1544.39 Q1448.88 1550.85 1451.53 1554.55 Q1454.2 1558.21 1458.85 1558.21 Q1463.49 1558.21 1466.14 1554.55 Q1468.81 1550.85 1468.81 1544.39 Z\" fill=\"#000000\" fill-rule=\"evenodd\" fill-opacity=\"1\" /><path clip-path=\"url(#clip000)\" d=\"M 0 0 M1486.7 1556.84 L1486.7 1575.74 L1480.81 1575.74 L1480.81 1526.54 L1486.7 1526.54 L1486.7 1531.95 Q1488.54 1528.77 1491.34 1527.24 Q1494.18 1525.68 1498.09 1525.68 Q1504.58 1525.68 1508.63 1530.83 Q1512.7 1535.99 1512.7 1544.39 Q1512.7 1552.8 1508.63 1557.95 Q1504.58 1563.11 1498.09 1563.11 Q1494.18 1563.11 1491.34 1561.58 Q1488.54 1560.02 1486.7 1556.84 M1506.62 1544.39 Q1506.62 1537.93 1503.95 1534.27 Q1501.31 1530.58 1496.66 1530.58 Q1492.01 1530.58 1489.34 1534.27 Q1486.7 1537.93 1486.7 1544.39 Q1486.7 1550.85 1489.34 1554.55 Q1492.01 1558.21 1496.66 1558.21 Q1501.31 1558.21 1503.95 1554.55 Q1506.62 1550.85 1506.62 1544.39 Z\" fill=\"#000000\" fill-rule=\"evenodd\" fill-opacity=\"1\" /><path clip-path=\"url(#clip000)\" d=\"M 0 0 M1539.5 1532.01 Q1538.51 1531.44 1537.34 1531.18 Q1536.19 1530.9 1534.79 1530.9 Q1529.82 1530.9 1527.15 1534.14 Q1524.51 1537.36 1524.51 1543.41 L1524.51 1562.19 L1518.62 1562.19 L1518.62 1526.54 L1524.51 1526.54 L1524.51 1532.08 Q1526.35 1528.83 1529.31 1527.27 Q1532.27 1525.68 1536.51 1525.68 Q1537.11 1525.68 1537.84 1525.77 Q1538.58 1525.84 1539.47 1526 L1539.5 1532.01 Z\" fill=\"#000000\" fill-rule=\"evenodd\" fill-opacity=\"1\" /><path clip-path=\"url(#clip000)\" d=\"M 0 0 M1558.02 1530.64 Q1553.31 1530.64 1550.58 1534.34 Q1547.84 1538 1547.84 1544.39 Q1547.84 1550.79 1550.54 1554.48 Q1553.28 1558.14 1558.02 1558.14 Q1562.7 1558.14 1565.44 1554.45 Q1568.18 1550.76 1568.18 1544.39 Q1568.18 1538.06 1565.44 1534.37 Q1562.7 1530.64 1558.02 1530.64 M1558.02 1525.68 Q1565.66 1525.68 1570.02 1530.64 Q1574.38 1535.61 1574.38 1544.39 Q1574.38 1553.15 1570.02 1558.14 Q1565.66 1563.11 1558.02 1563.11 Q1550.35 1563.11 1545.99 1558.14 Q1541.66 1553.15 1541.66 1544.39 Q1541.66 1535.61 1545.99 1530.64 Q1550.35 1525.68 1558.02 1525.68 Z\" fill=\"#000000\" fill-rule=\"evenodd\" fill-opacity=\"1\" /><path clip-path=\"url(#clip000)\" d=\"M 0 0 M1608.15 1526.54 L1595.26 1543.88 L1608.82 1562.19 L1601.92 1562.19 L1591.54 1548.18 L1581.16 1562.19 L1574.26 1562.19 L1588.1 1543.53 L1575.43 1526.54 L1582.34 1526.54 L1591.79 1539.24 L1601.25 1526.54 L1608.15 1526.54 Z\" fill=\"#000000\" fill-rule=\"evenodd\" fill-opacity=\"1\" /><path clip-path=\"url(#clip000)\" d=\"M 0 0 M1614.97 1526.54 L1620.82 1526.54 L1620.82 1562.19 L1614.97 1562.19 L1614.97 1526.54 M1614.97 1512.66 L1620.82 1512.66 L1620.82 1520.08 L1614.97 1520.08 L1614.97 1512.66 Z\" fill=\"#000000\" fill-rule=\"evenodd\" fill-opacity=\"1\" /><path clip-path=\"url(#clip000)\" d=\"M 0 0 M1654.72 1533.38 Q1656.92 1529.43 1659.97 1527.56 Q1663.03 1525.68 1667.16 1525.68 Q1672.73 1525.68 1675.76 1529.59 Q1678.78 1533.48 1678.78 1540.67 L1678.78 1562.19 L1672.89 1562.19 L1672.89 1540.86 Q1672.89 1535.74 1671.08 1533.25 Q1669.26 1530.77 1665.54 1530.77 Q1660.99 1530.77 1658.35 1533.79 Q1655.71 1536.82 1655.71 1542.04 L1655.71 1562.19 L1649.82 1562.19 L1649.82 1540.86 Q1649.82 1535.7 1648 1533.25 Q1646.19 1530.77 1642.4 1530.77 Q1637.91 1530.77 1635.27 1533.83 Q1632.63 1536.85 1632.63 1542.04 L1632.63 1562.19 L1626.74 1562.19 L1626.74 1526.54 L1632.63 1526.54 L1632.63 1532.08 Q1634.64 1528.8 1637.44 1527.24 Q1640.24 1525.68 1644.09 1525.68 Q1647.97 1525.68 1650.68 1527.65 Q1653.41 1529.62 1654.72 1533.38 Z\" fill=\"#000000\" fill-rule=\"evenodd\" fill-opacity=\"1\" /><path clip-path=\"url(#clip000)\" d=\"M 0 0 M1701.13 1544.27 Q1694.03 1544.27 1691.29 1545.89 Q1688.55 1547.51 1688.55 1551.43 Q1688.55 1554.55 1690.59 1556.39 Q1692.66 1558.21 1696.19 1558.21 Q1701.06 1558.21 1703.99 1554.77 Q1706.95 1551.3 1706.95 1545.57 L1706.95 1544.27 L1701.13 1544.27 M1712.81 1541.85 L1712.81 1562.19 L1706.95 1562.19 L1706.95 1556.77 Q1704.94 1560.02 1701.95 1561.58 Q1698.96 1563.11 1694.63 1563.11 Q1689.16 1563.11 1685.91 1560.05 Q1682.7 1556.97 1682.7 1551.81 Q1682.7 1545.79 1686.71 1542.74 Q1690.75 1539.68 1698.74 1539.68 L1706.95 1539.68 L1706.95 1539.11 Q1706.95 1535.07 1704.28 1532.87 Q1701.63 1530.64 1696.83 1530.64 Q1693.77 1530.64 1690.88 1531.38 Q1687.98 1532.11 1685.31 1533.57 L1685.31 1528.16 Q1688.52 1526.92 1691.54 1526.31 Q1694.57 1525.68 1697.43 1525.68 Q1705.17 1525.68 1708.99 1529.69 Q1712.81 1533.7 1712.81 1541.85 Z\" fill=\"#000000\" fill-rule=\"evenodd\" fill-opacity=\"1\" /><path clip-path=\"url(#clip000)\" d=\"M 0 0 M1724.74 1516.42 L1724.74 1526.54 L1736.8 1526.54 L1736.8 1531.09 L1724.74 1531.09 L1724.74 1550.44 Q1724.74 1554.8 1725.92 1556.04 Q1727.13 1557.28 1730.79 1557.28 L1736.8 1557.28 L1736.8 1562.19 L1730.79 1562.19 Q1724.01 1562.19 1721.43 1559.67 Q1718.85 1557.12 1718.85 1550.44 L1718.85 1531.09 L1714.56 1531.09 L1714.56 1526.54 L1718.85 1526.54 L1718.85 1516.42 L1724.74 1516.42 Z\" fill=\"#000000\" fill-rule=\"evenodd\" fill-opacity=\"1\" /><path clip-path=\"url(#clip000)\" d=\"M 0 0 M1773.44 1542.9 L1773.44 1545.76 L1746.51 1545.76 Q1746.89 1551.81 1750.14 1554.99 Q1753.42 1558.14 1759.24 1558.14 Q1762.62 1558.14 1765.77 1557.32 Q1768.95 1556.49 1772.07 1554.83 L1772.07 1560.37 Q1768.92 1561.71 1765.61 1562.41 Q1762.3 1563.11 1758.89 1563.11 Q1750.36 1563.11 1745.37 1558.14 Q1740.4 1553.18 1740.4 1544.71 Q1740.4 1535.96 1745.11 1530.83 Q1749.85 1525.68 1757.88 1525.68 Q1765.07 1525.68 1769.24 1530.33 Q1773.44 1534.94 1773.44 1542.9 M1767.58 1541.18 Q1767.52 1536.37 1764.88 1533.51 Q1762.27 1530.64 1757.94 1530.64 Q1753.04 1530.64 1750.08 1533.41 Q1747.15 1536.18 1746.7 1541.21 L1767.58 1541.18 Z\" fill=\"#000000\" fill-rule=\"evenodd\" fill-opacity=\"1\" /><path clip-path=\"url(#clip000)\" d=\"M 0 0 M1793.27 1512.66 L1793.27 1570.78 L1779.77 1570.78 L1779.77 1566.23 L1787.38 1566.23 L1787.38 1517.21 L1779.77 1517.21 L1779.77 1512.66 L1793.27 1512.66 Z\" fill=\"#000000\" fill-rule=\"evenodd\" fill-opacity=\"1\" /><polyline clip-path=\"url(#clip002)\" style=\"stroke:#000000; stroke-width:2; stroke-opacity:0.1; fill:none\" points=\"\n",
       "  2352.76,1280.41 261.324,1280.41 \n",
       "  \"/>\n",
       "<polyline clip-path=\"url(#clip002)\" style=\"stroke:#000000; stroke-width:2; stroke-opacity:0.1; fill:none\" points=\"\n",
       "  2352.76,1050.69 261.324,1050.69 \n",
       "  \"/>\n",
       "<polyline clip-path=\"url(#clip002)\" style=\"stroke:#000000; stroke-width:2; stroke-opacity:0.1; fill:none\" points=\"\n",
       "  2352.76,820.961 261.324,820.961 \n",
       "  \"/>\n",
       "<polyline clip-path=\"url(#clip002)\" style=\"stroke:#000000; stroke-width:2; stroke-opacity:0.1; fill:none\" points=\"\n",
       "  2352.76,591.235 261.324,591.235 \n",
       "  \"/>\n",
       "<polyline clip-path=\"url(#clip002)\" style=\"stroke:#000000; stroke-width:2; stroke-opacity:0.1; fill:none\" points=\"\n",
       "  2352.76,361.509 261.324,361.509 \n",
       "  \"/>\n",
       "<polyline clip-path=\"url(#clip002)\" style=\"stroke:#000000; stroke-width:2; stroke-opacity:0.1; fill:none\" points=\"\n",
       "  2352.76,131.783 261.324,131.783 \n",
       "  \"/>\n",
       "<polyline clip-path=\"url(#clip000)\" style=\"stroke:#000000; stroke-width:4; stroke-opacity:1; fill:none\" points=\"\n",
       "  261.324,1410.9 261.324,47.2441 \n",
       "  \"/>\n",
       "<polyline clip-path=\"url(#clip000)\" style=\"stroke:#000000; stroke-width:4; stroke-opacity:1; fill:none\" points=\"\n",
       "  261.324,1280.41 286.422,1280.41 \n",
       "  \"/>\n",
       "<polyline clip-path=\"url(#clip000)\" style=\"stroke:#000000; stroke-width:4; stroke-opacity:1; fill:none\" points=\"\n",
       "  261.324,1050.69 286.422,1050.69 \n",
       "  \"/>\n",
       "<polyline clip-path=\"url(#clip000)\" style=\"stroke:#000000; stroke-width:4; stroke-opacity:1; fill:none\" points=\"\n",
       "  261.324,820.961 286.422,820.961 \n",
       "  \"/>\n",
       "<polyline clip-path=\"url(#clip000)\" style=\"stroke:#000000; stroke-width:4; stroke-opacity:1; fill:none\" points=\"\n",
       "  261.324,591.235 286.422,591.235 \n",
       "  \"/>\n",
       "<polyline clip-path=\"url(#clip000)\" style=\"stroke:#000000; stroke-width:4; stroke-opacity:1; fill:none\" points=\"\n",
       "  261.324,361.509 286.422,361.509 \n",
       "  \"/>\n",
       "<polyline clip-path=\"url(#clip000)\" style=\"stroke:#000000; stroke-width:4; stroke-opacity:1; fill:none\" points=\"\n",
       "  261.324,131.783 286.422,131.783 \n",
       "  \"/>\n",
       "<path clip-path=\"url(#clip000)\" d=\"M 0 0 M114.931 1293.76 L122.57 1293.76 L122.57 1267.39 L114.26 1269.06 L114.26 1264.8 L122.524 1263.13 L127.2 1263.13 L127.2 1293.76 L134.839 1293.76 L134.839 1297.69 L114.931 1297.69 L114.931 1293.76 Z\" fill=\"#000000\" fill-rule=\"evenodd\" fill-opacity=\"1\" /><path clip-path=\"url(#clip000)\" d=\"M 0 0 M152.755 1267.21 L140.95 1285.66 L152.755 1285.66 L152.755 1267.21 M151.528 1263.13 L157.408 1263.13 L157.408 1285.66 L162.339 1285.66 L162.339 1289.54 L157.408 1289.54 L157.408 1297.69 L152.755 1297.69 L152.755 1289.54 L137.154 1289.54 L137.154 1285.03 L151.528 1263.13 Z\" fill=\"#000000\" fill-rule=\"evenodd\" fill-opacity=\"1\" /><path clip-path=\"url(#clip000)\" d=\"M 0 0 M167.408 1291.81 L172.292 1291.81 L172.292 1297.69 L167.408 1297.69 L167.408 1291.81 Z\" fill=\"#000000\" fill-rule=\"evenodd\" fill-opacity=\"1\" /><path clip-path=\"url(#clip000)\" d=\"M 0 0 M177.408 1263.13 L195.764 1263.13 L195.764 1267.07 L181.69 1267.07 L181.69 1275.54 Q182.709 1275.19 183.727 1275.03 Q184.746 1274.85 185.764 1274.85 Q191.551 1274.85 194.931 1278.02 Q198.311 1281.19 198.311 1286.6 Q198.311 1292.18 194.838 1295.28 Q191.366 1298.36 185.047 1298.36 Q182.871 1298.36 180.602 1297.99 Q178.357 1297.62 175.95 1296.88 L175.95 1292.18 Q178.033 1293.32 180.255 1293.87 Q182.477 1294.43 184.954 1294.43 Q188.959 1294.43 191.297 1292.32 Q193.635 1290.22 193.635 1286.6 Q193.635 1282.99 191.297 1280.89 Q188.959 1278.78 184.954 1278.78 Q183.079 1278.78 181.204 1279.2 Q179.352 1279.61 177.408 1280.49 L177.408 1263.13 Z\" fill=\"#000000\" fill-rule=\"evenodd\" fill-opacity=\"1\" /><path clip-path=\"url(#clip000)\" d=\"M 0 0 M213.38 1266.21 Q209.769 1266.21 207.94 1269.78 Q206.135 1273.32 206.135 1280.45 Q206.135 1287.55 207.94 1291.12 Q209.769 1294.66 213.38 1294.66 Q217.014 1294.66 218.82 1291.12 Q220.648 1287.55 220.648 1280.45 Q220.648 1273.32 218.82 1269.78 Q217.014 1266.21 213.38 1266.21 M213.38 1262.51 Q219.19 1262.51 222.246 1267.11 Q225.324 1271.7 225.324 1280.45 Q225.324 1289.17 222.246 1293.78 Q219.19 1298.36 213.38 1298.36 Q207.57 1298.36 204.491 1293.78 Q201.436 1289.17 201.436 1280.45 Q201.436 1271.7 204.491 1267.11 Q207.57 1262.51 213.38 1262.51 Z\" fill=\"#000000\" fill-rule=\"evenodd\" fill-opacity=\"1\" /><path clip-path=\"url(#clip000)\" d=\"M 0 0 M115.834 1064.03 L123.473 1064.03 L123.473 1037.67 L115.163 1039.33 L115.163 1035.07 L123.427 1033.41 L128.103 1033.41 L128.103 1064.03 L135.742 1064.03 L135.742 1067.97 L115.834 1067.97 L115.834 1064.03 Z\" fill=\"#000000\" fill-rule=\"evenodd\" fill-opacity=\"1\" /><path clip-path=\"url(#clip000)\" d=\"M 0 0 M153.658 1037.48 L141.853 1055.93 L153.658 1055.93 L153.658 1037.48 M152.431 1033.41 L158.311 1033.41 L158.311 1055.93 L163.241 1055.93 L163.241 1059.82 L158.311 1059.82 L158.311 1067.97 L153.658 1067.97 L153.658 1059.82 L138.056 1059.82 L138.056 1055.3 L152.431 1033.41 Z\" fill=\"#000000\" fill-rule=\"evenodd\" fill-opacity=\"1\" /><path clip-path=\"url(#clip000)\" d=\"M 0 0 M168.311 1062.09 L173.195 1062.09 L173.195 1067.97 L168.311 1067.97 L168.311 1062.09 Z\" fill=\"#000000\" fill-rule=\"evenodd\" fill-opacity=\"1\" /><path clip-path=\"url(#clip000)\" d=\"M 0 0 M177.084 1033.41 L199.306 1033.41 L199.306 1035.4 L186.76 1067.97 L181.876 1067.97 L193.681 1037.34 L177.084 1037.34 L177.084 1033.41 Z\" fill=\"#000000\" fill-rule=\"evenodd\" fill-opacity=\"1\" /><path clip-path=\"url(#clip000)\" d=\"M 0 0 M204.422 1033.41 L222.778 1033.41 L222.778 1037.34 L208.704 1037.34 L208.704 1045.81 Q209.723 1045.47 210.741 1045.3 Q211.76 1045.12 212.778 1045.12 Q218.565 1045.12 221.945 1048.29 Q225.324 1051.46 225.324 1056.88 Q225.324 1062.46 221.852 1065.56 Q218.38 1068.64 212.061 1068.64 Q209.885 1068.64 207.616 1068.27 Q205.371 1067.9 202.963 1067.16 L202.963 1062.46 Q205.047 1063.59 207.269 1064.15 Q209.491 1064.7 211.968 1064.7 Q215.973 1064.7 218.311 1062.6 Q220.648 1060.49 220.648 1056.88 Q220.648 1053.27 218.311 1051.16 Q215.973 1049.05 211.968 1049.05 Q210.093 1049.05 208.218 1049.47 Q206.366 1049.89 204.422 1050.77 L204.422 1033.41 Z\" fill=\"#000000\" fill-rule=\"evenodd\" fill-opacity=\"1\" /><path clip-path=\"url(#clip000)\" d=\"M 0 0 M115.418 834.306 L123.056 834.306 L123.056 807.94 L114.746 809.607 L114.746 805.347 L123.01 803.681 L127.686 803.681 L127.686 834.306 L135.325 834.306 L135.325 838.241 L115.418 838.241 L115.418 834.306 Z\" fill=\"#000000\" fill-rule=\"evenodd\" fill-opacity=\"1\" /><path clip-path=\"url(#clip000)\" d=\"M 0 0 M140.441 803.681 L158.797 803.681 L158.797 807.616 L144.723 807.616 L144.723 816.088 Q145.741 815.741 146.76 815.579 Q147.778 815.394 148.797 815.394 Q154.584 815.394 157.964 818.565 Q161.343 821.736 161.343 827.153 Q161.343 832.731 157.871 835.833 Q154.399 838.912 148.079 838.912 Q145.904 838.912 143.635 838.542 Q141.39 838.171 138.982 837.431 L138.982 832.731 Q141.066 833.866 143.288 834.421 Q145.51 834.977 147.987 834.977 Q151.991 834.977 154.329 832.87 Q156.667 830.764 156.667 827.153 Q156.667 823.542 154.329 821.435 Q151.991 819.329 147.987 819.329 Q146.112 819.329 144.237 819.745 Q142.385 820.162 140.441 821.042 L140.441 803.681 Z\" fill=\"#000000\" fill-rule=\"evenodd\" fill-opacity=\"1\" /><path clip-path=\"url(#clip000)\" d=\"M 0 0 M166.413 832.361 L171.297 832.361 L171.297 838.241 L166.413 838.241 L166.413 832.361 Z\" fill=\"#000000\" fill-rule=\"evenodd\" fill-opacity=\"1\" /><path clip-path=\"url(#clip000)\" d=\"M 0 0 M186.366 806.759 Q182.755 806.759 180.926 810.324 Q179.121 813.866 179.121 820.995 Q179.121 828.102 180.926 831.667 Q182.755 835.208 186.366 835.208 Q190 835.208 191.806 831.667 Q193.635 828.102 193.635 820.995 Q193.635 813.866 191.806 810.324 Q190 806.759 186.366 806.759 M186.366 803.056 Q192.176 803.056 195.232 807.662 Q198.311 812.245 198.311 820.995 Q198.311 829.722 195.232 834.329 Q192.176 838.912 186.366 838.912 Q180.556 838.912 177.477 834.329 Q174.422 829.722 174.422 820.995 Q174.422 812.245 177.477 807.662 Q180.556 803.056 186.366 803.056 Z\" fill=\"#000000\" fill-rule=\"evenodd\" fill-opacity=\"1\" /><path clip-path=\"url(#clip000)\" d=\"M 0 0 M213.38 806.759 Q209.769 806.759 207.94 810.324 Q206.135 813.866 206.135 820.995 Q206.135 828.102 207.94 831.667 Q209.769 835.208 213.38 835.208 Q217.014 835.208 218.82 831.667 Q220.648 828.102 220.648 820.995 Q220.648 813.866 218.82 810.324 Q217.014 806.759 213.38 806.759 M213.38 803.056 Q219.19 803.056 222.246 807.662 Q225.324 812.245 225.324 820.995 Q225.324 829.722 222.246 834.329 Q219.19 838.912 213.38 838.912 Q207.57 838.912 204.491 834.329 Q201.436 829.722 201.436 820.995 Q201.436 812.245 204.491 807.662 Q207.57 803.056 213.38 803.056 Z\" fill=\"#000000\" fill-rule=\"evenodd\" fill-opacity=\"1\" /><path clip-path=\"url(#clip000)\" d=\"M 0 0 M118.01 604.58 L125.649 604.58 L125.649 578.214 L117.339 579.881 L117.339 575.622 L125.603 573.955 L130.279 573.955 L130.279 604.58 L137.917 604.58 L137.917 608.515 L118.01 608.515 L118.01 604.58 Z\" fill=\"#000000\" fill-rule=\"evenodd\" fill-opacity=\"1\" /><path clip-path=\"url(#clip000)\" d=\"M 0 0 M143.033 573.955 L161.39 573.955 L161.39 577.89 L147.316 577.89 L147.316 586.362 Q148.334 586.015 149.353 585.853 Q150.371 585.668 151.39 585.668 Q157.177 585.668 160.556 588.839 Q163.936 592.01 163.936 597.427 Q163.936 603.006 160.464 606.107 Q156.991 609.186 150.672 609.186 Q148.496 609.186 146.228 608.816 Q143.982 608.445 141.575 607.705 L141.575 603.006 Q143.658 604.14 145.88 604.695 Q148.103 605.251 150.579 605.251 Q154.584 605.251 156.922 603.145 Q159.26 601.038 159.26 597.427 Q159.26 593.816 156.922 591.709 Q154.584 589.603 150.579 589.603 Q148.704 589.603 146.829 590.02 Q144.978 590.436 143.033 591.316 L143.033 573.955 Z\" fill=\"#000000\" fill-rule=\"evenodd\" fill-opacity=\"1\" /><path clip-path=\"url(#clip000)\" d=\"M 0 0 M169.005 602.635 L173.889 602.635 L173.889 608.515 L169.005 608.515 L169.005 602.635 Z\" fill=\"#000000\" fill-rule=\"evenodd\" fill-opacity=\"1\" /><path clip-path=\"url(#clip000)\" d=\"M 0 0 M182.987 604.58 L199.306 604.58 L199.306 608.515 L177.362 608.515 L177.362 604.58 Q180.024 601.825 184.607 597.195 Q189.213 592.543 190.394 591.2 Q192.639 588.677 193.519 586.941 Q194.422 585.182 194.422 583.492 Q194.422 580.737 192.477 579.001 Q190.556 577.265 187.454 577.265 Q185.255 577.265 182.801 578.029 Q180.371 578.793 177.593 580.344 L177.593 575.622 Q180.417 574.487 182.871 573.909 Q185.325 573.33 187.362 573.33 Q192.732 573.33 195.926 576.015 Q199.121 578.7 199.121 583.191 Q199.121 585.321 198.311 587.242 Q197.524 589.14 195.417 591.733 Q194.838 592.404 191.737 595.621 Q188.635 598.816 182.987 604.58 Z\" fill=\"#000000\" fill-rule=\"evenodd\" fill-opacity=\"1\" /><path clip-path=\"url(#clip000)\" d=\"M 0 0 M204.422 573.955 L222.778 573.955 L222.778 577.89 L208.704 577.89 L208.704 586.362 Q209.723 586.015 210.741 585.853 Q211.76 585.668 212.778 585.668 Q218.565 585.668 221.945 588.839 Q225.324 592.01 225.324 597.427 Q225.324 603.006 221.852 606.107 Q218.38 609.186 212.061 609.186 Q209.885 609.186 207.616 608.816 Q205.371 608.445 202.963 607.705 L202.963 603.006 Q205.047 604.14 207.269 604.695 Q209.491 605.251 211.968 605.251 Q215.973 605.251 218.311 603.145 Q220.648 601.038 220.648 597.427 Q220.648 593.816 218.311 591.709 Q215.973 589.603 211.968 589.603 Q210.093 589.603 208.218 590.02 Q206.366 590.436 204.422 591.316 L204.422 573.955 Z\" fill=\"#000000\" fill-rule=\"evenodd\" fill-opacity=\"1\" /><path clip-path=\"url(#clip000)\" d=\"M 0 0 M116.413 374.854 L124.052 374.854 L124.052 348.488 L115.742 350.155 L115.742 345.896 L124.005 344.229 L128.681 344.229 L128.681 374.854 L136.32 374.854 L136.32 378.789 L116.413 378.789 L116.413 374.854 Z\" fill=\"#000000\" fill-rule=\"evenodd\" fill-opacity=\"1\" /><path clip-path=\"url(#clip000)\" d=\"M 0 0 M141.436 344.229 L159.792 344.229 L159.792 348.164 L145.718 348.164 L145.718 356.636 Q146.737 356.289 147.755 356.127 Q148.774 355.942 149.792 355.942 Q155.579 355.942 158.959 359.113 Q162.339 362.284 162.339 367.701 Q162.339 373.28 158.866 376.382 Q155.394 379.46 149.075 379.46 Q146.899 379.46 144.63 379.09 Q142.385 378.72 139.978 377.979 L139.978 373.28 Q142.061 374.414 144.283 374.97 Q146.505 375.525 148.982 375.525 Q152.987 375.525 155.325 373.419 Q157.663 371.312 157.663 367.701 Q157.663 364.09 155.325 361.984 Q152.987 359.877 148.982 359.877 Q147.107 359.877 145.232 360.294 Q143.38 360.71 141.436 361.59 L141.436 344.229 Z\" fill=\"#000000\" fill-rule=\"evenodd\" fill-opacity=\"1\" /><path clip-path=\"url(#clip000)\" d=\"M 0 0 M167.408 372.909 L172.292 372.909 L172.292 378.789 L167.408 378.789 L167.408 372.909 Z\" fill=\"#000000\" fill-rule=\"evenodd\" fill-opacity=\"1\" /><path clip-path=\"url(#clip000)\" d=\"M 0 0 M177.408 344.229 L195.764 344.229 L195.764 348.164 L181.69 348.164 L181.69 356.636 Q182.709 356.289 183.727 356.127 Q184.746 355.942 185.764 355.942 Q191.551 355.942 194.931 359.113 Q198.311 362.284 198.311 367.701 Q198.311 373.28 194.838 376.382 Q191.366 379.46 185.047 379.46 Q182.871 379.46 180.602 379.09 Q178.357 378.72 175.95 377.979 L175.95 373.28 Q178.033 374.414 180.255 374.97 Q182.477 375.525 184.954 375.525 Q188.959 375.525 191.297 373.419 Q193.635 371.312 193.635 367.701 Q193.635 364.09 191.297 361.984 Q188.959 359.877 184.954 359.877 Q183.079 359.877 181.204 360.294 Q179.352 360.71 177.408 361.59 L177.408 344.229 Z\" fill=\"#000000\" fill-rule=\"evenodd\" fill-opacity=\"1\" /><path clip-path=\"url(#clip000)\" d=\"M 0 0 M213.38 347.308 Q209.769 347.308 207.94 350.873 Q206.135 354.414 206.135 361.544 Q206.135 368.65 207.94 372.215 Q209.769 375.757 213.38 375.757 Q217.014 375.757 218.82 372.215 Q220.648 368.65 220.648 361.544 Q220.648 354.414 218.82 350.873 Q217.014 347.308 213.38 347.308 M213.38 343.604 Q219.19 343.604 222.246 348.21 Q225.324 352.794 225.324 361.544 Q225.324 370.271 222.246 374.877 Q219.19 379.46 213.38 379.46 Q207.57 379.46 204.491 374.877 Q201.436 370.271 201.436 361.544 Q201.436 352.794 204.491 348.21 Q207.57 343.604 213.38 343.604 Z\" fill=\"#000000\" fill-rule=\"evenodd\" fill-opacity=\"1\" /><path clip-path=\"url(#clip000)\" d=\"M 0 0 M117.316 145.128 L124.955 145.128 L124.955 118.762 L116.644 120.429 L116.644 116.17 L124.908 114.503 L129.584 114.503 L129.584 145.128 L137.223 145.128 L137.223 149.063 L117.316 149.063 L117.316 145.128 Z\" fill=\"#000000\" fill-rule=\"evenodd\" fill-opacity=\"1\" /><path clip-path=\"url(#clip000)\" d=\"M 0 0 M142.339 114.503 L160.695 114.503 L160.695 118.438 L146.621 118.438 L146.621 126.911 Q147.64 126.563 148.658 126.401 Q149.677 126.216 150.695 126.216 Q156.482 126.216 159.862 129.387 Q163.241 132.559 163.241 137.975 Q163.241 143.554 159.769 146.656 Q156.297 149.734 149.978 149.734 Q147.802 149.734 145.533 149.364 Q143.288 148.994 140.88 148.253 L140.88 143.554 Q142.964 144.688 145.186 145.244 Q147.408 145.799 149.885 145.799 Q153.89 145.799 156.228 143.693 Q158.565 141.586 158.565 137.975 Q158.565 134.364 156.228 132.258 Q153.89 130.151 149.885 130.151 Q148.01 130.151 146.135 130.568 Q144.283 130.985 142.339 131.864 L142.339 114.503 Z\" fill=\"#000000\" fill-rule=\"evenodd\" fill-opacity=\"1\" /><path clip-path=\"url(#clip000)\" d=\"M 0 0 M168.311 143.184 L173.195 143.184 L173.195 149.063 L168.311 149.063 L168.311 143.184 Z\" fill=\"#000000\" fill-rule=\"evenodd\" fill-opacity=\"1\" /><path clip-path=\"url(#clip000)\" d=\"M 0 0 M177.084 114.503 L199.306 114.503 L199.306 116.494 L186.76 149.063 L181.876 149.063 L193.681 118.438 L177.084 118.438 L177.084 114.503 Z\" fill=\"#000000\" fill-rule=\"evenodd\" fill-opacity=\"1\" /><path clip-path=\"url(#clip000)\" d=\"M 0 0 M204.422 114.503 L222.778 114.503 L222.778 118.438 L208.704 118.438 L208.704 126.911 Q209.723 126.563 210.741 126.401 Q211.76 126.216 212.778 126.216 Q218.565 126.216 221.945 129.387 Q225.324 132.559 225.324 137.975 Q225.324 143.554 221.852 146.656 Q218.38 149.734 212.061 149.734 Q209.885 149.734 207.616 149.364 Q205.371 148.994 202.963 148.253 L202.963 143.554 Q205.047 144.688 207.269 145.244 Q209.491 145.799 211.968 145.799 Q215.973 145.799 218.311 143.693 Q220.648 141.586 220.648 137.975 Q220.648 134.364 218.311 132.258 Q215.973 130.151 211.968 130.151 Q210.093 130.151 208.218 130.568 Q206.366 130.985 204.422 131.864 L204.422 114.503 Z\" fill=\"#000000\" fill-rule=\"evenodd\" fill-opacity=\"1\" /><path clip-path=\"url(#clip000)\" d=\"M 0 0 M81.2247 1022.23 L68.4614 1022.23 L68.4614 1032.73 L63.1779 1032.73 L63.1779 1015.86 L83.58 1015.86 Q86.2218 1019.59 87.5904 1024.07 Q88.9272 1028.56 88.9272 1033.65 Q88.9272 1044.79 82.4342 1051.1 Q75.9093 1057.37 64.2919 1057.37 Q52.6427 1057.37 46.1496 1051.1 Q39.6248 1044.79 39.6248 1033.65 Q39.6248 1029.01 40.7706 1024.84 Q41.9164 1020.64 44.1444 1017.1 L50.9876 1017.1 Q47.9639 1020.67 46.4361 1024.68 Q44.9083 1028.69 44.9083 1033.11 Q44.9083 1041.83 49.7781 1046.23 Q54.6479 1050.59 64.2919 1050.59 Q73.9041 1050.59 78.7739 1046.23 Q83.6436 1041.83 83.6436 1033.11 Q83.6436 1029.71 83.0707 1027.03 Q82.466 1024.36 81.2247 1022.23 Z\" fill=\"#000000\" fill-rule=\"evenodd\" fill-opacity=\"1\" /><path clip-path=\"url(#clip000)\" d=\"M 0 0 M38.479 1009.72 L38.479 1003.86 L88.0042 1003.86 L88.0042 1009.72 L38.479 1009.72 Z\" fill=\"#000000\" fill-rule=\"evenodd\" fill-opacity=\"1\" /><path clip-path=\"url(#clip000)\" d=\"M 0 0 M56.4621 983.906 Q56.4621 988.616 60.1542 991.353 Q63.8145 994.091 70.212 994.091 Q76.6095 994.091 80.3017 991.385 Q83.9619 988.648 83.9619 983.906 Q83.9619 979.227 80.2698 976.489 Q76.5777 973.752 70.212 973.752 Q63.8781 973.752 60.186 976.489 Q56.4621 979.227 56.4621 983.906 M51.4968 983.906 Q51.4968 976.267 56.4621 971.906 Q61.4273 967.546 70.212 967.546 Q78.9649 967.546 83.9619 971.906 Q88.9272 976.267 88.9272 983.906 Q88.9272 991.576 83.9619 995.937 Q78.9649 1000.27 70.212 1000.27 Q61.4273 1000.27 56.4621 995.937 Q51.4968 991.576 51.4968 983.906 Z\" fill=\"#000000\" fill-rule=\"evenodd\" fill-opacity=\"1\" /><path clip-path=\"url(#clip000)\" d=\"M 0 0 M70.212 935.813 Q63.7508 935.813 60.0905 938.486 Q56.3984 941.128 56.3984 945.775 Q56.3984 950.422 60.0905 953.095 Q63.7508 955.737 70.212 955.737 Q76.6732 955.737 80.3653 953.095 Q84.0256 950.422 84.0256 945.775 Q84.0256 941.128 80.3653 938.486 Q76.6732 935.813 70.212 935.813 M57.7671 955.737 Q54.5842 953.891 53.0564 951.09 Q51.4968 948.258 51.4968 944.343 Q51.4968 937.85 56.6531 933.807 Q61.8093 929.733 70.212 929.733 Q78.6147 929.733 83.771 933.807 Q88.9272 937.85 88.9272 944.343 Q88.9272 948.258 87.3994 951.09 Q85.8398 953.891 82.657 955.737 L88.0042 955.737 L88.0042 961.626 L38.479 961.626 L38.479 955.737 L57.7671 955.737 Z\" fill=\"#000000\" fill-rule=\"evenodd\" fill-opacity=\"1\" /><path clip-path=\"url(#clip000)\" d=\"M 0 0 M70.0847 907.39 Q70.0847 914.487 71.7079 917.225 Q73.3312 919.962 77.2461 919.962 Q80.3653 919.962 82.2114 917.925 Q84.0256 915.856 84.0256 912.323 Q84.0256 907.453 80.5881 904.525 Q77.1188 901.565 71.3897 901.565 L70.0847 901.565 L70.0847 907.39 M67.6657 895.709 L88.0042 895.709 L88.0042 901.565 L82.5933 901.565 Q85.8398 903.57 87.3994 906.562 Q88.9272 909.554 88.9272 913.883 Q88.9272 919.357 85.8716 922.604 Q82.7843 925.818 77.6281 925.818 Q71.6125 925.818 68.5569 921.808 Q65.5014 917.766 65.5014 909.777 L65.5014 901.565 L64.9285 901.565 Q60.8862 901.565 58.6901 904.239 Q56.4621 906.88 56.4621 911.687 Q56.4621 914.742 57.1941 917.639 Q57.9262 920.535 59.3903 923.209 L53.9795 923.209 Q52.7381 919.994 52.1334 916.97 Q51.4968 913.946 51.4968 911.082 Q51.4968 903.348 55.5072 899.528 Q59.5176 895.709 67.6657 895.709 Z\" fill=\"#000000\" fill-rule=\"evenodd\" fill-opacity=\"1\" /><path clip-path=\"url(#clip000)\" d=\"M 0 0 M38.479 889.566 L38.479 883.709 L88.0042 883.709 L88.0042 889.566 L38.479 889.566 Z\" fill=\"#000000\" fill-rule=\"evenodd\" fill-opacity=\"1\" /><path clip-path=\"url(#clip000)\" d=\"M 0 0 M40.4842 863.18 L40.4842 822.98 L45.895 822.98 L45.895 839.85 L88.0042 839.85 L88.0042 846.311 L45.895 846.311 L45.895 863.18 L40.4842 863.18 Z\" fill=\"#000000\" fill-rule=\"evenodd\" fill-opacity=\"1\" /><path clip-path=\"url(#clip000)\" d=\"M 0 0 M68.7161 797.422 L71.5806 797.422 L71.5806 824.349 Q77.6281 823.967 80.8109 820.721 Q83.9619 817.442 83.9619 811.618 Q83.9619 808.244 83.1344 805.093 Q82.3069 801.91 80.6518 798.791 L86.1899 798.791 Q87.5267 801.942 88.227 805.252 Q88.9272 808.562 88.9272 811.968 Q88.9272 820.498 83.9619 825.495 Q78.9967 830.46 70.5303 830.46 Q61.7774 830.46 56.6531 825.75 Q51.4968 821.007 51.4968 812.986 Q51.4968 805.793 56.1438 801.624 Q60.7589 797.422 68.7161 797.422 M66.9973 803.279 Q62.1912 803.342 59.3266 805.984 Q56.4621 808.594 56.4621 812.923 Q56.4621 817.824 59.2312 820.784 Q62.0002 823.713 67.0292 824.158 L66.9973 803.279 Z\" fill=\"#000000\" fill-rule=\"evenodd\" fill-opacity=\"1\" /><path clip-path=\"url(#clip000)\" d=\"M 0 0 M59.1993 763.525 Q55.2526 761.329 53.3747 758.273 Q51.4968 755.218 51.4968 751.08 Q51.4968 745.51 55.4117 742.486 Q59.2948 739.462 66.4881 739.462 L88.0042 739.462 L88.0042 745.351 L66.679 745.351 Q61.5546 745.351 59.072 747.165 Q56.5894 748.979 56.5894 752.703 Q56.5894 757.255 59.6131 759.896 Q62.6368 762.538 67.8567 762.538 L88.0042 762.538 L88.0042 768.426 L66.679 768.426 Q61.5228 768.426 59.072 770.241 Q56.5894 772.055 56.5894 775.842 Q56.5894 780.33 59.6449 782.972 Q62.6686 785.614 67.8567 785.614 L88.0042 785.614 L88.0042 791.502 L52.3562 791.502 L52.3562 785.614 L57.8944 785.614 Q54.616 783.609 53.0564 780.808 Q51.4968 778.007 51.4968 774.155 Q51.4968 770.272 53.4702 767.567 Q55.4436 764.83 59.1993 763.525 Z\" fill=\"#000000\" fill-rule=\"evenodd\" fill-opacity=\"1\" /><path clip-path=\"url(#clip000)\" d=\"M 0 0 M82.657 727.654 L101.563 727.654 L101.563 733.542 L52.3562 733.542 L52.3562 727.654 L57.7671 727.654 Q54.5842 725.808 53.0564 723.007 Q51.4968 720.174 51.4968 716.259 Q51.4968 709.766 56.6531 705.724 Q61.8093 701.65 70.212 701.65 Q78.6147 701.65 83.771 705.724 Q88.9272 709.766 88.9272 716.259 Q88.9272 720.174 87.3994 723.007 Q85.8398 725.808 82.657 727.654 M70.212 707.729 Q63.7508 707.729 60.0905 710.403 Q56.3984 713.045 56.3984 717.692 Q56.3984 722.339 60.0905 725.012 Q63.7508 727.654 70.212 727.654 Q76.6732 727.654 80.3653 725.012 Q84.0256 722.339 84.0256 717.692 Q84.0256 713.045 80.3653 710.403 Q76.6732 707.729 70.212 707.729 Z\" fill=\"#000000\" fill-rule=\"evenodd\" fill-opacity=\"1\" /><path clip-path=\"url(#clip000)\" d=\"M 0 0 M68.7161 665.015 L71.5806 665.015 L71.5806 691.942 Q77.6281 691.56 80.8109 688.314 Q83.9619 685.036 83.9619 679.211 Q83.9619 675.837 83.1344 672.686 Q82.3069 669.503 80.6518 666.384 L86.1899 666.384 Q87.5267 669.535 88.227 672.845 Q88.9272 676.155 88.9272 679.561 Q88.9272 688.091 83.9619 693.088 Q78.9967 698.053 70.5303 698.053 Q61.7774 698.053 56.6531 693.343 Q51.4968 688.6 51.4968 680.58 Q51.4968 673.386 56.1438 669.217 Q60.7589 665.015 68.7161 665.015 M66.9973 670.872 Q62.1912 670.936 59.3266 673.577 Q56.4621 676.187 56.4621 680.516 Q56.4621 685.418 59.2312 688.378 Q62.0002 691.306 67.0292 691.751 L66.9973 670.872 Z\" fill=\"#000000\" fill-rule=\"evenodd\" fill-opacity=\"1\" /><path clip-path=\"url(#clip000)\" d=\"M 0 0 M57.8307 638.216 Q57.2578 639.203 57.0032 640.38 Q56.7167 641.526 56.7167 642.926 Q56.7167 647.892 59.9632 650.565 Q63.1779 653.207 69.2253 653.207 L88.0042 653.207 L88.0042 659.095 L52.3562 659.095 L52.3562 653.207 L57.8944 653.207 Q54.6479 651.361 53.0883 648.401 Q51.4968 645.441 51.4968 641.208 Q51.4968 640.603 51.5923 639.871 Q51.656 639.139 51.8151 638.248 L57.8307 638.216 Z\" fill=\"#000000\" fill-rule=\"evenodd\" fill-opacity=\"1\" /><path clip-path=\"url(#clip000)\" d=\"M 0 0 M70.0847 615.872 Q70.0847 622.97 71.7079 625.707 Q73.3312 628.444 77.2461 628.444 Q80.3653 628.444 82.2114 626.407 Q84.0256 624.339 84.0256 620.806 Q84.0256 615.936 80.5881 613.008 Q77.1188 610.048 71.3897 610.048 L70.0847 610.048 L70.0847 615.872 M67.6657 604.191 L88.0042 604.191 L88.0042 610.048 L82.5933 610.048 Q85.8398 612.053 87.3994 615.045 Q88.9272 618.037 88.9272 622.365 Q88.9272 627.84 85.8716 631.086 Q82.7843 634.301 77.6281 634.301 Q71.6125 634.301 68.5569 630.291 Q65.5014 626.248 65.5014 618.259 L65.5014 610.048 L64.9285 610.048 Q60.8862 610.048 58.6901 612.721 Q56.4621 615.363 56.4621 620.169 Q56.4621 623.225 57.1941 626.121 Q57.9262 629.017 59.3903 631.691 L53.9795 631.691 Q52.7381 628.476 52.1334 625.453 Q51.4968 622.429 51.4968 619.564 Q51.4968 611.83 55.5072 608.011 Q59.5176 604.191 67.6657 604.191 Z\" fill=\"#000000\" fill-rule=\"evenodd\" fill-opacity=\"1\" /><path clip-path=\"url(#clip000)\" d=\"M 0 0 M42.2347 592.255 L52.3562 592.255 L52.3562 580.192 L56.9077 580.192 L56.9077 592.255 L76.2594 592.255 Q80.6199 592.255 81.8613 591.078 Q83.1026 589.868 83.1026 586.208 L83.1026 580.192 L88.0042 580.192 L88.0042 586.208 Q88.0042 592.987 85.4897 595.566 Q82.9434 598.144 76.2594 598.144 L56.9077 598.144 L56.9077 602.441 L52.3562 602.441 L52.3562 598.144 L42.2347 598.144 L42.2347 592.255 Z\" fill=\"#000000\" fill-rule=\"evenodd\" fill-opacity=\"1\" /><path clip-path=\"url(#clip000)\" d=\"M 0 0 M73.9359 574.654 L52.3562 574.654 L52.3562 568.798 L73.7131 568.798 Q78.7739 568.798 81.3202 566.824 Q83.8346 564.851 83.8346 560.904 Q83.8346 556.162 80.8109 553.425 Q77.7872 550.656 72.5673 550.656 L52.3562 550.656 L52.3562 544.799 L88.0042 544.799 L88.0042 550.656 L82.5296 550.656 Q85.7762 552.788 87.3676 555.621 Q88.9272 558.422 88.9272 562.146 Q88.9272 568.289 85.1078 571.471 Q81.2883 574.654 73.9359 574.654 M51.4968 559.918 L51.4968 559.918 Z\" fill=\"#000000\" fill-rule=\"evenodd\" fill-opacity=\"1\" /><path clip-path=\"url(#clip000)\" d=\"M 0 0 M57.8307 517.999 Q57.2578 518.986 57.0032 520.164 Q56.7167 521.31 56.7167 522.71 Q56.7167 527.675 59.9632 530.349 Q63.1779 532.991 69.2253 532.991 L88.0042 532.991 L88.0042 538.879 L52.3562 538.879 L52.3562 532.991 L57.8944 532.991 Q54.6479 531.145 53.0883 528.185 Q51.4968 525.225 51.4968 520.991 Q51.4968 520.387 51.5923 519.655 Q51.656 518.922 51.8151 518.031 L57.8307 517.999 Z\" fill=\"#000000\" fill-rule=\"evenodd\" fill-opacity=\"1\" /><path clip-path=\"url(#clip000)\" d=\"M 0 0 M68.7161 482.797 L71.5806 482.797 L71.5806 509.724 Q77.6281 509.342 80.8109 506.096 Q83.9619 502.817 83.9619 496.993 Q83.9619 493.619 83.1344 490.468 Q82.3069 487.285 80.6518 484.166 L86.1899 484.166 Q87.5267 487.317 88.227 490.627 Q88.9272 493.937 88.9272 497.343 Q88.9272 505.873 83.9619 510.87 Q78.9967 515.835 70.5303 515.835 Q61.7774 515.835 56.6531 511.124 Q51.4968 506.382 51.4968 498.361 Q51.4968 491.168 56.1438 486.998 Q60.7589 482.797 68.7161 482.797 M66.9973 488.654 Q62.1912 488.717 59.3266 491.359 Q56.4621 493.969 56.4621 498.298 Q56.4621 503.199 59.2312 506.159 Q62.0002 509.087 67.0292 509.533 L66.9973 488.654 Z\" fill=\"#000000\" fill-rule=\"evenodd\" fill-opacity=\"1\" /><path clip-path=\"url(#clip000)\" d=\"M 0 0 M38.5426 462.586 Q45.8632 466.851 53.0246 468.92 Q60.186 470.989 67.5384 470.989 Q74.8908 470.989 82.1159 468.92 Q89.3091 466.819 96.5979 462.586 L96.5979 467.679 Q89.1182 472.453 81.8931 474.84 Q74.668 477.195 67.5384 477.195 Q60.4406 477.195 53.2474 474.84 Q46.0542 472.485 38.5426 467.679 L38.5426 462.586 Z\" fill=\"#000000\" fill-rule=\"evenodd\" fill-opacity=\"1\" /><path clip-path=\"url(#clip000)\" d=\"M 0 0 M44.1444 420.604 L50.9239 420.604 Q47.9002 423.851 46.4043 427.543 Q44.9083 431.203 44.9083 435.341 Q44.9083 443.489 49.9054 447.818 Q54.8707 452.146 64.2919 452.146 Q73.6813 452.146 78.6784 447.818 Q83.6436 443.489 83.6436 435.341 Q83.6436 431.203 82.1477 427.543 Q80.6518 423.851 77.6281 420.604 L84.3439 420.604 Q86.6355 423.978 87.7814 427.766 Q88.9272 431.521 88.9272 435.723 Q88.9272 446.513 82.3387 452.719 Q75.7183 458.926 64.2919 458.926 Q52.8336 458.926 46.2451 452.719 Q39.6248 446.513 39.6248 435.723 Q39.6248 431.458 40.7706 427.702 Q41.8846 423.914 44.1444 420.604 Z\" fill=\"#000000\" fill-rule=\"evenodd\" fill-opacity=\"1\" /><path clip-path=\"url(#clip000)\" d=\"M 0 0 M38.5426 415.384 L38.5426 410.292 Q46.0542 405.517 53.2474 403.162 Q60.4406 400.775 67.5384 400.775 Q74.668 400.775 81.8931 403.162 Q89.1182 405.517 96.5979 410.292 L96.5979 415.384 Q89.3091 411.151 82.1159 409.082 Q74.8908 406.982 67.5384 406.982 Q60.186 406.982 53.0246 409.082 Q45.8632 411.151 38.5426 415.384 Z\" fill=\"#000000\" fill-rule=\"evenodd\" fill-opacity=\"1\" /><polyline clip-path=\"url(#clip002)\" style=\"stroke:#009af9; stroke-width:4; stroke-opacity:1; fill:none\" points=\"\n",
       "  320.516,1372.3 2206.59,1280.41 1636.38,1004.74 2075,637.18 2276.77,361.509 2293.56,85.838 \n",
       "  \"/>\n",
       "<circle clip-path=\"url(#clip002)\" cx=\"320.516\" cy=\"1372.3\" r=\"14\" fill=\"#e26f46\" fill-rule=\"evenodd\" fill-opacity=\"1\" stroke=\"#000000\" stroke-opacity=\"1\" stroke-width=\"3.2\"/>\n",
       "<circle clip-path=\"url(#clip002)\" cx=\"2206.59\" cy=\"1280.41\" r=\"14\" fill=\"#e26f46\" fill-rule=\"evenodd\" fill-opacity=\"1\" stroke=\"#000000\" stroke-opacity=\"1\" stroke-width=\"3.2\"/>\n",
       "<circle clip-path=\"url(#clip002)\" cx=\"1636.38\" cy=\"1004.74\" r=\"14\" fill=\"#e26f46\" fill-rule=\"evenodd\" fill-opacity=\"1\" stroke=\"#000000\" stroke-opacity=\"1\" stroke-width=\"3.2\"/>\n",
       "<circle clip-path=\"url(#clip002)\" cx=\"2075\" cy=\"637.18\" r=\"14\" fill=\"#e26f46\" fill-rule=\"evenodd\" fill-opacity=\"1\" stroke=\"#000000\" stroke-opacity=\"1\" stroke-width=\"3.2\"/>\n",
       "<circle clip-path=\"url(#clip002)\" cx=\"2276.77\" cy=\"361.509\" r=\"14\" fill=\"#e26f46\" fill-rule=\"evenodd\" fill-opacity=\"1\" stroke=\"#000000\" stroke-opacity=\"1\" stroke-width=\"3.2\"/>\n",
       "<circle clip-path=\"url(#clip002)\" cx=\"2293.56\" cy=\"85.838\" r=\"14\" fill=\"#e26f46\" fill-rule=\"evenodd\" fill-opacity=\"1\" stroke=\"#000000\" stroke-opacity=\"1\" stroke-width=\"3.2\"/>\n",
       "<path clip-path=\"url(#clip000)\" d=\"\n",
       "M1926.47 274.139 L2283.04 274.139 L2283.04 92.6992 L1926.47 92.6992  Z\n",
       "  \" fill=\"#ffffff\" fill-rule=\"evenodd\" fill-opacity=\"1\"/>\n",
       "<polyline clip-path=\"url(#clip000)\" style=\"stroke:#000000; stroke-width:4; stroke-opacity:1; fill:none\" points=\"\n",
       "  1926.47,274.139 2283.04,274.139 2283.04,92.6992 1926.47,92.6992 1926.47,274.139 \n",
       "  \"/>\n",
       "<polyline clip-path=\"url(#clip000)\" style=\"stroke:#009af9; stroke-width:4; stroke-opacity:1; fill:none\" points=\"\n",
       "  1949.71,153.179 2089.14,153.179 \n",
       "  \"/>\n",
       "<path clip-path=\"url(#clip000)\" d=\"M 0 0 M2112.38 134.441 L2116.64 134.441 L2116.64 170.459 L2112.38 170.459 L2112.38 134.441 Z\" fill=\"#000000\" fill-rule=\"evenodd\" fill-opacity=\"1\" /><path clip-path=\"url(#clip000)\" d=\"M 0 0 M2121.1 144.533 L2125.36 144.533 L2125.36 170.459 L2121.1 170.459 L2121.1 144.533 M2121.1 134.441 L2125.36 134.441 L2125.36 139.834 L2121.1 139.834 L2121.1 134.441 Z\" fill=\"#000000\" fill-rule=\"evenodd\" fill-opacity=\"1\" /><path clip-path=\"url(#clip000)\" d=\"M 0 0 M2151.38 154.811 L2151.38 170.459 L2147.12 170.459 L2147.12 154.95 Q2147.12 151.269 2145.69 149.441 Q2144.25 147.612 2141.38 147.612 Q2137.93 147.612 2135.94 149.811 Q2133.95 152.01 2133.95 155.806 L2133.95 170.459 L2129.67 170.459 L2129.67 144.533 L2133.95 144.533 L2133.95 148.561 Q2135.48 146.223 2137.54 145.066 Q2139.62 143.908 2142.33 143.908 Q2146.8 143.908 2149.09 146.686 Q2151.38 149.441 2151.38 154.811 Z\" fill=\"#000000\" fill-rule=\"evenodd\" fill-opacity=\"1\" /><path clip-path=\"url(#clip000)\" d=\"M 0 0 M2178.02 156.431 L2178.02 158.515 L2158.44 158.515 Q2158.72 162.913 2161.08 165.228 Q2163.46 167.519 2167.7 167.519 Q2170.15 167.519 2172.45 166.918 Q2174.76 166.316 2177.03 165.112 L2177.03 169.14 Q2174.74 170.112 2172.33 170.621 Q2169.92 171.13 2167.45 171.13 Q2161.24 171.13 2157.61 167.519 Q2154 163.908 2154 157.751 Q2154 151.385 2157.42 147.658 Q2160.87 143.908 2166.7 143.908 Q2171.94 143.908 2174.97 147.288 Q2178.02 150.644 2178.02 156.431 M2173.76 155.181 Q2173.72 151.686 2171.8 149.603 Q2169.9 147.519 2166.75 147.519 Q2163.19 147.519 2161.03 149.533 Q2158.9 151.547 2158.58 155.205 L2173.76 155.181 Z\" fill=\"#000000\" fill-rule=\"evenodd\" fill-opacity=\"1\" /><circle clip-path=\"url(#clip000)\" cx=\"2019.42\" cy=\"213.659\" r=\"23\" fill=\"#e26f46\" fill-rule=\"evenodd\" fill-opacity=\"1\" stroke=\"#000000\" stroke-opacity=\"1\" stroke-width=\"5.12\"/>\n",
       "<path clip-path=\"url(#clip000)\" d=\"M 0 0 M2116.66 227.05 L2116.66 240.8 L2112.38 240.8 L2112.38 205.013 L2116.66 205.013 L2116.66 208.949 Q2118 206.634 2120.04 205.523 Q2122.1 204.388 2124.95 204.388 Q2129.67 204.388 2132.61 208.138 Q2135.57 211.888 2135.57 217.999 Q2135.57 224.111 2132.61 227.86 Q2129.67 231.61 2124.95 231.61 Q2122.1 231.61 2120.04 230.499 Q2118 229.365 2116.66 227.05 M2131.15 217.999 Q2131.15 213.3 2129.2 210.638 Q2127.28 207.953 2123.9 207.953 Q2120.52 207.953 2118.58 210.638 Q2116.66 213.3 2116.66 217.999 Q2116.66 222.698 2118.58 225.384 Q2120.52 228.046 2123.9 228.046 Q2127.28 228.046 2129.2 225.384 Q2131.15 222.698 2131.15 217.999 Z\" fill=\"#000000\" fill-rule=\"evenodd\" fill-opacity=\"1\" /><path clip-path=\"url(#clip000)\" d=\"M 0 0 M2150.08 207.999 Q2146.66 207.999 2144.67 210.685 Q2142.68 213.347 2142.68 217.999 Q2142.68 222.652 2144.64 225.337 Q2146.64 227.999 2150.08 227.999 Q2153.49 227.999 2155.48 225.314 Q2157.47 222.629 2157.47 217.999 Q2157.47 213.393 2155.48 210.708 Q2153.49 207.999 2150.08 207.999 M2150.08 204.388 Q2155.64 204.388 2158.81 207.999 Q2161.98 211.611 2161.98 217.999 Q2161.98 224.365 2158.81 227.999 Q2155.64 231.61 2150.08 231.61 Q2144.51 231.61 2141.33 227.999 Q2138.19 224.365 2138.19 217.999 Q2138.19 211.611 2141.33 207.999 Q2144.51 204.388 2150.08 204.388 Z\" fill=\"#000000\" fill-rule=\"evenodd\" fill-opacity=\"1\" /><path clip-path=\"url(#clip000)\" d=\"M 0 0 M2166.45 205.013 L2170.71 205.013 L2170.71 230.939 L2166.45 230.939 L2166.45 205.013 M2166.45 194.921 L2170.71 194.921 L2170.71 200.314 L2166.45 200.314 L2166.45 194.921 Z\" fill=\"#000000\" fill-rule=\"evenodd\" fill-opacity=\"1\" /><path clip-path=\"url(#clip000)\" d=\"M 0 0 M2196.73 215.291 L2196.73 230.939 L2192.47 230.939 L2192.47 215.43 Q2192.47 211.749 2191.03 209.921 Q2189.6 208.092 2186.73 208.092 Q2183.28 208.092 2181.29 210.291 Q2179.3 212.49 2179.3 216.286 L2179.3 230.939 L2175.01 230.939 L2175.01 205.013 L2179.3 205.013 L2179.3 209.041 Q2180.82 206.703 2182.88 205.546 Q2184.97 204.388 2187.68 204.388 Q2192.14 204.388 2194.44 207.166 Q2196.73 209.921 2196.73 215.291 Z\" fill=\"#000000\" fill-rule=\"evenodd\" fill-opacity=\"1\" /><path clip-path=\"url(#clip000)\" d=\"M 0 0 M2205.41 197.652 L2205.41 205.013 L2214.18 205.013 L2214.18 208.324 L2205.41 208.324 L2205.41 222.398 Q2205.41 225.569 2206.26 226.472 Q2207.14 227.374 2209.81 227.374 L2214.18 227.374 L2214.18 230.939 L2209.81 230.939 Q2204.88 230.939 2203 229.11 Q2201.13 227.259 2201.13 222.398 L2201.13 208.324 L2198 208.324 L2198 205.013 L2201.13 205.013 L2201.13 197.652 L2205.41 197.652 Z\" fill=\"#000000\" fill-rule=\"evenodd\" fill-opacity=\"1\" /><path clip-path=\"url(#clip000)\" d=\"M 0 0 M2235.18 205.777 L2235.18 209.805 Q2233.37 208.879 2231.43 208.416 Q2229.48 207.953 2227.4 207.953 Q2224.23 207.953 2222.63 208.925 Q2221.06 209.898 2221.06 211.842 Q2221.06 213.324 2222.19 214.18 Q2223.32 215.013 2226.75 215.777 L2228.21 216.101 Q2232.75 217.074 2234.64 218.856 Q2236.57 220.615 2236.57 223.786 Q2236.57 227.398 2233.69 229.504 Q2230.85 231.61 2225.85 231.61 Q2223.76 231.61 2221.5 231.194 Q2219.25 230.8 2216.75 229.99 L2216.75 225.592 Q2219.11 226.819 2221.4 227.444 Q2223.69 228.046 2225.94 228.046 Q2228.95 228.046 2230.57 227.027 Q2232.19 225.986 2232.19 224.111 Q2232.19 222.374 2231.01 221.448 Q2229.85 220.523 2225.89 219.666 L2224.41 219.319 Q2220.45 218.486 2218.69 216.773 Q2216.94 215.036 2216.94 212.027 Q2216.94 208.37 2219.53 206.379 Q2222.12 204.388 2226.89 204.388 Q2229.25 204.388 2231.33 204.736 Q2233.42 205.083 2235.18 205.777 Z\" fill=\"#000000\" fill-rule=\"evenodd\" fill-opacity=\"1\" /></svg>\n"
      ]
     },
     "execution_count": 134,
     "metadata": {},
     "output_type": "execute_result"
    }
   ],
   "source": [
    "xflip!() \n",
    "#위의 그래프를 그대로 해석하기 어렵\n",
    "#x축을 좌우 반전하여 순서를 맞춰준다"
   ]
  },
  {
   "cell_type": "code",
   "execution_count": 138,
   "metadata": {
    "collapsed": false
   },
   "outputs": [
    {
     "name": "stderr",
     "output_type": "stream",
     "text": [
      "\u001b[32m\u001b[1m  Resolving\u001b[22m\u001b[39m package versions...\n",
      "\u001b[32m\u001b[1mNo Changes\u001b[22m\u001b[39m to `~/.julia/environments/v1.5/Project.toml`\n",
      "\u001b[32m\u001b[1mNo Changes\u001b[22m\u001b[39m to `~/.julia/environments/v1.5/Manifest.toml`\n",
      "┌ Info: Precompiling UnicodePlots [b8865327-cd53-5732-bb35-84acbb429228]\n",
      "└ @ Base loading.jl:1278\n"
     ]
    },
    {
     "data": {
      "text/plain": [
       "Plots.UnicodePlotsBackend()"
      ]
     },
     "execution_count": 138,
     "metadata": {},
     "output_type": "execute_result"
    }
   ],
   "source": [
    "Pkg.add(\"UnicodePlots\")\n",
    "unicodeplots()"
   ]
  },
  {
   "cell_type": "code",
   "execution_count": null,
   "metadata": {
    "collapsed": false
   },
   "outputs": [],
   "source": [
    "plot(numpirates, globaltemperatures, label=\"line\")\n",
    "scatter!(numpirates, globaltemperatures, label = \"points\")\n",
    "xlabel!(\"Number of Pirates [Approximate]\")\n",
    "ylabel!(\"Global Temperature(C)\")"
   ]
  },
  {
   "cell_type": "code",
   "execution_count": null,
   "metadata": {
    "collapsed": true
   },
   "outputs": [],
   "source": []
  }
 ],
 "metadata": {
  "anaconda-cloud": {},
  "kernelspec": {
   "display_name": "Julia 1.5.2",
   "language": "julia",
   "name": "julia-1.5"
  },
  "language_info": {
   "file_extension": ".jl",
   "mimetype": "application/julia",
   "name": "julia",
   "version": "1.5.2"
  }
 },
 "nbformat": 4,
 "nbformat_minor": 4
}
